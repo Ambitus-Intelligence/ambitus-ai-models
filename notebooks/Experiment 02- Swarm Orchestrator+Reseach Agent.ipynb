{
 "cells": [
  {
   "cell_type": "markdown",
   "metadata": {},
   "source": [
    "# **EXPERIMENT 2: Use Swarm + Haystack to test Multi-Agentic Environment**"
   ]
  },
  {
   "cell_type": "markdown",
   "metadata": {},
   "source": [
    "# 1. Introduction\n",
    "- This experiment is designed to test the multi-agentic environment of the Swarm + Haystack framework.\n",
    "\n",
    "## Tasks\n",
    "- Implement Sample Orchestrator and Research Agent.\n",
    "- Test Basic Tooling.\n",
    "- Understand feasibility of work in using Swarm.\n",
    "- Test if Swarm locks to OpenAI LLMs."
   ]
  },
  {
   "cell_type": "markdown",
   "metadata": {},
   "source": [
    "# 2. Setup Phase"
   ]
  },
  {
   "cell_type": "code",
   "execution_count": 1,
   "metadata": {
    "cell_id": "a2d2658c05874501a9c8c0c26df2f26f",
    "deepnote_cell_type": "code",
    "execution_context_id": "16acbe02-8077-40f0-8815-ab181b205957",
    "execution_millis": 7033,
    "execution_start": 1738179692989,
    "source_hash": "2cd88fe3"
   },
   "outputs": [
    {
     "name": "stdout",
     "output_type": "stream",
     "text": [
      "Requirement already satisfied: openai in c:\\users\\angel\\documents\\github\\ambitus-ai-models\\.conda\\lib\\site-packages (1.68.2)\n",
      "Requirement already satisfied: haystack-ai in c:\\users\\angel\\documents\\github\\ambitus-ai-models\\.conda\\lib\\site-packages (2.11.2)\n",
      "Requirement already satisfied: duckduckgo-api-haystack in c:\\users\\angel\\documents\\github\\ambitus-ai-models\\.conda\\lib\\site-packages (0.1.14)\n",
      "Requirement already satisfied: python-dotenv in c:\\users\\angel\\documents\\github\\ambitus-ai-models\\.conda\\lib\\site-packages (1.1.0)\n",
      "Requirement already satisfied: jsonschema in c:\\users\\angel\\documents\\github\\ambitus-ai-models\\.conda\\lib\\site-packages (4.23.0)\n",
      "Collecting trafilatura\n",
      "  Downloading trafilatura-2.0.0-py3-none-any.whl.metadata (12 kB)\n",
      "Requirement already satisfied: anyio<5,>=3.5.0 in c:\\users\\angel\\documents\\github\\ambitus-ai-models\\.conda\\lib\\site-packages (from openai) (4.9.0)\n",
      "Requirement already satisfied: distro<2,>=1.7.0 in c:\\users\\angel\\documents\\github\\ambitus-ai-models\\.conda\\lib\\site-packages (from openai) (1.9.0)\n",
      "Requirement already satisfied: httpx<1,>=0.23.0 in c:\\users\\angel\\documents\\github\\ambitus-ai-models\\.conda\\lib\\site-packages (from openai) (0.28.1)\n",
      "Requirement already satisfied: jiter<1,>=0.4.0 in c:\\users\\angel\\documents\\github\\ambitus-ai-models\\.conda\\lib\\site-packages (from openai) (0.9.0)\n",
      "Requirement already satisfied: pydantic<3,>=1.9.0 in c:\\users\\angel\\documents\\github\\ambitus-ai-models\\.conda\\lib\\site-packages (from openai) (2.10.6)\n",
      "Requirement already satisfied: sniffio in c:\\users\\angel\\documents\\github\\ambitus-ai-models\\.conda\\lib\\site-packages (from openai) (1.3.1)\n",
      "Requirement already satisfied: tqdm>4 in c:\\users\\angel\\documents\\github\\ambitus-ai-models\\.conda\\lib\\site-packages (from openai) (4.67.1)\n",
      "Requirement already satisfied: typing-extensions<5,>=4.11 in c:\\users\\angel\\documents\\github\\ambitus-ai-models\\.conda\\lib\\site-packages (from openai) (4.12.2)\n",
      "Requirement already satisfied: haystack-experimental in c:\\users\\angel\\documents\\github\\ambitus-ai-models\\.conda\\lib\\site-packages (from haystack-ai) (0.8.0)\n",
      "Requirement already satisfied: jinja2 in c:\\users\\angel\\documents\\github\\ambitus-ai-models\\.conda\\lib\\site-packages (from haystack-ai) (3.1.6)\n",
      "Requirement already satisfied: lazy-imports in c:\\users\\angel\\documents\\github\\ambitus-ai-models\\.conda\\lib\\site-packages (from haystack-ai) (0.4.0)\n",
      "Requirement already satisfied: more-itertools in c:\\users\\angel\\documents\\github\\ambitus-ai-models\\.conda\\lib\\site-packages (from haystack-ai) (10.6.0)\n",
      "Requirement already satisfied: networkx in c:\\users\\angel\\documents\\github\\ambitus-ai-models\\.conda\\lib\\site-packages (from haystack-ai) (3.4.2)\n",
      "Requirement already satisfied: numpy in c:\\users\\angel\\documents\\github\\ambitus-ai-models\\.conda\\lib\\site-packages (from haystack-ai) (2.2.4)\n",
      "Requirement already satisfied: posthog!=3.12.0 in c:\\users\\angel\\documents\\github\\ambitus-ai-models\\.conda\\lib\\site-packages (from haystack-ai) (3.21.0)\n",
      "Requirement already satisfied: python-dateutil in c:\\users\\angel\\documents\\github\\ambitus-ai-models\\.conda\\lib\\site-packages (from haystack-ai) (2.9.0.post0)\n",
      "Requirement already satisfied: pyyaml in c:\\users\\angel\\documents\\github\\ambitus-ai-models\\.conda\\lib\\site-packages (from haystack-ai) (6.0.2)\n",
      "Requirement already satisfied: requests in c:\\users\\angel\\documents\\github\\ambitus-ai-models\\.conda\\lib\\site-packages (from haystack-ai) (2.32.3)\n",
      "Requirement already satisfied: tenacity!=8.4.0 in c:\\users\\angel\\documents\\github\\ambitus-ai-models\\.conda\\lib\\site-packages (from haystack-ai) (9.0.0)\n",
      "Requirement already satisfied: duckduckgo-search in c:\\users\\angel\\documents\\github\\ambitus-ai-models\\.conda\\lib\\site-packages (from duckduckgo-api-haystack) (7.5.3)\n",
      "Requirement already satisfied: attrs>=22.2.0 in c:\\users\\angel\\documents\\github\\ambitus-ai-models\\.conda\\lib\\site-packages (from jsonschema) (25.3.0)\n",
      "Requirement already satisfied: jsonschema-specifications>=2023.03.6 in c:\\users\\angel\\documents\\github\\ambitus-ai-models\\.conda\\lib\\site-packages (from jsonschema) (2024.10.1)\n",
      "Requirement already satisfied: referencing>=0.28.4 in c:\\users\\angel\\documents\\github\\ambitus-ai-models\\.conda\\lib\\site-packages (from jsonschema) (0.36.2)\n",
      "Requirement already satisfied: rpds-py>=0.7.1 in c:\\users\\angel\\documents\\github\\ambitus-ai-models\\.conda\\lib\\site-packages (from jsonschema) (0.23.1)\n",
      "Requirement already satisfied: certifi in c:\\users\\angel\\documents\\github\\ambitus-ai-models\\.conda\\lib\\site-packages (from trafilatura) (2025.1.31)\n",
      "Requirement already satisfied: charset_normalizer>=3.4.0 in c:\\users\\angel\\documents\\github\\ambitus-ai-models\\.conda\\lib\\site-packages (from trafilatura) (3.4.1)\n",
      "Collecting courlan>=1.3.2 (from trafilatura)\n",
      "  Downloading courlan-1.3.2-py3-none-any.whl.metadata (17 kB)\n",
      "Collecting htmldate>=1.9.2 (from trafilatura)\n",
      "  Downloading htmldate-1.9.3-py3-none-any.whl.metadata (10 kB)\n",
      "Collecting justext>=3.0.1 (from trafilatura)\n",
      "  Downloading justext-3.0.2-py2.py3-none-any.whl.metadata (7.3 kB)\n",
      "Requirement already satisfied: lxml>=5.3.0 in c:\\users\\angel\\documents\\github\\ambitus-ai-models\\.conda\\lib\\site-packages (from trafilatura) (5.3.1)\n",
      "Requirement already satisfied: urllib3<3,>=1.26 in c:\\users\\angel\\documents\\github\\ambitus-ai-models\\.conda\\lib\\site-packages (from trafilatura) (2.3.0)\n",
      "Requirement already satisfied: idna>=2.8 in c:\\users\\angel\\documents\\github\\ambitus-ai-models\\.conda\\lib\\site-packages (from anyio<5,>=3.5.0->openai) (3.10)\n",
      "Collecting babel>=2.16.0 (from courlan>=1.3.2->trafilatura)\n",
      "  Downloading babel-2.17.0-py3-none-any.whl.metadata (2.0 kB)\n",
      "Collecting tld>=0.13 (from courlan>=1.3.2->trafilatura)\n",
      "  Downloading tld-0.13-py2.py3-none-any.whl.metadata (9.4 kB)\n",
      "Collecting dateparser>=1.1.2 (from htmldate>=1.9.2->trafilatura)\n",
      "  Downloading dateparser-1.2.1-py3-none-any.whl.metadata (29 kB)\n",
      "Requirement already satisfied: httpcore==1.* in c:\\users\\angel\\documents\\github\\ambitus-ai-models\\.conda\\lib\\site-packages (from httpx<1,>=0.23.0->openai) (1.0.7)\n",
      "Requirement already satisfied: h11<0.15,>=0.13 in c:\\users\\angel\\documents\\github\\ambitus-ai-models\\.conda\\lib\\site-packages (from httpcore==1.*->httpx<1,>=0.23.0->openai) (0.14.0)\n",
      "Requirement already satisfied: six>=1.5 in c:\\users\\angel\\documents\\github\\ambitus-ai-models\\.conda\\lib\\site-packages (from posthog!=3.12.0->haystack-ai) (1.16.0)\n",
      "Requirement already satisfied: monotonic>=1.5 in c:\\users\\angel\\documents\\github\\ambitus-ai-models\\.conda\\lib\\site-packages (from posthog!=3.12.0->haystack-ai) (1.6)\n",
      "Requirement already satisfied: backoff>=1.10.0 in c:\\users\\angel\\documents\\github\\ambitus-ai-models\\.conda\\lib\\site-packages (from posthog!=3.12.0->haystack-ai) (2.2.1)\n",
      "Requirement already satisfied: annotated-types>=0.6.0 in c:\\users\\angel\\documents\\github\\ambitus-ai-models\\.conda\\lib\\site-packages (from pydantic<3,>=1.9.0->openai) (0.7.0)\n",
      "Requirement already satisfied: pydantic-core==2.27.2 in c:\\users\\angel\\documents\\github\\ambitus-ai-models\\.conda\\lib\\site-packages (from pydantic<3,>=1.9.0->openai) (2.27.2)\n",
      "Requirement already satisfied: colorama in c:\\users\\angel\\documents\\github\\ambitus-ai-models\\.conda\\lib\\site-packages (from tqdm>4->openai) (0.4.6)\n",
      "Requirement already satisfied: click>=8.1.8 in c:\\users\\angel\\documents\\github\\ambitus-ai-models\\.conda\\lib\\site-packages (from duckduckgo-search->duckduckgo-api-haystack) (8.1.8)\n",
      "Requirement already satisfied: primp>=0.14.0 in c:\\users\\angel\\documents\\github\\ambitus-ai-models\\.conda\\lib\\site-packages (from duckduckgo-search->duckduckgo-api-haystack) (0.14.0)\n",
      "Requirement already satisfied: MarkupSafe>=2.0 in c:\\users\\angel\\documents\\github\\ambitus-ai-models\\.conda\\lib\\site-packages (from jinja2->haystack-ai) (3.0.2)\n",
      "Collecting pytz>=2024.2 (from dateparser>=1.1.2->htmldate>=1.9.2->trafilatura)\n",
      "  Downloading pytz-2025.2-py2.py3-none-any.whl.metadata (22 kB)\n",
      "Collecting regex!=2019.02.19,!=2021.8.27,>=2015.06.24 (from dateparser>=1.1.2->htmldate>=1.9.2->trafilatura)\n",
      "  Downloading regex-2024.11.6-cp312-cp312-win_amd64.whl.metadata (41 kB)\n",
      "Collecting tzlocal>=0.2 (from dateparser>=1.1.2->htmldate>=1.9.2->trafilatura)\n",
      "  Downloading tzlocal-5.3.1-py3-none-any.whl.metadata (7.6 kB)\n",
      "Collecting lxml_html_clean (from lxml[html_clean]>=4.4.2->justext>=3.0.1->trafilatura)\n",
      "  Downloading lxml_html_clean-0.4.1-py3-none-any.whl.metadata (2.4 kB)\n",
      "Collecting tzdata (from tzlocal>=0.2->dateparser>=1.1.2->htmldate>=1.9.2->trafilatura)\n",
      "  Downloading tzdata-2025.2-py2.py3-none-any.whl.metadata (1.4 kB)\n",
      "Downloading trafilatura-2.0.0-py3-none-any.whl (132 kB)\n",
      "Downloading courlan-1.3.2-py3-none-any.whl (33 kB)\n",
      "Downloading htmldate-1.9.3-py3-none-any.whl (31 kB)\n",
      "Downloading justext-3.0.2-py2.py3-none-any.whl (837 kB)\n",
      "   ---------------------------------------- 0.0/837.9 kB ? eta -:--:--\n",
      "   ---------------------------------------- 0.0/837.9 kB ? eta -:--:--\n",
      "   ---------------------------------------- 0.0/837.9 kB ? eta -:--:--\n",
      "   ---------------------------------------- 0.0/837.9 kB ? eta -:--:--\n",
      "   ---------------------------------------- 0.0/837.9 kB ? eta -:--:--\n",
      "   ---------------------------------------- 0.0/837.9 kB ? eta -:--:--\n",
      "   ------------ --------------------------- 262.1/837.9 kB ? eta -:--:--\n",
      "   ------------ --------------------------- 262.1/837.9 kB ? eta -:--:--\n",
      "   ------------ --------------------------- 262.1/837.9 kB ? eta -:--:--\n",
      "   ------------ --------------------------- 262.1/837.9 kB ? eta -:--:--\n",
      "   ------------ --------------------------- 262.1/837.9 kB ? eta -:--:--\n",
      "   ------------ --------------------------- 262.1/837.9 kB ? eta -:--:--\n",
      "   ------------ --------------------------- 262.1/837.9 kB ? eta -:--:--\n",
      "   ------------ --------------------------- 262.1/837.9 kB ? eta -:--:--\n",
      "   ------------ --------------------------- 262.1/837.9 kB ? eta -:--:--\n",
      "   ------------ --------------------------- 262.1/837.9 kB ? eta -:--:--\n",
      "   ------------ --------------------------- 262.1/837.9 kB ? eta -:--:--\n",
      "   ------------ --------------------------- 262.1/837.9 kB ? eta -:--:--\n",
      "   ------------ --------------------------- 262.1/837.9 kB ? eta -:--:--\n",
      "   ------------ --------------------------- 262.1/837.9 kB ? eta -:--:--\n",
      "   ------------ --------------------------- 262.1/837.9 kB ? eta -:--:--\n",
      "   ------------ --------------------------- 262.1/837.9 kB ? eta -:--:--\n",
      "   ------------------------ -------------- 524.3/837.9 kB 76.2 kB/s eta 0:00:05\n",
      "   ------------------------ -------------- 524.3/837.9 kB 76.2 kB/s eta 0:00:05\n",
      "   ------------------------ -------------- 524.3/837.9 kB 76.2 kB/s eta 0:00:05\n",
      "   ------------------------ -------------- 524.3/837.9 kB 76.2 kB/s eta 0:00:05\n",
      "   ------------------------ -------------- 524.3/837.9 kB 76.2 kB/s eta 0:00:05\n",
      "   ------------------------ -------------- 524.3/837.9 kB 76.2 kB/s eta 0:00:05\n",
      "   ------------------------ -------------- 524.3/837.9 kB 76.2 kB/s eta 0:00:05\n",
      "   ----------------------------------- -- 786.4/837.9 kB 108.2 kB/s eta 0:00:01\n",
      "   -------------------------------------- 837.9/837.9 kB 112.0 kB/s eta 0:00:00\n",
      "Downloading babel-2.17.0-py3-none-any.whl (10.2 MB)\n",
      "   ---------------------------------------- 0.0/10.2 MB ? eta -:--:--\n",
      "   ---------------------------------------- 0.0/10.2 MB ? eta -:--:--\n",
      "   ---------------------------------------- 0.0/10.2 MB ? eta -:--:--\n",
      "   ---------------------------------------- 0.0/10.2 MB ? eta -:--:--\n",
      "   ---------------------------------------- 0.0/10.2 MB ? eta -:--:--\n",
      "   ---------------------------------------- 0.0/10.2 MB ? eta -:--:--\n",
      "   ---------------------------------------- 0.0/10.2 MB ? eta -:--:--\n",
      "   - -------------------------------------- 0.3/10.2 MB ? eta -:--:--\n",
      "   - -------------------------------------- 0.3/10.2 MB ? eta -:--:--\n",
      "   - -------------------------------------- 0.3/10.2 MB ? eta -:--:--\n",
      "   - -------------------------------------- 0.3/10.2 MB ? eta -:--:--\n",
      "   - -------------------------------------- 0.3/10.2 MB ? eta -:--:--\n",
      "   - -------------------------------------- 0.3/10.2 MB ? eta -:--:--\n",
      "   - -------------------------------------- 0.3/10.2 MB ? eta -:--:--\n",
      "   -- ------------------------------------- 0.5/10.2 MB 188.6 kB/s eta 0:00:52\n",
      "   -- ------------------------------------- 0.5/10.2 MB 188.6 kB/s eta 0:00:52\n",
      "   -- ------------------------------------- 0.5/10.2 MB 188.6 kB/s eta 0:00:52\n",
      "   -- ------------------------------------- 0.5/10.2 MB 188.6 kB/s eta 0:00:52\n",
      "   -- ------------------------------------- 0.5/10.2 MB 188.6 kB/s eta 0:00:52\n",
      "   -- ------------------------------------- 0.5/10.2 MB 188.6 kB/s eta 0:00:52\n",
      "   -- ------------------------------------- 0.5/10.2 MB 188.6 kB/s eta 0:00:52\n",
      "   -- ------------------------------------- 0.5/10.2 MB 188.6 kB/s eta 0:00:52\n",
      "   -- ------------------------------------- 0.5/10.2 MB 188.6 kB/s eta 0:00:52\n",
      "   --- ------------------------------------ 0.8/10.2 MB 159.0 kB/s eta 0:01:00\n",
      "   --- ------------------------------------ 0.8/10.2 MB 159.0 kB/s eta 0:01:00\n",
      "   --- ------------------------------------ 0.8/10.2 MB 159.0 kB/s eta 0:01:00\n",
      "   ---- ----------------------------------- 1.0/10.2 MB 195.1 kB/s eta 0:00:47\n",
      "   ---- ----------------------------------- 1.0/10.2 MB 195.1 kB/s eta 0:00:47\n",
      "   ---- ----------------------------------- 1.0/10.2 MB 195.1 kB/s eta 0:00:47\n",
      "   ----- ---------------------------------- 1.3/10.2 MB 233.0 kB/s eta 0:00:39\n",
      "   ----- ---------------------------------- 1.3/10.2 MB 233.0 kB/s eta 0:00:39\n",
      "   ----- ---------------------------------- 1.3/10.2 MB 233.0 kB/s eta 0:00:39\n",
      "   ----- ---------------------------------- 1.3/10.2 MB 233.0 kB/s eta 0:00:39\n",
      "   ------ --------------------------------- 1.6/10.2 MB 237.7 kB/s eta 0:00:37\n",
      "   ------ --------------------------------- 1.6/10.2 MB 237.7 kB/s eta 0:00:37\n",
      "   ------ --------------------------------- 1.6/10.2 MB 237.7 kB/s eta 0:00:37\n",
      "   ------ --------------------------------- 1.6/10.2 MB 237.7 kB/s eta 0:00:37\n",
      "   ------ --------------------------------- 1.6/10.2 MB 237.7 kB/s eta 0:00:37\n",
      "   ------ --------------------------------- 1.6/10.2 MB 237.7 kB/s eta 0:00:37\n",
      "   ------- -------------------------------- 1.8/10.2 MB 235.7 kB/s eta 0:00:36\n",
      "   ------- -------------------------------- 1.8/10.2 MB 235.7 kB/s eta 0:00:36\n",
      "   ------- -------------------------------- 1.8/10.2 MB 235.7 kB/s eta 0:00:36\n",
      "   ------- -------------------------------- 1.8/10.2 MB 235.7 kB/s eta 0:00:36\n",
      "   ------- -------------------------------- 1.8/10.2 MB 235.7 kB/s eta 0:00:36\n",
      "   -------- ------------------------------- 2.1/10.2 MB 236.8 kB/s eta 0:00:35\n",
      "   -------- ------------------------------- 2.1/10.2 MB 236.8 kB/s eta 0:00:35\n",
      "   -------- ------------------------------- 2.1/10.2 MB 236.8 kB/s eta 0:00:35\n",
      "   -------- ------------------------------- 2.1/10.2 MB 236.8 kB/s eta 0:00:35\n",
      "   -------- ------------------------------- 2.1/10.2 MB 236.8 kB/s eta 0:00:35\n",
      "   -------- ------------------------------- 2.1/10.2 MB 236.8 kB/s eta 0:00:35\n",
      "   --------- ------------------------------ 2.4/10.2 MB 231.4 kB/s eta 0:00:34\n",
      "   --------- ------------------------------ 2.4/10.2 MB 231.4 kB/s eta 0:00:34\n",
      "   --------- ------------------------------ 2.4/10.2 MB 231.4 kB/s eta 0:00:34\n",
      "   --------- ------------------------------ 2.4/10.2 MB 231.4 kB/s eta 0:00:34\n",
      "   --------- ------------------------------ 2.4/10.2 MB 231.4 kB/s eta 0:00:34\n",
      "   ---------- ----------------------------- 2.6/10.2 MB 238.6 kB/s eta 0:00:32\n",
      "   ---------- ----------------------------- 2.6/10.2 MB 238.6 kB/s eta 0:00:32\n",
      "   ---------- ----------------------------- 2.6/10.2 MB 238.6 kB/s eta 0:00:32\n",
      "   ---------- ----------------------------- 2.6/10.2 MB 238.6 kB/s eta 0:00:32\n",
      "   ---------- ----------------------------- 2.6/10.2 MB 238.6 kB/s eta 0:00:32\n",
      "   ----------- ---------------------------- 2.9/10.2 MB 240.0 kB/s eta 0:00:31\n",
      "   ----------- ---------------------------- 2.9/10.2 MB 240.0 kB/s eta 0:00:31\n",
      "   ----------- ---------------------------- 2.9/10.2 MB 240.0 kB/s eta 0:00:31\n",
      "   ----------- ---------------------------- 2.9/10.2 MB 240.0 kB/s eta 0:00:31\n",
      "   ----------- ---------------------------- 2.9/10.2 MB 240.0 kB/s eta 0:00:31\n",
      "   ------------ --------------------------- 3.1/10.2 MB 238.7 kB/s eta 0:00:30\n",
      "   ------------ --------------------------- 3.1/10.2 MB 238.7 kB/s eta 0:00:30\n",
      "   ------------ --------------------------- 3.1/10.2 MB 238.7 kB/s eta 0:00:30\n",
      "   ------------ --------------------------- 3.1/10.2 MB 238.7 kB/s eta 0:00:30\n",
      "   ------------- -------------------------- 3.4/10.2 MB 243.2 kB/s eta 0:00:28\n",
      "   ------------- -------------------------- 3.4/10.2 MB 243.2 kB/s eta 0:00:28\n",
      "   ------------- -------------------------- 3.4/10.2 MB 243.2 kB/s eta 0:00:28\n",
      "   ------------- -------------------------- 3.4/10.2 MB 243.2 kB/s eta 0:00:28\n",
      "   ------------- -------------------------- 3.4/10.2 MB 243.2 kB/s eta 0:00:28\n",
      "   ------------- -------------------------- 3.4/10.2 MB 243.2 kB/s eta 0:00:28\n",
      "   ------------- -------------------------- 3.4/10.2 MB 243.2 kB/s eta 0:00:28\n",
      "   ------------- -------------------------- 3.4/10.2 MB 243.2 kB/s eta 0:00:28\n",
      "   ------------- -------------------------- 3.4/10.2 MB 243.2 kB/s eta 0:00:28\n",
      "   -------------- ------------------------- 3.7/10.2 MB 229.8 kB/s eta 0:00:29\n",
      "   -------------- ------------------------- 3.7/10.2 MB 229.8 kB/s eta 0:00:29\n",
      "   -------------- ------------------------- 3.7/10.2 MB 229.8 kB/s eta 0:00:29\n",
      "   --------------- ------------------------ 3.9/10.2 MB 237.5 kB/s eta 0:00:27\n",
      "   --------------- ------------------------ 3.9/10.2 MB 237.5 kB/s eta 0:00:27\n",
      "   ---------------- ----------------------- 4.2/10.2 MB 246.7 kB/s eta 0:00:25\n",
      "   ---------------- ----------------------- 4.2/10.2 MB 246.7 kB/s eta 0:00:25\n",
      "   ---------------- ----------------------- 4.2/10.2 MB 246.7 kB/s eta 0:00:25\n",
      "   ---------------- ----------------------- 4.2/10.2 MB 246.7 kB/s eta 0:00:25\n",
      "   ----------------- ---------------------- 4.5/10.2 MB 251.4 kB/s eta 0:00:23\n",
      "   ----------------- ---------------------- 4.5/10.2 MB 251.4 kB/s eta 0:00:23\n",
      "   ------------------ --------------------- 4.7/10.2 MB 259.5 kB/s eta 0:00:22\n",
      "   ------------------ --------------------- 4.7/10.2 MB 259.5 kB/s eta 0:00:22\n",
      "   ------------------ --------------------- 4.7/10.2 MB 259.5 kB/s eta 0:00:22\n",
      "   ------------------ --------------------- 4.7/10.2 MB 259.5 kB/s eta 0:00:22\n",
      "   ------------------ --------------------- 4.7/10.2 MB 259.5 kB/s eta 0:00:22\n",
      "   ------------------- -------------------- 5.0/10.2 MB 261.2 kB/s eta 0:00:20\n",
      "   ------------------- -------------------- 5.0/10.2 MB 261.2 kB/s eta 0:00:20\n",
      "   -------------------- ------------------- 5.2/10.2 MB 267.4 kB/s eta 0:00:19\n",
      "   -------------------- ------------------- 5.2/10.2 MB 267.4 kB/s eta 0:00:19\n",
      "   -------------------- ------------------- 5.2/10.2 MB 267.4 kB/s eta 0:00:19\n",
      "   --------------------- ------------------ 5.5/10.2 MB 272.4 kB/s eta 0:00:18\n",
      "   --------------------- ------------------ 5.5/10.2 MB 272.4 kB/s eta 0:00:18\n",
      "   --------------------- ------------------ 5.5/10.2 MB 272.4 kB/s eta 0:00:18\n",
      "   --------------------- ------------------ 5.5/10.2 MB 272.4 kB/s eta 0:00:18\n",
      "   --------------------- ------------------ 5.5/10.2 MB 272.4 kB/s eta 0:00:18\n",
      "   ---------------------- ----------------- 5.8/10.2 MB 273.3 kB/s eta 0:00:17\n",
      "   ---------------------- ----------------- 5.8/10.2 MB 273.3 kB/s eta 0:00:17\n",
      "   ---------------------- ----------------- 5.8/10.2 MB 273.3 kB/s eta 0:00:17\n",
      "   ----------------------- ---------------- 6.0/10.2 MB 276.1 kB/s eta 0:00:16\n",
      "   ----------------------- ---------------- 6.0/10.2 MB 276.1 kB/s eta 0:00:16\n",
      "   ----------------------- ---------------- 6.0/10.2 MB 276.1 kB/s eta 0:00:16\n",
      "   ----------------------- ---------------- 6.0/10.2 MB 276.1 kB/s eta 0:00:16\n",
      "   ----------------------- ---------------- 6.0/10.2 MB 276.1 kB/s eta 0:00:16\n",
      "   ------------------------ --------------- 6.3/10.2 MB 276.4 kB/s eta 0:00:15\n",
      "   ------------------------ --------------- 6.3/10.2 MB 276.4 kB/s eta 0:00:15\n",
      "   ------------------------- -------------- 6.6/10.2 MB 281.4 kB/s eta 0:00:13\n",
      "   ------------------------- -------------- 6.6/10.2 MB 281.4 kB/s eta 0:00:13\n",
      "   ------------------------- -------------- 6.6/10.2 MB 281.4 kB/s eta 0:00:13\n",
      "   ------------------------- -------------- 6.6/10.2 MB 281.4 kB/s eta 0:00:13\n",
      "   -------------------------- ------------- 6.8/10.2 MB 282.1 kB/s eta 0:00:12\n",
      "   -------------------------- ------------- 6.8/10.2 MB 282.1 kB/s eta 0:00:12\n",
      "   -------------------------- ------------- 6.8/10.2 MB 282.1 kB/s eta 0:00:12\n",
      "   -------------------------- ------------- 6.8/10.2 MB 282.1 kB/s eta 0:00:12\n",
      "   --------------------------- ------------ 7.1/10.2 MB 284.2 kB/s eta 0:00:11\n",
      "   --------------------------- ------------ 7.1/10.2 MB 284.2 kB/s eta 0:00:11\n",
      "   --------------------------- ------------ 7.1/10.2 MB 284.2 kB/s eta 0:00:11\n",
      "   --------------------------- ------------ 7.1/10.2 MB 284.2 kB/s eta 0:00:11\n",
      "   --------------------------- ------------ 7.1/10.2 MB 284.2 kB/s eta 0:00:11\n",
      "   --------------------------- ------------ 7.1/10.2 MB 284.2 kB/s eta 0:00:11\n",
      "   ---------------------------- ----------- 7.3/10.2 MB 280.1 kB/s eta 0:00:11\n",
      "   ----------------------------- ---------- 7.6/10.2 MB 288.6 kB/s eta 0:00:09\n",
      "   ------------------------------ --------- 7.9/10.2 MB 296.5 kB/s eta 0:00:08\n",
      "   ------------------------------- -------- 8.1/10.2 MB 304.9 kB/s eta 0:00:07\n",
      "   -------------------------------- ------- 8.4/10.2 MB 312.2 kB/s eta 0:00:06\n",
      "   -------------------------------- ------- 8.4/10.2 MB 312.2 kB/s eta 0:00:06\n",
      "   -------------------------------- ------- 8.4/10.2 MB 312.2 kB/s eta 0:00:06\n",
      "   --------------------------------- ------ 8.7/10.2 MB 314.0 kB/s eta 0:00:05\n",
      "   --------------------------------- ------ 8.7/10.2 MB 314.0 kB/s eta 0:00:05\n",
      "   --------------------------------- ------ 8.7/10.2 MB 314.0 kB/s eta 0:00:05\n",
      "   --------------------------------- ------ 8.7/10.2 MB 314.0 kB/s eta 0:00:05\n",
      "   --------------------------------- ------ 8.7/10.2 MB 314.0 kB/s eta 0:00:05\n",
      "   --------------------------------- ------ 8.7/10.2 MB 314.0 kB/s eta 0:00:05\n",
      "   --------------------------------- ------ 8.7/10.2 MB 314.0 kB/s eta 0:00:05\n",
      "   ----------------------------------- ---- 8.9/10.2 MB 306.9 kB/s eta 0:00:05\n",
      "   ----------------------------------- ---- 8.9/10.2 MB 306.9 kB/s eta 0:00:05\n",
      "   ----------------------------------- ---- 8.9/10.2 MB 306.9 kB/s eta 0:00:05\n",
      "   ----------------------------------- ---- 8.9/10.2 MB 306.9 kB/s eta 0:00:05\n",
      "   ----------------------------------- ---- 8.9/10.2 MB 306.9 kB/s eta 0:00:05\n",
      "   ----------------------------------- ---- 8.9/10.2 MB 306.9 kB/s eta 0:00:05\n",
      "   ----------------------------------- ---- 8.9/10.2 MB 306.9 kB/s eta 0:00:05\n",
      "   ----------------------------------- ---- 8.9/10.2 MB 306.9 kB/s eta 0:00:05\n",
      "   ----------------------------------- ---- 8.9/10.2 MB 306.9 kB/s eta 0:00:05\n",
      "   ----------------------------------- ---- 8.9/10.2 MB 306.9 kB/s eta 0:00:05\n",
      "   ----------------------------------- ---- 8.9/10.2 MB 306.9 kB/s eta 0:00:05\n",
      "   ------------------------------------ --- 9.2/10.2 MB 298.3 kB/s eta 0:00:04\n",
      "   ------------------------------------ --- 9.2/10.2 MB 298.3 kB/s eta 0:00:04\n",
      "   ------------------------------------ --- 9.2/10.2 MB 298.3 kB/s eta 0:00:04\n",
      "   ------------------------------------ --- 9.2/10.2 MB 298.3 kB/s eta 0:00:04\n",
      "   ------------------------------------- -- 9.4/10.2 MB 298.8 kB/s eta 0:00:03\n",
      "   ------------------------------------- -- 9.4/10.2 MB 298.8 kB/s eta 0:00:03\n",
      "   ------------------------------------- -- 9.4/10.2 MB 298.8 kB/s eta 0:00:03\n",
      "   ------------------------------------- -- 9.4/10.2 MB 298.8 kB/s eta 0:00:03\n",
      "   ------------------------------------- -- 9.4/10.2 MB 298.8 kB/s eta 0:00:03\n",
      "   ------------------------------------- -- 9.4/10.2 MB 298.8 kB/s eta 0:00:03\n",
      "   -------------------------------------- - 9.7/10.2 MB 303.9 kB/s eta 0:00:02\n",
      "   -------------------------------------- - 9.7/10.2 MB 303.9 kB/s eta 0:00:02\n",
      "   -------------------------------------- - 9.7/10.2 MB 303.9 kB/s eta 0:00:02\n",
      "   -------------------------------------- - 9.7/10.2 MB 303.9 kB/s eta 0:00:02\n",
      "   ---------------------------------------  10.0/10.2 MB 302.8 kB/s eta 0:00:01\n",
      "   ---------------------------------------  10.0/10.2 MB 302.8 kB/s eta 0:00:01\n",
      "   ---------------------------------------  10.0/10.2 MB 302.8 kB/s eta 0:00:01\n",
      "   ---------------------------------------  10.0/10.2 MB 302.8 kB/s eta 0:00:01\n",
      "   ---------------------------------------  10.0/10.2 MB 302.8 kB/s eta 0:00:01\n",
      "   ---------------------------------------  10.0/10.2 MB 302.8 kB/s eta 0:00:01\n",
      "   ---------------------------------------  10.0/10.2 MB 302.8 kB/s eta 0:00:01\n",
      "   ---------------------------------------- 10.2/10.2 MB 292.5 kB/s eta 0:00:00\n",
      "Downloading dateparser-1.2.1-py3-none-any.whl (295 kB)\n",
      "Downloading tld-0.13-py2.py3-none-any.whl (263 kB)\n",
      "Downloading pytz-2025.2-py2.py3-none-any.whl (509 kB)\n",
      "Downloading regex-2024.11.6-cp312-cp312-win_amd64.whl (273 kB)\n",
      "Downloading tzlocal-5.3.1-py3-none-any.whl (18 kB)\n",
      "Downloading lxml_html_clean-0.4.1-py3-none-any.whl (14 kB)\n",
      "Downloading tzdata-2025.2-py2.py3-none-any.whl (347 kB)\n",
      "Installing collected packages: pytz, tzdata, tld, regex, lxml_html_clean, babel, tzlocal, courlan, justext, dateparser, htmldate, trafilatura\n",
      "Successfully installed babel-2.17.0 courlan-1.3.2 dateparser-1.2.1 htmldate-1.9.3 justext-3.0.2 lxml_html_clean-0.4.1 pytz-2025.2 regex-2024.11.6 tld-0.13 trafilatura-2.0.0 tzdata-2025.2 tzlocal-5.3.1\n"
     ]
    }
   ],
   "source": [
    "! pip install -U openai haystack-ai duckduckgo-api-haystack python-dotenv jsonschema trafilatura"
   ]
  },
  {
   "cell_type": "markdown",
   "metadata": {},
   "source": [
    "### Load `.env` file"
   ]
  },
  {
   "cell_type": "code",
   "execution_count": 2,
   "metadata": {
    "cell_id": "5b8b90cd6f004cbdb92e53a7f4439b56",
    "deepnote_cell_type": "code",
    "execution_context_id": "16acbe02-8077-40f0-8815-ab181b205957",
    "execution_millis": 1,
    "execution_start": 1738179700066,
    "source_hash": "7919a3c"
   },
   "outputs": [
    {
     "data": {
      "text/plain": [
       "True"
      ]
     },
     "execution_count": 2,
     "metadata": {},
     "output_type": "execute_result"
    }
   ],
   "source": [
    "from dotenv import load_dotenv\n",
    "\n",
    "load_dotenv() # Load environment variable (OPENAI_API_KEY) from .env file "
   ]
  },
  {
   "cell_type": "markdown",
   "metadata": {},
   "source": [
    "### Import Packages"
   ]
  },
  {
   "cell_type": "code",
   "execution_count": 3,
   "metadata": {
    "cell_id": "33c24943473c42a98aaf1870e28aec8e",
    "deepnote_cell_type": "code",
    "execution_context_id": "16acbe02-8077-40f0-8815-ab181b205957",
    "execution_millis": 550,
    "execution_start": 1738179700114,
    "source_hash": "83d8f388"
   },
   "outputs": [],
   "source": [
    "from typing import Annotated, Callable, Tuple\n",
    "from dataclasses import dataclass, field\n",
    "\n",
    "import random, re\n",
    "\n",
    "from haystack.dataclasses import ChatMessage, ChatRole\n",
    "from haystack.tools import create_tool_from_function\n",
    "from haystack.components.tools import ToolInvoker\n",
    "from haystack.components.generators.chat import OpenAIChatGenerator"
   ]
  },
  {
   "cell_type": "code",
   "execution_count": 4,
   "metadata": {},
   "outputs": [],
   "source": [
    "from haystack import Pipeline\n",
    "from haystack.utils import Secret\n",
    "from haystack.components.builders.prompt_builder import PromptBuilder\n",
    "from haystack.components.fetchers import LinkContentFetcher\n",
    "from haystack.components.converters import HTMLToDocument\n",
    "from haystack.components.generators import OpenAIGenerator\n",
    "from duckduckgo_api_haystack import DuckduckgoApiWebSearch"
   ]
  },
  {
   "cell_type": "markdown",
   "metadata": {},
   "source": [
    "### Mermaid Function"
   ]
  },
  {
   "cell_type": "code",
   "execution_count": 5,
   "metadata": {},
   "outputs": [],
   "source": [
    "import base64\n",
    "from IPython.display import display_svg\n",
    "from urllib.request import Request, urlopen\n",
    "\n",
    "def mm(graph):\n",
    "    graphbytes = graph.encode(\"ascii\")\n",
    "    base64_bytes = base64.b64encode(graphbytes)\n",
    "    base64_string = base64_bytes.decode(\"ascii\")\n",
    "    url=\"https://mermaid.ink/svg/\" + base64_string\n",
    "    req=Request(url, headers={'User-Agent': 'IPython/Notebook'})\n",
    "    display_svg(urlopen(req).read().decode(), raw=True)"
   ]
  },
  {
   "cell_type": "markdown",
   "metadata": {
    "cell_id": "b596c2f4403245468b8ba42da4799614",
    "deepnote_cell_type": "text-cell-h2",
    "formattedRanges": []
   },
   "source": [
    "# 3. Agent Setup"
   ]
  },
  {
   "cell_type": "markdown",
   "metadata": {},
   "source": [
    "Since, we are only testing the feasibility of the framework. We'll take two functional agent and an additional dummy agent, to create a heirarchial agent setup."
   ]
  },
  {
   "cell_type": "code",
   "execution_count": 6,
   "metadata": {},
   "outputs": [
    {
     "data": {
      "image/svg+xml": [
       "<svg id=\"mermaid-svg\" width=\"100%\" xmlns=\"http://www.w3.org/2000/svg\" class=\"flowchart\" style=\"max-width: 649.578125px;\" viewBox=\"0 0 649.578125 222\" role=\"graphics-document document\" aria-roledescription=\"flowchart-v2\" xmlns:xlink=\"http://www.w3.org/1999/xlink\"><style xmlns=\"http://www.w3.org/1999/xhtml\">@import url(\"https://cdnjs.cloudflare.com/ajax/libs/font-awesome/6.7.2/css/all.min.css\");</style><style>#mermaid-svg{font-family:\"trebuchet ms\",verdana,arial,sans-serif;font-size:16px;fill:#333;}#mermaid-svg .error-icon{fill:#552222;}#mermaid-svg .error-text{fill:#552222;stroke:#552222;}#mermaid-svg .edge-thickness-normal{stroke-width:1px;}#mermaid-svg .edge-thickness-thick{stroke-width:3.5px;}#mermaid-svg .edge-pattern-solid{stroke-dasharray:0;}#mermaid-svg .edge-thickness-invisible{stroke-width:0;fill:none;}#mermaid-svg .edge-pattern-dashed{stroke-dasharray:3;}#mermaid-svg .edge-pattern-dotted{stroke-dasharray:2;}#mermaid-svg .marker{fill:#333333;stroke:#333333;}#mermaid-svg .marker.cross{stroke:#333333;}#mermaid-svg svg{font-family:\"trebuchet ms\",verdana,arial,sans-serif;font-size:16px;}#mermaid-svg p{margin:0;}#mermaid-svg .label{font-family:\"trebuchet ms\",verdana,arial,sans-serif;color:#333;}#mermaid-svg .cluster-label text{fill:#333;}#mermaid-svg .cluster-label span{color:#333;}#mermaid-svg .cluster-label span p{background-color:transparent;}#mermaid-svg .label text,#mermaid-svg span{fill:#333;color:#333;}#mermaid-svg .node rect,#mermaid-svg .node circle,#mermaid-svg .node ellipse,#mermaid-svg .node polygon,#mermaid-svg .node path{fill:#ECECFF;stroke:#9370DB;stroke-width:1px;}#mermaid-svg .rough-node .label text,#mermaid-svg .node .label text,#mermaid-svg .image-shape .label,#mermaid-svg .icon-shape .label{text-anchor:middle;}#mermaid-svg .node .katex path{fill:#000;stroke:#000;stroke-width:1px;}#mermaid-svg .rough-node .label,#mermaid-svg .node .label,#mermaid-svg .image-shape .label,#mermaid-svg .icon-shape .label{text-align:center;}#mermaid-svg .node.clickable{cursor:pointer;}#mermaid-svg .root .anchor path{fill:#333333!important;stroke-width:0;stroke:#333333;}#mermaid-svg .arrowheadPath{fill:#333333;}#mermaid-svg .edgePath .path{stroke:#333333;stroke-width:2.0px;}#mermaid-svg .flowchart-link{stroke:#333333;fill:none;}#mermaid-svg .edgeLabel{background-color:rgba(232,232,232, 0.8);text-align:center;}#mermaid-svg .edgeLabel p{background-color:rgba(232,232,232, 0.8);}#mermaid-svg .edgeLabel rect{opacity:0.5;background-color:rgba(232,232,232, 0.8);fill:rgba(232,232,232, 0.8);}#mermaid-svg .labelBkg{background-color:rgba(232, 232, 232, 0.5);}#mermaid-svg .cluster rect{fill:#ffffde;stroke:#aaaa33;stroke-width:1px;}#mermaid-svg .cluster text{fill:#333;}#mermaid-svg .cluster span{color:#333;}#mermaid-svg div.mermaidTooltip{position:absolute;text-align:center;max-width:200px;padding:2px;font-family:\"trebuchet ms\",verdana,arial,sans-serif;font-size:12px;background:hsl(80, 100%, 96.2745098039%);border:1px solid #aaaa33;border-radius:2px;pointer-events:none;z-index:100;}#mermaid-svg .flowchartTitleText{text-anchor:middle;font-size:18px;fill:#333;}#mermaid-svg rect.text{fill:none;stroke-width:0;}#mermaid-svg .icon-shape,#mermaid-svg .image-shape{background-color:rgba(232,232,232, 0.8);text-align:center;}#mermaid-svg .icon-shape p,#mermaid-svg .image-shape p{background-color:rgba(232,232,232, 0.8);padding:2px;}#mermaid-svg .icon-shape rect,#mermaid-svg .image-shape rect{opacity:0.5;background-color:rgba(232,232,232, 0.8);fill:rgba(232,232,232, 0.8);}#mermaid-svg :root{--mermaid-font-family:\"trebuchet ms\",verdana,arial,sans-serif;}</style><g><marker id=\"mermaid-svg_flowchart-v2-pointEnd\" class=\"marker flowchart-v2\" viewBox=\"0 0 10 10\" refX=\"5\" refY=\"5\" markerUnits=\"userSpaceOnUse\" markerWidth=\"8\" markerHeight=\"8\" orient=\"auto\"><path d=\"M 0 0 L 10 5 L 0 10 z\" class=\"arrowMarkerPath\" style=\"stroke-width: 1; stroke-dasharray: 1, 0;\"/></marker><marker id=\"mermaid-svg_flowchart-v2-pointStart\" class=\"marker flowchart-v2\" viewBox=\"0 0 10 10\" refX=\"4.5\" refY=\"5\" markerUnits=\"userSpaceOnUse\" markerWidth=\"8\" markerHeight=\"8\" orient=\"auto\"><path d=\"M 0 5 L 10 10 L 10 0 z\" class=\"arrowMarkerPath\" style=\"stroke-width: 1; stroke-dasharray: 1, 0;\"/></marker><marker id=\"mermaid-svg_flowchart-v2-circleEnd\" class=\"marker flowchart-v2\" viewBox=\"0 0 10 10\" refX=\"11\" refY=\"5\" markerUnits=\"userSpaceOnUse\" markerWidth=\"11\" markerHeight=\"11\" orient=\"auto\"><circle cx=\"5\" cy=\"5\" r=\"5\" class=\"arrowMarkerPath\" style=\"stroke-width: 1; stroke-dasharray: 1, 0;\"/></marker><marker id=\"mermaid-svg_flowchart-v2-circleStart\" class=\"marker flowchart-v2\" viewBox=\"0 0 10 10\" refX=\"-1\" refY=\"5\" markerUnits=\"userSpaceOnUse\" markerWidth=\"11\" markerHeight=\"11\" orient=\"auto\"><circle cx=\"5\" cy=\"5\" r=\"5\" class=\"arrowMarkerPath\" style=\"stroke-width: 1; stroke-dasharray: 1, 0;\"/></marker><marker id=\"mermaid-svg_flowchart-v2-crossEnd\" class=\"marker cross flowchart-v2\" viewBox=\"0 0 11 11\" refX=\"12\" refY=\"5.2\" markerUnits=\"userSpaceOnUse\" markerWidth=\"11\" markerHeight=\"11\" orient=\"auto\"><path d=\"M 1,1 l 9,9 M 10,1 l -9,9\" class=\"arrowMarkerPath\" style=\"stroke-width: 2; stroke-dasharray: 1, 0;\"/></marker><marker id=\"mermaid-svg_flowchart-v2-crossStart\" class=\"marker cross flowchart-v2\" viewBox=\"0 0 11 11\" refX=\"-1\" refY=\"5.2\" markerUnits=\"userSpaceOnUse\" markerWidth=\"11\" markerHeight=\"11\" orient=\"auto\"><path d=\"M 1,1 l 9,9 M 10,1 l -9,9\" class=\"arrowMarkerPath\" style=\"stroke-width: 2; stroke-dasharray: 1, 0;\"/></marker><g class=\"root\"><g class=\"clusters\"/><g class=\"edgePaths\"><path d=\"M242.907,62L214.725,70.167C186.542,78.333,130.177,94.667,111.462,110.578C92.747,126.489,111.682,141.978,121.149,149.723L130.617,157.467\" id=\"L_A_B_0\" class=\" edge-thickness-normal edge-pattern-solid edge-thickness-normal edge-pattern-solid flowchart-link\" style=\"\" marker-end=\"url(#mermaid-svg_flowchart-v2-pointEnd)\"/><path d=\"M363.244,62L371.46,70.167C379.676,78.333,396.108,94.667,411.444,110.511C426.781,126.356,441.023,141.711,448.144,149.389L455.265,157.067\" id=\"L_A_C_1\" class=\" edge-thickness-normal edge-pattern-solid edge-thickness-normal edge-pattern-solid flowchart-link\" style=\"\" marker-end=\"url(#mermaid-svg_flowchart-v2-pointEnd)\"/><path d=\"M199.725,160L209.708,151.833C219.692,143.667,239.658,127.333,257.385,111.47C275.111,95.607,290.597,80.213,298.34,72.517L306.083,64.82\" id=\"L_B_A_2\" class=\" edge-thickness-normal edge-pattern-solid edge-thickness-normal edge-pattern-solid flowchart-link\" style=\"\" marker-end=\"url(#mermaid-svg_flowchart-v2-pointEnd)\"/><path d=\"M508.069,160L515.644,151.833C523.218,143.667,538.367,127.333,523.206,111.22C508.045,95.107,462.575,79.213,439.839,71.267L417.104,63.32\" id=\"L_C_A_3\" class=\" edge-thickness-normal edge-pattern-solid edge-thickness-normal edge-pattern-solid flowchart-link\" style=\"\" marker-end=\"url(#mermaid-svg_flowchart-v2-pointEnd)\"/></g><g class=\"edgeLabels\"><g class=\"edgeLabel\" transform=\"translate(73.8125, 111)\"><g class=\"label\" transform=\"translate(-65.8125, -12)\"><foreignObject width=\"131.625\" height=\"24\"><div xmlns=\"http://www.w3.org/1999/xhtml\" class=\"labelBkg\" style=\"display: table-cell; white-space: nowrap; line-height: 1.5; max-width: 200px; text-align: center;\"><span class=\"edgeLabel \"><p>Delegates tasks to</p></span></div></foreignObject></g></g><g class=\"edgeLabel\" transform=\"translate(412.5390625, 111)\"><g class=\"label\" transform=\"translate(-32.9140625, -12)\"><foreignObject width=\"65.828125\" height=\"24\"><div xmlns=\"http://www.w3.org/1999/xhtml\" class=\"labelBkg\" style=\"display: table-cell; white-space: nowrap; line-height: 1.5; max-width: 200px; text-align: center;\"><span class=\"edgeLabel \"><p>Manages</p></span></div></foreignObject></g></g><g class=\"edgeLabel\" transform=\"translate(259.625, 111)\"><g class=\"label\" transform=\"translate(-100, -24)\"><foreignObject width=\"200\" height=\"48\"><div xmlns=\"http://www.w3.org/1999/xhtml\" class=\"labelBkg\" style=\"display: table; white-space: break-spaces; line-height: 1.5; max-width: 200px; text-align: center; width: 200px;\"><span class=\"edgeLabel \"><p>Performs research and provides insights</p></span></div></foreignObject></g></g><g class=\"edgeLabel\" transform=\"translate(553.515625, 111)\"><g class=\"label\" transform=\"translate(-88.0625, -12)\"><foreignObject width=\"176.125\" height=\"24\"><div xmlns=\"http://www.w3.org/1999/xhtml\" class=\"labelBkg\" style=\"display: table-cell; white-space: nowrap; line-height: 1.5; max-width: 200px; text-align: center;\"><span class=\"edgeLabel \"><p>Idle or placeholder agent</p></span></div></foreignObject></g></g></g><g class=\"nodes\"><g class=\"node default  \" id=\"flowchart-A-0\" transform=\"translate(336.08203125, 35)\"><rect class=\"basic label-container\" style=\"\" x=\"-97.1484375\" y=\"-27\" width=\"194.296875\" height=\"54\"/><g class=\"label\" style=\"\" transform=\"translate(-67.1484375, -12)\"><rect/><foreignObject width=\"134.296875\" height=\"24\"><div xmlns=\"http://www.w3.org/1999/xhtml\" style=\"display: table-cell; white-space: nowrap; line-height: 1.5; max-width: 200px; text-align: center;\"><span class=\"nodeLabel \"><p>Orchestrator Agent</p></span></div></foreignObject></g></g><g class=\"node default  \" id=\"flowchart-B-1\" transform=\"translate(166.71875, 187)\"><rect class=\"basic label-container\" style=\"\" x=\"-86.9296875\" y=\"-27\" width=\"173.859375\" height=\"54\"/><g class=\"label\" style=\"\" transform=\"translate(-56.9296875, -12)\"><rect/><foreignObject width=\"113.859375\" height=\"24\"><div xmlns=\"http://www.w3.org/1999/xhtml\" style=\"display: table-cell; white-space: nowrap; line-height: 1.5; max-width: 200px; text-align: center;\"><span class=\"nodeLabel \"><p>Research Agent</p></span></div></foreignObject></g></g><g class=\"node default  \" id=\"flowchart-C-3\" transform=\"translate(483.02734375, 187)\"><rect class=\"basic label-container\" style=\"\" x=\"-80.2421875\" y=\"-27\" width=\"160.484375\" height=\"54\"/><g class=\"label\" style=\"\" transform=\"translate(-50.2421875, -12)\"><rect/><foreignObject width=\"100.484375\" height=\"24\"><div xmlns=\"http://www.w3.org/1999/xhtml\" style=\"display: table-cell; white-space: nowrap; line-height: 1.5; max-width: 200px; text-align: center;\"><span class=\"nodeLabel \"><p>Dummy Agent</p></span></div></foreignObject></g></g></g></g></g></svg>"
      ]
     },
     "metadata": {},
     "output_type": "display_data"
    }
   ],
   "source": [
    "mm(\"\"\"\n",
    "   graph TD\n",
    "    A[Orchestrator Agent] -->|Delegates tasks to| B[Research Agent]\n",
    "    A -->|Manages| C[Dummy Agent]\n",
    "    B -->|Performs research and provides insights| A\n",
    "    C -->|Idle or placeholder agent| A\n",
    "\"\"\")"
   ]
  },
  {
   "cell_type": "markdown",
   "metadata": {},
   "source": [
    "### Orchestrator Agent\n",
    "\n",
    "Coordinate workflow, Answer general questions, manage inter-agent communication, and finalize outputs."
   ]
  },
  {
   "cell_type": "markdown",
   "metadata": {
    "cell_id": "b9c5120c276a4e6596b165c684b30b2e",
    "deepnote_cell_type": "text-cell-p",
    "formattedRanges": [
     {
      "fromCodePoint": 0,
      "marks": {
       "bold": true
      },
      "toCodePoint": 16,
      "type": "marks"
     }
    ]
   },
   "source": [
    "### Research Agent\n",
    "Investigate the industry/company, trends, competitors, and market dynamics."
   ]
  },
  {
   "cell_type": "markdown",
   "metadata": {
    "cell_id": "eb652dcbbbbf47c696bc3617d3517ade",
    "deepnote_cell_type": "text-cell-p",
    "formattedRanges": [
     {
      "fromCodePoint": 0,
      "marks": {
       "bold": true
      },
      "toCodePoint": 18,
      "type": "marks"
     }
    ]
   },
   "source": [
    "### Dummy Agent\n",
    "Act as a placeholder, to help test the handsoff."
   ]
  },
  {
   "cell_type": "markdown",
   "metadata": {},
   "source": [
    "# 4. Implementation"
   ]
  },
  {
   "cell_type": "markdown",
   "metadata": {},
   "source": [
    "## Swarm Agent & Handoff Defination "
   ]
  },
  {
   "cell_type": "code",
   "execution_count": 7,
   "metadata": {},
   "outputs": [],
   "source": [
    "HANDOFF_TEMPLATE = \"Transferred to: {agent_name}. Adopt persona immediately.\"\n",
    "HANDOFF_PATTERN = r\"Transferred to: (.*?)(?:\\.|$)\"\n",
    "\n",
    "\n",
    "@dataclass\n",
    "class SwarmAgent:\n",
    "    name: str = \"SwarmAgent\"\n",
    "    llm: object = OpenAIChatGenerator(model=\"gpt-4o-mini\")\n",
    "    instructions: str = \"You are a helpful Agent\"\n",
    "    functions: list[Callable] = field(default_factory=list)\n",
    "\n",
    "    def __post_init__(self):\n",
    "        self._system_message = ChatMessage.from_system(self.instructions)\n",
    "        self.tools = [create_tool_from_function(fun) for fun in self.functions] if self.functions else None\n",
    "        self._tool_invoker = ToolInvoker(tools=self.tools, raise_on_failure=False) if self.tools else None\n",
    "\n",
    "    def run(self, messages: list[ChatMessage]) -> Tuple[str, list[ChatMessage]]:\n",
    "        # generate response\n",
    "        agent_message = self.llm.run(messages=[self._system_message] + messages, tools=self.tools)[\"replies\"][0]\n",
    "        new_messages = [agent_message]\n",
    "\n",
    "        if agent_message.text:\n",
    "            print(f\"\\n{self.name}: {agent_message.text}\")\n",
    "\n",
    "        if not agent_message.tool_calls:\n",
    "            return self.name, new_messages\n",
    "\n",
    "        # handle tool calls\n",
    "        for tc in agent_message.tool_calls:\n",
    "            # trick: Ollama do not produce IDs, but OpenAI and Anthropic require them.\n",
    "            if tc.id is None:\n",
    "                tc.id = str(random.randint(0, 1000000))\n",
    "        tool_results = self._tool_invoker.run(messages=[agent_message])[\"tool_messages\"]\n",
    "        new_messages.extend(tool_results)\n",
    "\n",
    "        # handoff\n",
    "        last_result = tool_results[-1].tool_call_result.result\n",
    "        match = re.search(HANDOFF_PATTERN, last_result)\n",
    "        new_agent_name = match.group(1) if match else self.name\n",
    "\n",
    "        return new_agent_name, new_messages"
   ]
  },
  {
   "cell_type": "markdown",
   "metadata": {
    "cell_id": "0b865cac4a8a4b1b9333b5642c1d2071",
    "deepnote_cell_type": "text-cell-h3",
    "formattedRanges": []
   },
   "source": [
    "## Handoff Rules"
   ]
  },
  {
   "cell_type": "code",
   "execution_count": 8,
   "metadata": {
    "cell_id": "eab388719a8349749e531056680b5d13",
    "deepnote_cell_type": "code",
    "execution_context_id": "16acbe02-8077-40f0-8815-ab181b205957",
    "execution_millis": 2,
    "execution_start": 1738179712801,
    "source_hash": "ff54d1d2"
   },
   "outputs": [],
   "source": [
    "def transfer_to_dummy():\n",
    "    \"\"\"Pass to this Agent if asked to explicitly.\"\"\"\n",
    "    return HANDOFF_TEMPLATE.format(agent_name=\"Dummy Agent\")\n",
    "\n",
    "def transfer_to_research_agent():\n",
    "    \"\"\"Pass to this Agent for anything that requires investigating the industry/company, trends, competitors, market dynamics related.\"\"\"\n",
    "    return HANDOFF_TEMPLATE.format(agent_name=\"Research Agent\")\n",
    "\n",
    "\n",
    "def transfer_back_to_orchestrator():\n",
    "    \"\"\"Pass to this Agent for any topic outside of your purview or list of tasks.\"\"\"\n",
    "    return HANDOFF_TEMPLATE.format(agent_name=\"Orchestrator Agent\")"
   ]
  },
  {
   "cell_type": "markdown",
   "metadata": {},
   "source": [
    "## Orchestrator Agent"
   ]
  },
  {
   "cell_type": "markdown",
   "metadata": {},
   "source": [
    "### Tools Defination"
   ]
  },
  {
   "cell_type": "code",
   "execution_count": 9,
   "metadata": {},
   "outputs": [],
   "source": [
    "def summary(summary: Annotated[str, \"A summary\"]):\n",
    "    \"\"\"Only call this if explicitly asked to.\"\"\"\n",
    "    print(\"\\n=== Summarised Report ===\")\n",
    "    print(f\"{summary}\")\n",
    "    print(\"=========================\\n\")\n",
    "    exit()\n",
    "    \n",
    "def self_terminate():\n",
    "    \"\"\"Only call this if explicitly asked to.\"\"\"\n",
    "    print(\"\\n=== Self Terminated ===\")\n",
    "    print(\"Agent has been terminated.\")\n",
    "    print(\"=========================\\n\")\n",
    "    exit()\n",
    "    \n",
    "def reflect():\n",
    "    \"\"\"Call this to reflect and check if given market research has been completed or not.\"\"\"\n",
    "    print(\"\\n=== Reflecting ===\")\n",
    "    print(\"Agent is reflecting on its actions.\")\n",
    "    print(\"=========================\\n\")\n",
    "    return HANDOFF_TEMPLATE.format(agent_name=\"Orchestrator Agent\")"
   ]
  },
  {
   "cell_type": "markdown",
   "metadata": {
    "cell_id": "b29e176d71934fff974172adc78034f8",
    "deepnote_cell_type": "text-cell-h3",
    "formattedRanges": []
   },
   "source": [
    "### Agent Definition"
   ]
  },
  {
   "cell_type": "code",
   "execution_count": 10,
   "metadata": {
    "cell_id": "cd727b860c8b457a87af39b727f12b5b",
    "deepnote_cell_type": "code",
    "execution_context_id": "16acbe02-8077-40f0-8815-ab181b205957",
    "execution_millis": 1,
    "execution_start": 1738179761146,
    "source_hash": "4489ee0"
   },
   "outputs": [],
   "source": [
    "orch_agent = SwarmAgent(\n",
    "    name=\"Orchestrator Agent\",\n",
    "    instructions=(\n",
    "        \"\"\"Parse the user’s input to determine the target industry/company, research scope, and desired outputs. \n",
    "        Break the query into subtasks for Research Agent, Use Case Generator, and Resource Collector. \"\"\"\n",
    "        \"Trigger agents in sequence: Research Agent → Use Case Generator → Resource Collector. Ensure each agent’s output is validated before passing it to the next agent. \"\n",
    "        \"Reflect on your actions to check if problem is solved or not.\"\n",
    "        \"Pass only relevant data to downstream agents. \"\n",
    "        \"Monitor agent tasks for failures (e.g., API errors, incomplete data). Retry up to 3 times. If unresolved, escalate to the user with a summary of the issue.\"\n",
    "        \"Combine outputs from all agents into a final report. Structure it as: Market Overview → Use Cases → Data Resources.\"\n",
    "        \"Make tool calls only if necessary and make sure to provide the right arguments.\"\n",
    "    ),\n",
    "    functions=[transfer_to_research_agent, transfer_to_dummy, summary],\n",
    ")"
   ]
  },
  {
   "cell_type": "markdown",
   "metadata": {},
   "source": [
    "# Research Agent"
   ]
  },
  {
   "cell_type": "markdown",
   "metadata": {},
   "source": [
    "### Tools Defination"
   ]
  },
  {
   "cell_type": "code",
   "execution_count": 12,
   "metadata": {},
   "outputs": [],
   "source": [
    "def search_tool(search_query: Annotated[str, \"Question that you want to be searched on the internet\"]):\n",
    "    \"\"\"Call this to search for information to be added in the research work.\"\"\"\n",
    "    prompt_template=\"\"\"\n",
    "    Given the information below:\n",
    "    {% for document in documents %}\n",
    "        {{ document.content }}\n",
    "    {% endfor %}\n",
    "    Answer question: {{ query }}.\n",
    "    Answer:\n",
    "    \"\"\"\n",
    "    \n",
    "    searchPipe = Pipeline()\n",
    "    searchPipe.add_component(\"search\", DuckduckgoApiWebSearch(top_k=10))\n",
    "    searchPipe.add_component(\"fetcher\", LinkContentFetcher())\n",
    "    searchPipe.add_component(\"converter\", HTMLToDocument())\n",
    "    searchPipe.add_component(\"prompt_builder\", PromptBuilder(template=prompt_template))\n",
    "    searchPipe.add_component(\"llm\", OpenAIGenerator(model=\"gpt-4o-mini\"))\n",
    "    \n",
    "    searchPipe.connect(\"search.links\", \"fetcher.urls\")\n",
    "    searchPipe.connect(\"fetcher.streams\", \"converter.sources\")\n",
    "    searchPipe.connect(\"converter.documents\", \"prompt_builder.documents\")\n",
    "    searchPipe.connect(\"prompt_builder.prompt\", \"llm.prompt\")\n",
    "    \n",
    "    response = searchPipe.run(data={\"search\":{\"query\":search_query}, \"prompt_builder\":{\"query\": search_query}})\n",
    "    \n",
    "    return response[\"llm\"][\"result\"][0] if response[\"llm\"][\"result\"] else \"No results found.\""
   ]
  },
  {
   "cell_type": "markdown",
   "metadata": {},
   "source": [
    "### Agent Defination"
   ]
  },
  {
   "cell_type": "code",
   "execution_count": 13,
   "metadata": {},
   "outputs": [],
   "source": [
    "research_agent = SwarmAgent(\n",
    "    name = \"Research Agent\",\n",
    "    instructions = (\n",
    "        \"\"\"Conduct in-depth research on the target industry/company. \n",
    "        Gather data on market trends, competitors, and dynamics. \n",
    "        Validate all data before passing it to the next agent. \n",
    "        Ensure that the information is accurate and up-to-date.\n",
    "        Make tool calls only if necessary and make sure to provide the right arguments.\n",
    "        Make sure to choose the optimal search query.\n",
    "        If the research is complete, pass the results to the next agent.\n",
    "        If the research is incomplete, reflect on your actions and check if the problem is solved or not.\n",
    "        Next agent is: Orchestrator Agent.\"\"\"\n",
    "    ),\n",
    "    functions=[transfer_back_to_orchestrator, search_tool],\n",
    ")\n"
   ]
  },
  {
   "cell_type": "markdown",
   "metadata": {},
   "source": [
    "## Dummy Agent"
   ]
  },
  {
   "cell_type": "markdown",
   "metadata": {},
   "source": [
    "### Tool Defination"
   ]
  },
  {
   "cell_type": "code",
   "execution_count": 14,
   "metadata": {},
   "outputs": [],
   "source": [
    "# Note: The Dummy Agent is a placeholder and does not perform any specific tasks. It can be used for testing or as a fallback option."
   ]
  },
  {
   "cell_type": "markdown",
   "metadata": {},
   "source": [
    "### Agent Defination"
   ]
  },
  {
   "cell_type": "code",
   "execution_count": 15,
   "metadata": {},
   "outputs": [],
   "source": [
    "dummy_agent = SwarmAgent(\n",
    "    name = \"Dummy Agent\",\n",
    "    instructions = (\n",
    "        \"\"\"This agent is a placeholder and does not perform any specific tasks. \n",
    "        It is used to manage the flow of tasks between other agents. \n",
    "        If the agent is called, it will pass the task back to the orchestrator agent.\"\"\"\n",
    "    ),\n",
    "    functions=[transfer_back_to_orchestrator],\n",
    ") "
   ]
  },
  {
   "cell_type": "markdown",
   "metadata": {},
   "source": [
    "# Interconnecting the Agents"
   ]
  },
  {
   "cell_type": "code",
   "execution_count": 16,
   "metadata": {},
   "outputs": [
    {
     "name": "stdout",
     "output_type": "stream",
     "text": [
      "Type 'quit' to exit\n"
     ]
    },
    {
     "name": "stderr",
     "output_type": "stream",
     "text": [
      "Error fetching https://investorguruji.com/marketing-strategy-of-swiggy-marketing-mix-stp/: HTTPSConnectionPool(host='investorguruji.com', port=443): Read timed out. (read timeout=3)\n",
      "Error fetching https://www.livemint.com/market/stock-market-news/zomato-vs-swiggy-who-is-leading-the-fight-in-food-delivery-and-quick-commerce-motilal-oswal-decodes-11728462607266.html: 403 Client Error: Forbidden for url: https://www.livemint.com/market/stock-market-news/zomato-vs-swiggy-who-is-leading-the-fight-in-food-delivery-and-quick-commerce-motilal-oswal-decodes-11728462607266.html\n",
      "Error fetching https://craft.co/swiggy/competitors: 403 Client Error: Forbidden for url: https://craft.co/swiggy/competitors\n",
      "Failed to extract text from ByteStream(data=b'%PDF-1.7\\r\\n%\\xb5\\xb5\\xb5\\xb5\\r\\n1 0 obj\\r\\n<</Type/Catalog/Pages 2 0 R/Lang(en-US) /StructTreeRoot 72 0 R/MarkInfo<</...', meta={'content_type': 'application/pdf', 'url': 'https://ijcrt.org/papers/IJCRT2302560.pdf'}, mime_type='application/pdf'). Skipping it. Error: 'utf-8' codec can't decode byte 0xb5 in position 11: invalid start byte\n",
      "Error fetching https://www.moneycontrol.com/news/business/startup/double-whammy-for-swiggy-zomato-quick-commerce-losses-to-be-higher-in-q4-food-delivery-growth-to-slow-says-bofa-12976608.html: 403 Client Error: Forbidden for url: https://www.moneycontrol.com/news/business/startup/double-whammy-for-swiggy-zomato-quick-commerce-losses-to-be-higher-in-q4-food-delivery-growth-to-slow-says-bofa-12976608.html\n",
      "Error fetching https://www.moneycontrol.com/news/business/why-zomato-continues-to-eat-into-swiggys-market-share-10907051.html: 403 Client Error: Forbidden for url: https://www.moneycontrol.com/news/business/why-zomato-continues-to-eat-into-swiggys-market-share-10907051.html\n",
      "Error fetching https://www.moneycontrol.com/news/business/startup/double-whammy-for-swiggy-zomato-quick-commerce-losses-to-be-higher-in-q4-food-delivery-growth-to-slow-says-bofa-12976608.html: 403 Client Error: Forbidden for url: https://www.moneycontrol.com/news/business/startup/double-whammy-for-swiggy-zomato-quick-commerce-losses-to-be-higher-in-q4-food-delivery-growth-to-slow-says-bofa-12976608.html\n",
      "Error fetching https://inc42.com/buzz/zomato-expands-lead-over-swiggy-has-57-market-share-in-food-delivery-goldman-sachs/: HTTPSConnectionPool(host='inc42.com', port=443): Read timed out. (read timeout=3)\n",
      "Error fetching https://straitsresearch.com/statistic/swiggy-s-market-debut-drives-growth-in-food-and-quick-commerce: HTTPSConnectionPool(host='straitsresearch.com', port=443): Read timed out.\n",
      "Error fetching https://inc42.com/features/swiggy-food-delivery-profitability-full-picture/: HTTPSConnectionPool(host='inc42.com', port=443): Read timed out. (read timeout=3)\n",
      "Error fetching https://www.livemint.com/market/stock-market-news/zomato-vs-swiggy-who-is-leading-the-fight-in-food-delivery-and-quick-commerce-motilal-oswal-decodes-11728462607266.html: 403 Client Error: Forbidden for url: https://www.livemint.com/market/stock-market-news/zomato-vs-swiggy-who-is-leading-the-fight-in-food-delivery-and-quick-commerce-motilal-oswal-decodes-11728462607266.html\n",
      "Error fetching https://craft.co/swiggy/competitors: 403 Client Error: Forbidden for url: https://craft.co/swiggy/competitors\n"
     ]
    },
    {
     "name": "stdout",
     "output_type": "stream",
     "text": [
      "\n",
      "Orchestrator Agent: It seems that there is an issue with gathering data regarding Swiggy's market positioning, competitors, and trends in the food delivery industry for 2023. All attempts to invoke the necessary tools for research have failed.\n",
      "\n",
      "To resolve this, could you please provide more context or specify if you would like to receive an overview based on my existing knowledge up to October 2023? Alternatively, I can attempt to reactivate the search process.\n",
      "\n",
      "Orchestrator Agent: It appears that there was no follow-up from your side. If you have any additional information or would like to proceed with the task, please let me know how you wish to continue!\n"
     ]
    }
   ],
   "source": [
    "agents = {agent.name: agent for agent in [orch_agent, research_agent, dummy_agent]}\n",
    "\n",
    "print(\"Type 'quit' to exit\")\n",
    "\n",
    "messages = []\n",
    "current_agent_name = \"Orchestrator Agent\"\n",
    "\n",
    "while True:\n",
    "    agent = agents[current_agent_name]\n",
    "\n",
    "    if not messages or messages[-1].role == ChatRole.ASSISTANT:\n",
    "        user_input = input(\"User: \")\n",
    "        if user_input.lower() == \"quit\":\n",
    "            break\n",
    "        messages.append(ChatMessage.from_user(user_input))\n",
    "\n",
    "    current_agent_name, new_messages = agent.run(messages)\n",
    "    messages.extend(new_messages)"
   ]
  },
  {
   "cell_type": "markdown",
   "metadata": {},
   "source": [
    "### Observation\n",
    "\n",
    "- So, Only Orchestrator Agent is responding. We are not yet able to see talk between the agents. \n",
    "- Search tool can't access pages due to `Scraper Protection`\n",
    "- Need better Observabiliity. Maybe setup `Open Telemetry` or utilise `Arize Phoenix` for saving time.  "
   ]
  },
  {
   "cell_type": "markdown",
   "metadata": {},
   "source": [
    "### Understanding Tool Calling"
   ]
  },
  {
   "cell_type": "code",
   "execution_count": 27,
   "metadata": {},
   "outputs": [
    {
     "name": "stdout",
     "output_type": "stream",
     "text": [
      "user: Give me the Market Postioning of Swiggy\n",
      "\n",
      "\n",
      "assistant: None\n",
      "Tool calls: ToolCall(tool_name='transfer_to_research_agent', arguments={}, id='call_7EJCiodkstkmkIAaGq4y1VCg')\n",
      "\n",
      "\n",
      "\n",
      "\n",
      "tool: None\n",
      "\n",
      "\n",
      "assistant: None\n",
      "Tool calls: ToolCall(tool_name='search_tool', arguments={'search_query': 'Swiggy market positioning 2023'}, id='1')\n",
      "\n",
      "\n",
      "Tool calls: ToolCall(tool_name='search_tool', arguments={'search_query': 'Swiggy competitors analysis 2023'}, id='call_lf5gz1mPnye6fm5NILTL088z')\n",
      "\n",
      "\n",
      "Tool calls: ToolCall(tool_name='search_tool', arguments={'search_query': 'Swiggy market trends food delivery industry 2023'}, id='call_jYIjGKG7ucstIyWTWspf6AFK')\n",
      "\n",
      "\n",
      "\n",
      "\n",
      "tool: None\n",
      "\n",
      "\n",
      "tool: None\n",
      "\n",
      "\n",
      "tool: None\n",
      "\n",
      "\n",
      "assistant: None\n",
      "Tool calls: ToolCall(tool_name='search_tool', arguments={'search_query': 'Swiggy market positioning 2023 food delivery industry'}, id='call_BS82xzRiiblGc49rdTU1TSL1')\n",
      "\n",
      "\n",
      "Tool calls: ToolCall(tool_name='search_tool', arguments={'search_query': 'Swiggy competitors analysis 2023 food delivery companies'}, id='call_Ebr20qDUVNQwdQiNHi2Q3TDo')\n",
      "\n",
      "\n",
      "Tool calls: ToolCall(tool_name='search_tool', arguments={'search_query': 'current market trends food delivery 2023'}, id='call_xHQcsiUK2A0n23KbnZq7cVoE')\n",
      "\n",
      "\n",
      "\n",
      "\n",
      "tool: None\n",
      "\n",
      "\n",
      "tool: None\n",
      "\n",
      "\n",
      "tool: None\n",
      "\n",
      "\n",
      "assistant: None\n",
      "Tool calls: ToolCall(tool_name='transfer_back_to_orchestrator', arguments={}, id='call_4JabajIus0IZqZNi9HFKEMX6')\n",
      "\n",
      "\n",
      "\n",
      "\n",
      "tool: None\n",
      "\n",
      "\n",
      "assistant: It seems that there is an issue with gathering data regarding Swiggy's market positioning, competitors, and trends in the food delivery industry for 2023. All attempts to invoke the necessary tools for research have failed.\n",
      "\n",
      "To resolve this, could you please provide more context or specify if you would like to receive an overview based on my existing knowledge up to October 2023? Alternatively, I can attempt to reactivate the search process.\n",
      "\n",
      "\n",
      "user: \n",
      "\n",
      "\n",
      "assistant: It appears that there was no follow-up from your side. If you have any additional information or would like to proceed with the task, please let me know how you wish to continue!\n",
      "\n",
      "\n"
     ]
    }
   ],
   "source": [
    "for message in messages:\n",
    "    print(f\"{message.role.value}: {message.text}\")\n",
    "    if message.tool_calls:\n",
    "        for calls in message.tool_calls:\n",
    "            print(f\"Tool calls: {calls}\")\n",
    "            print(\"\\n\")\n",
    "    print(\"\\n\")\n"
   ]
  },
  {
   "cell_type": "code",
   "execution_count": null,
   "metadata": {},
   "outputs": [],
   "source": []
  }
 ],
 "metadata": {
  "deepnote_notebook_id": "27ea80a51e1b472aa25e1adb9ef8cbd5",
  "kernelspec": {
   "display_name": "Python 3",
   "language": "python",
   "name": "python3"
  },
  "language_info": {
   "codemirror_mode": {
    "name": "ipython",
    "version": 3
   },
   "file_extension": ".py",
   "mimetype": "text/x-python",
   "name": "python",
   "nbconvert_exporter": "python",
   "pygments_lexer": "ipython3",
   "version": "3.12.9"
  }
 },
 "nbformat": 4,
 "nbformat_minor": 0
}
