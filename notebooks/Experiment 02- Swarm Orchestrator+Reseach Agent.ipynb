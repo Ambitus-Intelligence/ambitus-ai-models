{
 "cells": [
  {
   "cell_type": "markdown",
   "metadata": {},
   "source": [
    "\n",
    "# **EXPERIMENT 2: Use Swarm + Haystack to test Multi-Agentic Environment**"
   ]
  },
  {
   "cell_type": "markdown",
   "metadata": {},
   "source": [
    "# 1. Introduction\n",
    "- This experiment is designed to test the multi-agentic environment of the Swarm + Haystack framework.\n",
    "\n",
    "## Tasks\n",
    "- Implement Sample Orchestrator and Research Agent.\n",
    "- Test Basic Tooling.\n",
    "- Understand feasibility of work in using Swarm.\n",
    "- Test if Swarm locks to OpenAI LLMs."
   ]
  },
  {
   "cell_type": "markdown",
   "metadata": {},
   "source": [
    "# 2. Setup Phase"
   ]
  },
  {
   "cell_type": "code",
   "execution_count": 1,
   "metadata": {
    "cell_id": "a2d2658c05874501a9c8c0c26df2f26f",
    "deepnote_cell_type": "code",
    "execution_context_id": "16acbe02-8077-40f0-8815-ab181b205957",
    "execution_millis": 7033,
    "execution_start": 1738179692989,
    "source_hash": "2cd88fe3"
   },
   "outputs": [
    {
     "name": "stdout",
     "output_type": "stream",
     "text": [
      "Requirement already satisfied: openai in c:\\users\\angel\\documents\\github\\ambitus-ai-models\\.conda\\lib\\site-packages (1.68.2)\n",
      "Requirement already satisfied: haystack-ai in c:\\users\\angel\\documents\\github\\ambitus-ai-models\\.conda\\lib\\site-packages (2.11.2)\n",
      "Requirement already satisfied: duckduckgo-api-haystack in c:\\users\\angel\\documents\\github\\ambitus-ai-models\\.conda\\lib\\site-packages (0.1.14)\n",
      "Requirement already satisfied: python-dotenv in c:\\users\\angel\\documents\\github\\ambitus-ai-models\\.conda\\lib\\site-packages (1.1.0)\n",
      "Requirement already satisfied: jsonschema in c:\\users\\angel\\documents\\github\\ambitus-ai-models\\.conda\\lib\\site-packages (4.23.0)\n",
      "Requirement already satisfied: trafilatura in c:\\users\\angel\\documents\\github\\ambitus-ai-models\\.conda\\lib\\site-packages (2.0.0)\n",
      "Requirement already satisfied: anyio<5,>=3.5.0 in c:\\users\\angel\\documents\\github\\ambitus-ai-models\\.conda\\lib\\site-packages (from openai) (4.9.0)\n",
      "Requirement already satisfied: distro<2,>=1.7.0 in c:\\users\\angel\\documents\\github\\ambitus-ai-models\\.conda\\lib\\site-packages (from openai) (1.9.0)\n",
      "Requirement already satisfied: httpx<1,>=0.23.0 in c:\\users\\angel\\documents\\github\\ambitus-ai-models\\.conda\\lib\\site-packages (from openai) (0.28.1)\n",
      "Requirement already satisfied: jiter<1,>=0.4.0 in c:\\users\\angel\\documents\\github\\ambitus-ai-models\\.conda\\lib\\site-packages (from openai) (0.9.0)\n",
      "Requirement already satisfied: pydantic<3,>=1.9.0 in c:\\users\\angel\\documents\\github\\ambitus-ai-models\\.conda\\lib\\site-packages (from openai) (2.10.6)\n",
      "Requirement already satisfied: sniffio in c:\\users\\angel\\documents\\github\\ambitus-ai-models\\.conda\\lib\\site-packages (from openai) (1.3.1)\n",
      "Requirement already satisfied: tqdm>4 in c:\\users\\angel\\documents\\github\\ambitus-ai-models\\.conda\\lib\\site-packages (from openai) (4.67.1)\n",
      "Requirement already satisfied: typing-extensions<5,>=4.11 in c:\\users\\angel\\documents\\github\\ambitus-ai-models\\.conda\\lib\\site-packages (from openai) (4.12.2)\n",
      "Requirement already satisfied: haystack-experimental in c:\\users\\angel\\documents\\github\\ambitus-ai-models\\.conda\\lib\\site-packages (from haystack-ai) (0.8.0)\n",
      "Requirement already satisfied: jinja2 in c:\\users\\angel\\documents\\github\\ambitus-ai-models\\.conda\\lib\\site-packages (from haystack-ai) (3.1.6)\n",
      "Requirement already satisfied: lazy-imports in c:\\users\\angel\\documents\\github\\ambitus-ai-models\\.conda\\lib\\site-packages (from haystack-ai) (0.4.0)\n",
      "Requirement already satisfied: more-itertools in c:\\users\\angel\\documents\\github\\ambitus-ai-models\\.conda\\lib\\site-packages (from haystack-ai) (10.6.0)\n",
      "Requirement already satisfied: networkx in c:\\users\\angel\\documents\\github\\ambitus-ai-models\\.conda\\lib\\site-packages (from haystack-ai) (3.4.2)\n",
      "Requirement already satisfied: numpy in c:\\users\\angel\\documents\\github\\ambitus-ai-models\\.conda\\lib\\site-packages (from haystack-ai) (2.2.4)\n",
      "Requirement already satisfied: posthog!=3.12.0 in c:\\users\\angel\\documents\\github\\ambitus-ai-models\\.conda\\lib\\site-packages (from haystack-ai) (3.21.0)\n",
      "Requirement already satisfied: python-dateutil in c:\\users\\angel\\documents\\github\\ambitus-ai-models\\.conda\\lib\\site-packages (from haystack-ai) (2.9.0.post0)\n",
      "Requirement already satisfied: pyyaml in c:\\users\\angel\\documents\\github\\ambitus-ai-models\\.conda\\lib\\site-packages (from haystack-ai) (6.0.2)\n",
      "Requirement already satisfied: requests in c:\\users\\angel\\documents\\github\\ambitus-ai-models\\.conda\\lib\\site-packages (from haystack-ai) (2.32.3)\n",
      "Requirement already satisfied: tenacity!=8.4.0 in c:\\users\\angel\\documents\\github\\ambitus-ai-models\\.conda\\lib\\site-packages (from haystack-ai) (9.0.0)\n",
      "Requirement already satisfied: duckduckgo-search in c:\\users\\angel\\documents\\github\\ambitus-ai-models\\.conda\\lib\\site-packages (from duckduckgo-api-haystack) (7.5.3)\n",
      "Requirement already satisfied: attrs>=22.2.0 in c:\\users\\angel\\documents\\github\\ambitus-ai-models\\.conda\\lib\\site-packages (from jsonschema) (25.3.0)\n",
      "Requirement already satisfied: jsonschema-specifications>=2023.03.6 in c:\\users\\angel\\documents\\github\\ambitus-ai-models\\.conda\\lib\\site-packages (from jsonschema) (2024.10.1)\n",
      "Requirement already satisfied: referencing>=0.28.4 in c:\\users\\angel\\documents\\github\\ambitus-ai-models\\.conda\\lib\\site-packages (from jsonschema) (0.36.2)\n",
      "Requirement already satisfied: rpds-py>=0.7.1 in c:\\users\\angel\\documents\\github\\ambitus-ai-models\\.conda\\lib\\site-packages (from jsonschema) (0.23.1)\n",
      "Requirement already satisfied: certifi in c:\\users\\angel\\documents\\github\\ambitus-ai-models\\.conda\\lib\\site-packages (from trafilatura) (2025.1.31)\n",
      "Requirement already satisfied: charset_normalizer>=3.4.0 in c:\\users\\angel\\documents\\github\\ambitus-ai-models\\.conda\\lib\\site-packages (from trafilatura) (3.4.1)\n",
      "Requirement already satisfied: courlan>=1.3.2 in c:\\users\\angel\\documents\\github\\ambitus-ai-models\\.conda\\lib\\site-packages (from trafilatura) (1.3.2)\n",
      "Requirement already satisfied: htmldate>=1.9.2 in c:\\users\\angel\\documents\\github\\ambitus-ai-models\\.conda\\lib\\site-packages (from trafilatura) (1.9.3)\n",
      "Requirement already satisfied: justext>=3.0.1 in c:\\users\\angel\\documents\\github\\ambitus-ai-models\\.conda\\lib\\site-packages (from trafilatura) (3.0.2)\n",
      "Requirement already satisfied: lxml>=5.3.0 in c:\\users\\angel\\documents\\github\\ambitus-ai-models\\.conda\\lib\\site-packages (from trafilatura) (5.3.1)\n",
      "Requirement already satisfied: urllib3<3,>=1.26 in c:\\users\\angel\\documents\\github\\ambitus-ai-models\\.conda\\lib\\site-packages (from trafilatura) (2.3.0)\n",
      "Requirement already satisfied: idna>=2.8 in c:\\users\\angel\\documents\\github\\ambitus-ai-models\\.conda\\lib\\site-packages (from anyio<5,>=3.5.0->openai) (3.10)\n",
      "Requirement already satisfied: babel>=2.16.0 in c:\\users\\angel\\documents\\github\\ambitus-ai-models\\.conda\\lib\\site-packages (from courlan>=1.3.2->trafilatura) (2.17.0)\n",
      "Requirement already satisfied: tld>=0.13 in c:\\users\\angel\\documents\\github\\ambitus-ai-models\\.conda\\lib\\site-packages (from courlan>=1.3.2->trafilatura) (0.13)\n",
      "Requirement already satisfied: dateparser>=1.1.2 in c:\\users\\angel\\documents\\github\\ambitus-ai-models\\.conda\\lib\\site-packages (from htmldate>=1.9.2->trafilatura) (1.2.1)\n",
      "Requirement already satisfied: httpcore==1.* in c:\\users\\angel\\documents\\github\\ambitus-ai-models\\.conda\\lib\\site-packages (from httpx<1,>=0.23.0->openai) (1.0.7)\n",
      "Requirement already satisfied: h11<0.15,>=0.13 in c:\\users\\angel\\documents\\github\\ambitus-ai-models\\.conda\\lib\\site-packages (from httpcore==1.*->httpx<1,>=0.23.0->openai) (0.14.0)\n",
      "Requirement already satisfied: six>=1.5 in c:\\users\\angel\\documents\\github\\ambitus-ai-models\\.conda\\lib\\site-packages (from posthog!=3.12.0->haystack-ai) (1.16.0)\n",
      "Requirement already satisfied: monotonic>=1.5 in c:\\users\\angel\\documents\\github\\ambitus-ai-models\\.conda\\lib\\site-packages (from posthog!=3.12.0->haystack-ai) (1.6)\n",
      "Requirement already satisfied: backoff>=1.10.0 in c:\\users\\angel\\documents\\github\\ambitus-ai-models\\.conda\\lib\\site-packages (from posthog!=3.12.0->haystack-ai) (2.2.1)\n",
      "Requirement already satisfied: annotated-types>=0.6.0 in c:\\users\\angel\\documents\\github\\ambitus-ai-models\\.conda\\lib\\site-packages (from pydantic<3,>=1.9.0->openai) (0.7.0)\n",
      "Requirement already satisfied: pydantic-core==2.27.2 in c:\\users\\angel\\documents\\github\\ambitus-ai-models\\.conda\\lib\\site-packages (from pydantic<3,>=1.9.0->openai) (2.27.2)\n",
      "Requirement already satisfied: colorama in c:\\users\\angel\\documents\\github\\ambitus-ai-models\\.conda\\lib\\site-packages (from tqdm>4->openai) (0.4.6)\n",
      "Requirement already satisfied: click>=8.1.8 in c:\\users\\angel\\documents\\github\\ambitus-ai-models\\.conda\\lib\\site-packages (from duckduckgo-search->duckduckgo-api-haystack) (8.1.8)\n",
      "Requirement already satisfied: primp>=0.14.0 in c:\\users\\angel\\documents\\github\\ambitus-ai-models\\.conda\\lib\\site-packages (from duckduckgo-search->duckduckgo-api-haystack) (0.14.0)\n",
      "Requirement already satisfied: MarkupSafe>=2.0 in c:\\users\\angel\\documents\\github\\ambitus-ai-models\\.conda\\lib\\site-packages (from jinja2->haystack-ai) (3.0.2)\n",
      "Requirement already satisfied: pytz>=2024.2 in c:\\users\\angel\\documents\\github\\ambitus-ai-models\\.conda\\lib\\site-packages (from dateparser>=1.1.2->htmldate>=1.9.2->trafilatura) (2025.2)\n",
      "Requirement already satisfied: regex!=2019.02.19,!=2021.8.27,>=2015.06.24 in c:\\users\\angel\\documents\\github\\ambitus-ai-models\\.conda\\lib\\site-packages (from dateparser>=1.1.2->htmldate>=1.9.2->trafilatura) (2024.11.6)\n",
      "Requirement already satisfied: tzlocal>=0.2 in c:\\users\\angel\\documents\\github\\ambitus-ai-models\\.conda\\lib\\site-packages (from dateparser>=1.1.2->htmldate>=1.9.2->trafilatura) (5.3.1)\n",
      "Requirement already satisfied: lxml_html_clean in c:\\users\\angel\\documents\\github\\ambitus-ai-models\\.conda\\lib\\site-packages (from lxml[html_clean]>=4.4.2->justext>=3.0.1->trafilatura) (0.4.1)\n",
      "Requirement already satisfied: tzdata in c:\\users\\angel\\documents\\github\\ambitus-ai-models\\.conda\\lib\\site-packages (from tzlocal>=0.2->dateparser>=1.1.2->htmldate>=1.9.2->trafilatura) (2025.2)\n"
     ]
    }
   ],
   "source": [
    "! pip install -U openai haystack-ai duckduckgo-api-haystack python-dotenv jsonschema trafilatura"
   ]
  },
  {
   "cell_type": "markdown",
   "metadata": {},
   "source": [
    "### Load `.env` file"
   ]
  },
  {
   "cell_type": "code",
   "execution_count": 2,
   "metadata": {
    "cell_id": "5b8b90cd6f004cbdb92e53a7f4439b56",
    "deepnote_cell_type": "code",
    "execution_context_id": "16acbe02-8077-40f0-8815-ab181b205957",
    "execution_millis": 1,
    "execution_start": 1738179700066,
    "source_hash": "7919a3c"
   },
   "outputs": [
    {
     "data": {
      "text/plain": [
       "True"
      ]
     },
     "execution_count": 2,
     "metadata": {},
     "output_type": "execute_result"
    }
   ],
   "source": [
    "from dotenv import load_dotenv\n",
    "\n",
    "load_dotenv() # Load environment variable (OPENAI_API_KEY) from .env file "
   ]
  },
  {
   "cell_type": "markdown",
   "metadata": {},
   "source": [
    "### Import Packages"
   ]
  },
  {
   "cell_type": "code",
   "execution_count": 3,
   "metadata": {
    "cell_id": "33c24943473c42a98aaf1870e28aec8e",
    "deepnote_cell_type": "code",
    "execution_context_id": "16acbe02-8077-40f0-8815-ab181b205957",
    "execution_millis": 550,
    "execution_start": 1738179700114,
    "source_hash": "83d8f388"
   },
   "outputs": [],
   "source": [
    "from typing import Annotated, Callable, Tuple\n",
    "from dataclasses import dataclass, field\n",
    "\n",
    "import random, re\n",
    "\n",
    "from haystack.dataclasses import ChatMessage, ChatRole\n",
    "from haystack.tools import create_tool_from_function\n",
    "from haystack.components.tools import ToolInvoker\n",
    "from haystack.components.generators.chat import OpenAIChatGenerator"
   ]
  },
  {
   "cell_type": "code",
   "execution_count": 4,
   "metadata": {},
   "outputs": [],
   "source": [
    "from haystack import Pipeline\n",
    "from haystack.utils import Secret\n",
    "from haystack.components.builders.prompt_builder import PromptBuilder\n",
    "from haystack.components.fetchers import LinkContentFetcher\n",
    "from haystack.components.converters import HTMLToDocument\n",
    "from haystack.components.generators import OpenAIGenerator\n",
    "from duckduckgo_api_haystack import DuckduckgoApiWebSearch"
   ]
  },
  {
   "cell_type": "markdown",
   "metadata": {},
   "source": [
    "### Mermaid Function"
   ]
  },
  {
   "cell_type": "code",
   "execution_count": 5,
   "metadata": {},
   "outputs": [],
   "source": [
    "import base64\n",
    "from IPython.display import display_svg\n",
    "from urllib.request import Request, urlopen\n",
    "\n",
    "def mm(graph):\n",
    "    graphbytes = graph.encode(\"ascii\")\n",
    "    base64_bytes = base64.b64encode(graphbytes)\n",
    "    base64_string = base64_bytes.decode(\"ascii\")\n",
    "    url=\"https://mermaid.ink/svg/\" + base64_string\n",
    "    req=Request(url, headers={'User-Agent': 'IPython/Notebook'})\n",
    "    display_svg(urlopen(req).read().decode(), raw=True)"
   ]
  },
  {
   "cell_type": "markdown",
   "metadata": {
    "cell_id": "b596c2f4403245468b8ba42da4799614",
    "deepnote_cell_type": "text-cell-h2",
    "formattedRanges": []
   },
   "source": [
    "# 3. Agent Setup"
   ]
  },
  {
   "cell_type": "markdown",
   "metadata": {},
   "source": [
    "Since, we are only testing the feasibility of the framework. We'll take two functional agent and an additional dummy agent, to create a heirarchial agent setup."
   ]
  },
  {
   "cell_type": "code",
   "execution_count": 6,
   "metadata": {},
   "outputs": [
    {
     "data": {
      "image/svg+xml": [
       "<svg id=\"mermaid-svg\" width=\"100%\" xmlns=\"http://www.w3.org/2000/svg\" class=\"flowchart\" style=\"max-width: 649.578125px;\" viewBox=\"0 0 649.578125 222\" role=\"graphics-document document\" aria-roledescription=\"flowchart-v2\" xmlns:xlink=\"http://www.w3.org/1999/xlink\"><style xmlns=\"http://www.w3.org/1999/xhtml\">@import url(\"https://cdnjs.cloudflare.com/ajax/libs/font-awesome/6.7.2/css/all.min.css\");</style><style>#mermaid-svg{font-family:\"trebuchet ms\",verdana,arial,sans-serif;font-size:16px;fill:#333;}#mermaid-svg .error-icon{fill:#552222;}#mermaid-svg .error-text{fill:#552222;stroke:#552222;}#mermaid-svg .edge-thickness-normal{stroke-width:1px;}#mermaid-svg .edge-thickness-thick{stroke-width:3.5px;}#mermaid-svg .edge-pattern-solid{stroke-dasharray:0;}#mermaid-svg .edge-thickness-invisible{stroke-width:0;fill:none;}#mermaid-svg .edge-pattern-dashed{stroke-dasharray:3;}#mermaid-svg .edge-pattern-dotted{stroke-dasharray:2;}#mermaid-svg .marker{fill:#333333;stroke:#333333;}#mermaid-svg .marker.cross{stroke:#333333;}#mermaid-svg svg{font-family:\"trebuchet ms\",verdana,arial,sans-serif;font-size:16px;}#mermaid-svg p{margin:0;}#mermaid-svg .label{font-family:\"trebuchet ms\",verdana,arial,sans-serif;color:#333;}#mermaid-svg .cluster-label text{fill:#333;}#mermaid-svg .cluster-label span{color:#333;}#mermaid-svg .cluster-label span p{background-color:transparent;}#mermaid-svg .label text,#mermaid-svg span{fill:#333;color:#333;}#mermaid-svg .node rect,#mermaid-svg .node circle,#mermaid-svg .node ellipse,#mermaid-svg .node polygon,#mermaid-svg .node path{fill:#ECECFF;stroke:#9370DB;stroke-width:1px;}#mermaid-svg .rough-node .label text,#mermaid-svg .node .label text,#mermaid-svg .image-shape .label,#mermaid-svg .icon-shape .label{text-anchor:middle;}#mermaid-svg .node .katex path{fill:#000;stroke:#000;stroke-width:1px;}#mermaid-svg .rough-node .label,#mermaid-svg .node .label,#mermaid-svg .image-shape .label,#mermaid-svg .icon-shape .label{text-align:center;}#mermaid-svg .node.clickable{cursor:pointer;}#mermaid-svg .root .anchor path{fill:#333333!important;stroke-width:0;stroke:#333333;}#mermaid-svg .arrowheadPath{fill:#333333;}#mermaid-svg .edgePath .path{stroke:#333333;stroke-width:2.0px;}#mermaid-svg .flowchart-link{stroke:#333333;fill:none;}#mermaid-svg .edgeLabel{background-color:rgba(232,232,232, 0.8);text-align:center;}#mermaid-svg .edgeLabel p{background-color:rgba(232,232,232, 0.8);}#mermaid-svg .edgeLabel rect{opacity:0.5;background-color:rgba(232,232,232, 0.8);fill:rgba(232,232,232, 0.8);}#mermaid-svg .labelBkg{background-color:rgba(232, 232, 232, 0.5);}#mermaid-svg .cluster rect{fill:#ffffde;stroke:#aaaa33;stroke-width:1px;}#mermaid-svg .cluster text{fill:#333;}#mermaid-svg .cluster span{color:#333;}#mermaid-svg div.mermaidTooltip{position:absolute;text-align:center;max-width:200px;padding:2px;font-family:\"trebuchet ms\",verdana,arial,sans-serif;font-size:12px;background:hsl(80, 100%, 96.2745098039%);border:1px solid #aaaa33;border-radius:2px;pointer-events:none;z-index:100;}#mermaid-svg .flowchartTitleText{text-anchor:middle;font-size:18px;fill:#333;}#mermaid-svg rect.text{fill:none;stroke-width:0;}#mermaid-svg .icon-shape,#mermaid-svg .image-shape{background-color:rgba(232,232,232, 0.8);text-align:center;}#mermaid-svg .icon-shape p,#mermaid-svg .image-shape p{background-color:rgba(232,232,232, 0.8);padding:2px;}#mermaid-svg .icon-shape rect,#mermaid-svg .image-shape rect{opacity:0.5;background-color:rgba(232,232,232, 0.8);fill:rgba(232,232,232, 0.8);}#mermaid-svg :root{--mermaid-font-family:\"trebuchet ms\",verdana,arial,sans-serif;}</style><g><marker id=\"mermaid-svg_flowchart-v2-pointEnd\" class=\"marker flowchart-v2\" viewBox=\"0 0 10 10\" refX=\"5\" refY=\"5\" markerUnits=\"userSpaceOnUse\" markerWidth=\"8\" markerHeight=\"8\" orient=\"auto\"><path d=\"M 0 0 L 10 5 L 0 10 z\" class=\"arrowMarkerPath\" style=\"stroke-width: 1; stroke-dasharray: 1, 0;\"/></marker><marker id=\"mermaid-svg_flowchart-v2-pointStart\" class=\"marker flowchart-v2\" viewBox=\"0 0 10 10\" refX=\"4.5\" refY=\"5\" markerUnits=\"userSpaceOnUse\" markerWidth=\"8\" markerHeight=\"8\" orient=\"auto\"><path d=\"M 0 5 L 10 10 L 10 0 z\" class=\"arrowMarkerPath\" style=\"stroke-width: 1; stroke-dasharray: 1, 0;\"/></marker><marker id=\"mermaid-svg_flowchart-v2-circleEnd\" class=\"marker flowchart-v2\" viewBox=\"0 0 10 10\" refX=\"11\" refY=\"5\" markerUnits=\"userSpaceOnUse\" markerWidth=\"11\" markerHeight=\"11\" orient=\"auto\"><circle cx=\"5\" cy=\"5\" r=\"5\" class=\"arrowMarkerPath\" style=\"stroke-width: 1; stroke-dasharray: 1, 0;\"/></marker><marker id=\"mermaid-svg_flowchart-v2-circleStart\" class=\"marker flowchart-v2\" viewBox=\"0 0 10 10\" refX=\"-1\" refY=\"5\" markerUnits=\"userSpaceOnUse\" markerWidth=\"11\" markerHeight=\"11\" orient=\"auto\"><circle cx=\"5\" cy=\"5\" r=\"5\" class=\"arrowMarkerPath\" style=\"stroke-width: 1; stroke-dasharray: 1, 0;\"/></marker><marker id=\"mermaid-svg_flowchart-v2-crossEnd\" class=\"marker cross flowchart-v2\" viewBox=\"0 0 11 11\" refX=\"12\" refY=\"5.2\" markerUnits=\"userSpaceOnUse\" markerWidth=\"11\" markerHeight=\"11\" orient=\"auto\"><path d=\"M 1,1 l 9,9 M 10,1 l -9,9\" class=\"arrowMarkerPath\" style=\"stroke-width: 2; stroke-dasharray: 1, 0;\"/></marker><marker id=\"mermaid-svg_flowchart-v2-crossStart\" class=\"marker cross flowchart-v2\" viewBox=\"0 0 11 11\" refX=\"-1\" refY=\"5.2\" markerUnits=\"userSpaceOnUse\" markerWidth=\"11\" markerHeight=\"11\" orient=\"auto\"><path d=\"M 1,1 l 9,9 M 10,1 l -9,9\" class=\"arrowMarkerPath\" style=\"stroke-width: 2; stroke-dasharray: 1, 0;\"/></marker><g class=\"root\"><g class=\"clusters\"/><g class=\"edgePaths\"><path d=\"M242.907,62L214.725,70.167C186.542,78.333,130.177,94.667,111.462,110.578C92.747,126.489,111.682,141.978,121.149,149.723L130.617,157.467\" id=\"L_A_B_0\" class=\" edge-thickness-normal edge-pattern-solid edge-thickness-normal edge-pattern-solid flowchart-link\" style=\"\" marker-end=\"url(#mermaid-svg_flowchart-v2-pointEnd)\"/><path d=\"M363.244,62L371.46,70.167C379.676,78.333,396.108,94.667,411.444,110.511C426.781,126.356,441.023,141.711,448.144,149.389L455.265,157.067\" id=\"L_A_C_1\" class=\" edge-thickness-normal edge-pattern-solid edge-thickness-normal edge-pattern-solid flowchart-link\" style=\"\" marker-end=\"url(#mermaid-svg_flowchart-v2-pointEnd)\"/><path d=\"M199.725,160L209.708,151.833C219.692,143.667,239.658,127.333,257.385,111.47C275.111,95.607,290.597,80.213,298.34,72.517L306.083,64.82\" id=\"L_B_A_2\" class=\" edge-thickness-normal edge-pattern-solid edge-thickness-normal edge-pattern-solid flowchart-link\" style=\"\" marker-end=\"url(#mermaid-svg_flowchart-v2-pointEnd)\"/><path d=\"M508.069,160L515.644,151.833C523.218,143.667,538.367,127.333,523.206,111.22C508.045,95.107,462.575,79.213,439.839,71.267L417.104,63.32\" id=\"L_C_A_3\" class=\" edge-thickness-normal edge-pattern-solid edge-thickness-normal edge-pattern-solid flowchart-link\" style=\"\" marker-end=\"url(#mermaid-svg_flowchart-v2-pointEnd)\"/></g><g class=\"edgeLabels\"><g class=\"edgeLabel\" transform=\"translate(73.8125, 111)\"><g class=\"label\" transform=\"translate(-65.8125, -12)\"><foreignObject width=\"131.625\" height=\"24\"><div xmlns=\"http://www.w3.org/1999/xhtml\" class=\"labelBkg\" style=\"display: table-cell; white-space: nowrap; line-height: 1.5; max-width: 200px; text-align: center;\"><span class=\"edgeLabel \"><p>Delegates tasks to</p></span></div></foreignObject></g></g><g class=\"edgeLabel\" transform=\"translate(412.5390625, 111)\"><g class=\"label\" transform=\"translate(-32.9140625, -12)\"><foreignObject width=\"65.828125\" height=\"24\"><div xmlns=\"http://www.w3.org/1999/xhtml\" class=\"labelBkg\" style=\"display: table-cell; white-space: nowrap; line-height: 1.5; max-width: 200px; text-align: center;\"><span class=\"edgeLabel \"><p>Manages</p></span></div></foreignObject></g></g><g class=\"edgeLabel\" transform=\"translate(259.625, 111)\"><g class=\"label\" transform=\"translate(-100, -24)\"><foreignObject width=\"200\" height=\"48\"><div xmlns=\"http://www.w3.org/1999/xhtml\" class=\"labelBkg\" style=\"display: table; white-space: break-spaces; line-height: 1.5; max-width: 200px; text-align: center; width: 200px;\"><span class=\"edgeLabel \"><p>Performs research and provides insights</p></span></div></foreignObject></g></g><g class=\"edgeLabel\" transform=\"translate(553.515625, 111)\"><g class=\"label\" transform=\"translate(-88.0625, -12)\"><foreignObject width=\"176.125\" height=\"24\"><div xmlns=\"http://www.w3.org/1999/xhtml\" class=\"labelBkg\" style=\"display: table-cell; white-space: nowrap; line-height: 1.5; max-width: 200px; text-align: center;\"><span class=\"edgeLabel \"><p>Idle or placeholder agent</p></span></div></foreignObject></g></g></g><g class=\"nodes\"><g class=\"node default  \" id=\"flowchart-A-0\" transform=\"translate(336.08203125, 35)\"><rect class=\"basic label-container\" style=\"\" x=\"-97.1484375\" y=\"-27\" width=\"194.296875\" height=\"54\"/><g class=\"label\" style=\"\" transform=\"translate(-67.1484375, -12)\"><rect/><foreignObject width=\"134.296875\" height=\"24\"><div xmlns=\"http://www.w3.org/1999/xhtml\" style=\"display: table-cell; white-space: nowrap; line-height: 1.5; max-width: 200px; text-align: center;\"><span class=\"nodeLabel \"><p>Orchestrator Agent</p></span></div></foreignObject></g></g><g class=\"node default  \" id=\"flowchart-B-1\" transform=\"translate(166.71875, 187)\"><rect class=\"basic label-container\" style=\"\" x=\"-86.9296875\" y=\"-27\" width=\"173.859375\" height=\"54\"/><g class=\"label\" style=\"\" transform=\"translate(-56.9296875, -12)\"><rect/><foreignObject width=\"113.859375\" height=\"24\"><div xmlns=\"http://www.w3.org/1999/xhtml\" style=\"display: table-cell; white-space: nowrap; line-height: 1.5; max-width: 200px; text-align: center;\"><span class=\"nodeLabel \"><p>Research Agent</p></span></div></foreignObject></g></g><g class=\"node default  \" id=\"flowchart-C-3\" transform=\"translate(483.02734375, 187)\"><rect class=\"basic label-container\" style=\"\" x=\"-80.2421875\" y=\"-27\" width=\"160.484375\" height=\"54\"/><g class=\"label\" style=\"\" transform=\"translate(-50.2421875, -12)\"><rect/><foreignObject width=\"100.484375\" height=\"24\"><div xmlns=\"http://www.w3.org/1999/xhtml\" style=\"display: table-cell; white-space: nowrap; line-height: 1.5; max-width: 200px; text-align: center;\"><span class=\"nodeLabel \"><p>Dummy Agent</p></span></div></foreignObject></g></g></g></g></g></svg>"
      ]
     },
     "metadata": {},
     "output_type": "display_data"
    }
   ],
   "source": [
    "mm(\"\"\"\n",
    "   graph TD\n",
    "    A[Orchestrator Agent] -->|Delegates tasks to| B[Research Agent]\n",
    "    A -->|Manages| C[Dummy Agent]\n",
    "    B -->|Performs research and provides insights| A\n",
    "    C -->|Idle or placeholder agent| A\n",
    "\"\"\")"
   ]
  },
  {
   "cell_type": "markdown",
   "metadata": {},
   "source": [
    "### Orchestrator Agent\n",
    "\n",
    "Coordinate workflow, Answer general questions, manage inter-agent communication, and finalize outputs."
   ]
  },
  {
   "cell_type": "markdown",
   "metadata": {
    "cell_id": "b9c5120c276a4e6596b165c684b30b2e",
    "deepnote_cell_type": "text-cell-p",
    "formattedRanges": [
     {
      "fromCodePoint": 0,
      "marks": {
       "bold": true
      },
      "toCodePoint": 16,
      "type": "marks"
     }
    ]
   },
   "source": [
    "### Research Agent\n",
    "Investigate the industry/company, trends, competitors, and market dynamics."
   ]
  },
  {
   "cell_type": "markdown",
   "metadata": {
    "cell_id": "eb652dcbbbbf47c696bc3617d3517ade",
    "deepnote_cell_type": "text-cell-p",
    "formattedRanges": [
     {
      "fromCodePoint": 0,
      "marks": {
       "bold": true
      },
      "toCodePoint": 18,
      "type": "marks"
     }
    ]
   },
   "source": [
    "### Dummy Agent\n",
    "Act as a placeholder, to help test the handsoff."
   ]
  },
  {
   "cell_type": "markdown",
   "metadata": {},
   "source": [
    "# 4. Implementation"
   ]
  },
  {
   "cell_type": "markdown",
   "metadata": {},
   "source": [
    "## Swarm Agent & Handoff Defination "
   ]
  },
  {
   "cell_type": "code",
   "execution_count": 7,
   "metadata": {},
   "outputs": [],
   "source": [
    "HANDOFF_TEMPLATE = \"Transferred to: {agent_name}. Adopt persona immediately.\"\n",
    "HANDOFF_PATTERN = r\"Transferred to: (.*?)(?:\\.|$)\"\n",
    "\n",
    "\n",
    "@dataclass\n",
    "class SwarmAgent:\n",
    "    name: str = \"SwarmAgent\"\n",
    "    llm: object = OpenAIChatGenerator(model=\"gpt-4o-mini\")\n",
    "    instructions: str = \"You are a helpful Agent\"\n",
    "    functions: list[Callable] = field(default_factory=list)\n",
    "\n",
    "    def __post_init__(self):\n",
    "        self._system_message = ChatMessage.from_system(self.instructions)\n",
    "        self.tools = [create_tool_from_function(fun) for fun in self.functions] if self.functions else None\n",
    "        self._tool_invoker = ToolInvoker(tools=self.tools, raise_on_failure=False) if self.tools else None\n",
    "\n",
    "    def run(self, messages: list[ChatMessage]) -> Tuple[str, list[ChatMessage]]:\n",
    "        # generate response\n",
    "        agent_message = self.llm.run(messages=[self._system_message] + messages, tools=self.tools)[\"replies\"][0]\n",
    "        new_messages = [agent_message]\n",
    "\n",
    "        if agent_message.text:\n",
    "            print(f\"\\n{self.name}: {agent_message.text}\")\n",
    "\n",
    "        if not agent_message.tool_calls:\n",
    "            return self.name, new_messages\n",
    "\n",
    "        # handle tool calls\n",
    "        for tc in agent_message.tool_calls:\n",
    "            # trick: Ollama do not produce IDs, but OpenAI and Anthropic require them.\n",
    "            if tc.id is None:\n",
    "                tc.id = str(random.randint(0, 1000000))\n",
    "        tool_results = self._tool_invoker.run(messages=[agent_message])[\"tool_messages\"]\n",
    "        new_messages.extend(tool_results)\n",
    "\n",
    "        # handoff\n",
    "        last_result = tool_results[-1].tool_call_result.result\n",
    "        match = re.search(HANDOFF_PATTERN, last_result)\n",
    "        new_agent_name = match.group(1) if match else self.name\n",
    "\n",
    "        return new_agent_name, new_messages"
   ]
  },
  {
   "cell_type": "markdown",
   "metadata": {
    "cell_id": "0b865cac4a8a4b1b9333b5642c1d2071",
    "deepnote_cell_type": "text-cell-h3",
    "formattedRanges": []
   },
   "source": [
    "## Handoff Rules"
   ]
  },
  {
   "cell_type": "code",
   "execution_count": 8,
   "metadata": {
    "cell_id": "eab388719a8349749e531056680b5d13",
    "deepnote_cell_type": "code",
    "execution_context_id": "16acbe02-8077-40f0-8815-ab181b205957",
    "execution_millis": 2,
    "execution_start": 1738179712801,
    "source_hash": "ff54d1d2"
   },
   "outputs": [],
   "source": [
    "def transfer_to_dummy():\n",
    "    \"\"\"Pass to this Agent if asked to explicitly.\"\"\"\n",
    "    return HANDOFF_TEMPLATE.format(agent_name=\"Dummy Agent\")\n",
    "\n",
    "def transfer_to_research_agent():\n",
    "    \"\"\"Pass to this Agent for anything that requires investigating the industry/company, trends, competitors, market dynamics related.\"\"\"\n",
    "    return HANDOFF_TEMPLATE.format(agent_name=\"Research Agent\")\n",
    "\n",
    "\n",
    "def transfer_back_to_orchestrator():\n",
    "    \"\"\"Pass to this Agent for any topic outside of your purview or list of tasks.\"\"\"\n",
    "    return HANDOFF_TEMPLATE.format(agent_name=\"Orchestrator Agent\")"
   ]
  },
  {
   "cell_type": "markdown",
   "metadata": {},
   "source": [
    "## Orchestrator Agent"
   ]
  },
  {
   "cell_type": "markdown",
   "metadata": {},
   "source": [
    "### Tools Defination"
   ]
  },
  {
   "cell_type": "code",
   "execution_count": 9,
   "metadata": {},
   "outputs": [],
   "source": [
    "def summary(summary: Annotated[str, \"A summary\"]):\n",
    "    \"\"\"Only call this if explicitly asked to.\"\"\"\n",
    "    print(\"\\n=== Summarised Report ===\")\n",
    "    print(f\"{summary}\")\n",
    "    print(\"=========================\\n\")\n",
    "    exit()\n",
    "    \n",
    "def self_terminate():\n",
    "    \"\"\"Only call this if explicitly asked to.\"\"\"\n",
    "    print(\"\\n=== Self Terminated ===\")\n",
    "    print(\"Agent has been terminated.\")\n",
    "    print(\"=========================\\n\")\n",
    "    exit()\n",
    "    \n",
    "def reflect():\n",
    "    \"\"\"Call this to reflect and check if given market research has been completed or not.\"\"\"\n",
    "    print(\"\\n=== Reflecting ===\")\n",
    "    print(\"Agent is reflecting on its actions.\")\n",
    "    print(\"=========================\\n\")\n",
    "    return HANDOFF_TEMPLATE.format(agent_name=\"Orchestrator Agent\")"
   ]
  },
  {
   "cell_type": "markdown",
   "metadata": {
    "cell_id": "b29e176d71934fff974172adc78034f8",
    "deepnote_cell_type": "text-cell-h3",
    "formattedRanges": []
   },
   "source": [
    "### Agent Definition"
   ]
  },
  {
   "cell_type": "code",
   "execution_count": 10,
   "metadata": {
    "cell_id": "cd727b860c8b457a87af39b727f12b5b",
    "deepnote_cell_type": "code",
    "execution_context_id": "16acbe02-8077-40f0-8815-ab181b205957",
    "execution_millis": 1,
    "execution_start": 1738179761146,
    "source_hash": "4489ee0"
   },
   "outputs": [],
   "source": [
    "orch_agent = SwarmAgent(\n",
    "    name=\"Orchestrator Agent\",\n",
    "    instructions=(\n",
    "        \"\"\"Parse the user’s input to determine the target industry/company, research scope, and desired outputs. \n",
    "        Break the query into subtasks for Research Agent, Use Case Generator, and Resource Collector. \"\"\"\n",
    "        \"Trigger agents in sequence: Research Agent → Use Case Generator → Resource Collector. Ensure each agent’s output is validated before passing it to the next agent. \"\n",
    "        \"Reflect on your actions to check if problem is solved or not.\"\n",
    "        \"Pass only relevant data to downstream agents. \"\n",
    "        \"Monitor agent tasks for failures (e.g., API errors, incomplete data). Retry up to 3 times. If unresolved, escalate to the user with a summary of the issue.\"\n",
    "        \"Combine outputs from all agents into a final report. Structure it as: Market Overview → Use Cases → Data Resources.\"\n",
    "        \"Make tool calls only if necessary and make sure to provide the right arguments.\"\n",
    "    ),\n",
    "    functions=[transfer_to_research_agent, transfer_to_dummy, summary],\n",
    ")"
   ]
  },
  {
   "cell_type": "markdown",
   "metadata": {},
   "source": [
    "# Research Agent"
   ]
  },
  {
   "cell_type": "markdown",
   "metadata": {},
   "source": [
    "### Tools Defination"
   ]
  },
  {
   "cell_type": "code",
   "execution_count": 11,
   "metadata": {},
   "outputs": [],
   "source": [
    "def search_tool(search_query: Annotated[str, \"Question that you want to be searched on the internet\"]):\n",
    "    \"\"\"Call this to search for information to be added in the research work.\"\"\"\n",
    "    prompt_template=\"\"\"\n",
    "    Given the information below:\n",
    "    {% for document in documents %}\n",
    "        {{ document.content }}\n",
    "    {% endfor %}\n",
    "    Answer question: {{ query }}.\n",
    "    Answer:\n",
    "    \"\"\"\n",
    "    \n",
    "    searchPipe = Pipeline()\n",
    "    searchPipe.add_component(\"search\", DuckduckgoApiWebSearch(top_k=10))\n",
    "    searchPipe.add_component(\"fetcher\", LinkContentFetcher())\n",
    "    searchPipe.add_component(\"converter\", HTMLToDocument())\n",
    "    searchPipe.add_component(\"prompt_builder\", PromptBuilder(template=prompt_template))\n",
    "    searchPipe.add_component(\"llm\", OpenAIGenerator(model=\"gpt-4o-mini\"))\n",
    "    \n",
    "    searchPipe.connect(\"search.links\", \"fetcher.urls\")\n",
    "    searchPipe.connect(\"fetcher.streams\", \"converter.sources\")\n",
    "    searchPipe.connect(\"converter.documents\", \"prompt_builder.documents\")\n",
    "    searchPipe.connect(\"prompt_builder.prompt\", \"llm.prompt\")\n",
    "    \n",
    "    response = searchPipe.run(data={\"search\":{\"query\":search_query}, \"prompt_builder\":{\"query\": search_query}})\n",
    "    \n",
    "    return response[\"llm\"][\"replies\"][0] if response[\"llm\"][\"replies\"] else \"No results found.\""
   ]
  },
  {
   "cell_type": "markdown",
   "metadata": {},
   "source": [
    "### Agent Defination"
   ]
  },
  {
   "cell_type": "code",
   "execution_count": 12,
   "metadata": {},
   "outputs": [],
   "source": [
    "research_agent = SwarmAgent(\n",
    "    name = \"Research Agent\",\n",
    "    instructions = (\n",
    "        \"\"\"Conduct in-depth research on the target industry/company. \n",
    "        Gather data on market trends, competitors, and dynamics. \n",
    "        Validate all data before passing it to the next agent. \n",
    "        Ensure that the information is accurate and up-to-date.\n",
    "        Make tool calls only if necessary and make sure to provide the right arguments.\n",
    "        Make sure to choose the optimal search query.\n",
    "        If the research is complete, pass the results to the next agent.\n",
    "        If the research is incomplete, reflect on your actions and check if the problem is solved or not.\n",
    "        Next agent is: Orchestrator Agent.\"\"\"\n",
    "    ),\n",
    "    functions=[transfer_back_to_orchestrator, search_tool],\n",
    ")\n"
   ]
  },
  {
   "cell_type": "markdown",
   "metadata": {},
   "source": [
    "## Dummy Agent"
   ]
  },
  {
   "cell_type": "markdown",
   "metadata": {},
   "source": [
    "### Tool Defination"
   ]
  },
  {
   "cell_type": "code",
   "execution_count": 13,
   "metadata": {},
   "outputs": [],
   "source": [
    "# Note: The Dummy Agent is a placeholder and does not perform any specific tasks. It can be used for testing or as a fallback option."
   ]
  },
  {
   "cell_type": "markdown",
   "metadata": {},
   "source": [
    "### Agent Defination"
   ]
  },
  {
   "cell_type": "code",
   "execution_count": 14,
   "metadata": {},
   "outputs": [],
   "source": [
    "dummy_agent = SwarmAgent(\n",
    "    name = \"Dummy Agent\",\n",
    "    instructions = (\n",
    "        \"\"\"This agent is a placeholder and does not perform any specific tasks. \n",
    "        It is used to manage the flow of tasks between other agents. \n",
    "        If the agent is called, it will pass the task back to the orchestrator agent.\"\"\"\n",
    "    ),\n",
    "    functions=[transfer_back_to_orchestrator],\n",
    ") "
   ]
  },
  {
   "cell_type": "markdown",
   "metadata": {},
   "source": [
    "# Interconnecting the Agents"
   ]
  },
  {
   "cell_type": "code",
   "execution_count": 15,
   "metadata": {},
   "outputs": [
    {
     "name": "stdout",
     "output_type": "stream",
     "text": [
      "Type 'quit' to exit\n"
     ]
    },
    {
     "name": "stderr",
     "output_type": "stream",
     "text": [
      "c:\\Users\\angel\\Documents\\GitHub\\ambitus-ai-models\\.conda\\Lib\\site-packages\\duckduckgo_api_haystack\\duckduckgoapi.py:176: UserWarning: backend='api' is deprecated, using backend='auto'\n",
      "  results = self.ddgs.text(**payload)\n",
      "Error fetching https://investorguruji.com/business-model-of-zepto/: HTTPSConnectionPool(host='investorguruji.com', port=443): Read timed out. (read timeout=3)\n",
      "Failed to extract text from ByteStream(data=b'%PDF-1.7\\r\\n%\\xb5\\xb5\\xb5\\xb5\\r\\n1 0 obj\\r\\n<</Type/Catalog/Pages 2 0 R/Lang(en-IN) /StructTreeRoot 68 0 R/MarkInfo<</...', meta={'content_type': 'application/pdf', 'url': 'https://www.inspirajournals.com/uploads/Issues/1841235791.pdf'}, mime_type='application/pdf'). Skipping it. Error: 'utf-8' codec can't decode byte 0xb5 in position 11: invalid start byte\n",
      "Error fetching https://www.factsuite.com/blog/top-startup-disruption-stories-of-2023: HTTPSConnectionPool(host='www.factsuite.com', port=443): Read timed out. (read timeout=3)\n",
      "Failed to extract text from ByteStream(data=b'%PDF-1.7\\r\\n%\\xb5\\xb5\\xb5\\xb5\\r\\n1 0 obj\\r\\n<</Type/Catalog/Pages 2 0 R/Lang(en-IN) /StructTreeRoot 68 0 R/MarkInfo<</...', meta={'content_type': 'application/pdf', 'url': 'https://www.inspirajournals.com/uploads/Issues/1841235791.pdf'}, mime_type='application/pdf'). Skipping it. Error: 'utf-8' codec can't decode byte 0xb5 in position 11: invalid start byte\n",
      "Failed to extract text from ByteStream(data=b'%PDF-1.7\\r\\n%\\xb5\\xb5\\xb5\\xb5\\r\\n1 0 obj\\r\\n<</Type/Catalog/Pages 2 0 R/Lang(en-IN) /StructTreeRoot 68 0 R/MarkInfo<</...', meta={'content_type': 'application/pdf', 'url': 'https://www.inspirajournals.com/uploads/Issues/1841235791.pdf'}, mime_type='application/pdf'). Skipping it. Error: 'utf-8' codec can't decode byte 0xb5 in position 11: invalid start byte\n"
     ]
    },
    {
     "name": "stdout",
     "output_type": "stream",
     "text": [
      "\n",
      "Research Agent: ### Analysis of Zepto's Current Business, Technical, and Marketing Strategies\n",
      "\n",
      "**Business Strategy**\n",
      "\n",
      "Zepto, established in 2021, has carved out a significant niche in the Indian quick-commerce market, emphasizing:\n",
      "\n",
      "1. **Ultra-Fast Delivery**: Their central promise is grocery delivery within **10 minutes**, facilitated by a network of strategically located **dark stores** (mini-warehouses). The company has achieved a remarkable median delivery time of **8 minutes and 47 seconds**.\n",
      "\n",
      "2. **Technological Integration**: Utilizing AI and data analytics, Zepto optimizes operations through:\n",
      "   - Demand forecasting\n",
      "   - Route optimization\n",
      "   - Real-time inventory tracking\n",
      "\n",
      "3. **Efficiency and Cost Management**: Focus on minimizing cash burn and operational costs, allowing for rapid expansion without compromising quality or service.\n",
      "\n",
      "4. **Customer-Centricity**: A streamlined user experience on their platform enhances customer satisfaction, while loyalty programs and targeted marketing engage users effectively.\n",
      "\n",
      "5. **Geographic Expansion**: Plans to increase dark store locations from **350 to 700** leverage under-served markets for growth.\n",
      "\n",
      "6. **Product Diversification**: Launching initiatives like **Zepto Café** and developing house brands to enhance margins and revenue streams.\n",
      "\n",
      "7. **Sustainability**: Initiatives like eco-friendly packaging align with consumer trends favoring environmental responsibility.\n",
      "\n",
      "**Technical Innovations**\n",
      "\n",
      "In 2023, Zepto's focus on technology includes:\n",
      "\n",
      "1. **Advanced Supply Chain Technologies**: Building a sophisticated supply chain that enhances logistics and inventory management.\n",
      "\n",
      "2. **Dark Store Optimization**: Expansion and profitability focus for new dark stores to boost delivery capabilities.\n",
      "\n",
      "3. **Zepto Pass**: A membership program aimed at increasing customer retention and providing exclusive benefits.\n",
      "\n",
      "4. **Data Analytics**: Effective use of customer behavior analytics to inform inventory, delivery, and personalized experiences.\n",
      "\n",
      "5. **Sustainability and Efficiency**: Continuous exploration of eco-friendly practices in logistics and packaging.\n",
      "\n",
      "**Marketing Strategies**\n",
      "\n",
      "Zepto's innovative marketing in 2023 encompasses:\n",
      "\n",
      "1. **Speed Emphasis**: Leveraging their delivery speed in brand messaging.\n",
      "\n",
      "2. **Collaborative Advertising**: Engaging well-known personalities to enhance brand reach and recognition.\n",
      "\n",
      "3. **Social Media Engagement**: Utilizing humor and relatable content, including meme marketing, to resonate with younger audiences.\n",
      "\n",
      "4. **Influencer Partnerships**: Collaborations directed at fostering brand credibility among target demographic segments.\n",
      "\n",
      "5. **Referral Programs**: Incentivizing current users to acquire new customers through rewards.\n",
      "\n",
      "6. **Targeted Digital Marketing**: Engaging busy urban consumers through predictive analytics for targeted marketing.\n",
      "\n",
      "7. **Creative Campaigns**: The fictional character \"Uncle Ji\" resonating with audiences, leading to increased organic social media reach.\n",
      "\n",
      "8. **Micro-Moment Marketing**: Capturing consumers' instinctive needs for immediate service solutions.\n",
      "\n",
      "9. **Promotions and Discounts**: Time-sensitive deals to create urgency among consumers.\n",
      "\n",
      "10. **Data-Driven Marketing**: Utilizing analytics for continuous refinement of marketing strategies for maximum effectiveness.\n",
      "\n",
      "### Conclusion and Adaptation of Strategies for Growth\n",
      "\n",
      "Zepto’s success results from a blend of rapid delivery, technological leverage, responsive customer service, and creative marketing. This multidimensional strategy positions it strongly against competitors in a fast-evolving sector.\n",
      "\n",
      "**Adaptation for Scaling Other Businesses**:\n",
      "- **Leverage Technology**: Invest in data analytics and customer engagement tools to streamline operations.\n",
      "- **Focus on Customer Experience**: Prioritize seamless service delivery and establish loyalty programs.\n",
      "- **Expand Geographically and Diversify Offerings**: Tap into new markets and product lines to widen customer reach.\n",
      "- **Innovative Marketing**: Embrace creative, relatable content that resonates with target demographics across platforms.\n",
      "\n",
      "By integrating these strategies, businesses can enhance their growth trajectories and build competitive advantages in their sectors.\n",
      "\n",
      "Research Agent: ### Summary of Research on Zepto's Strategies\n",
      "\n",
      "1. **Business Strategy**:\n",
      "   - **Ultra-Fast Delivery**: Zepto promises grocery delivery in **10 minutes** using a network of **dark stores**, achieving a median delivery time of **8 minutes and 47 seconds**.\n",
      "   - **Technological Integration**: They utilize AI and data analytics for operations like demand forecasting and route optimization.\n",
      "   - **Efficiency and Cost Management**: Focus on minimizing cash burn while rapidly expanding their network of stores.\n",
      "   - **Customer-Centric Approach**: Emphasis on user-friendly platforms and engagement through loyalty programs.\n",
      "   - **Geographic Expansion**: Plans to increase dark store count significantly, tapping into underserved markets.\n",
      "   - **Product Diversification**: Ventures into new services like **Zepto Café** and the introduction of private-label products.\n",
      "   - **Sustainability Initiatives**: Focus on eco-friendly practices and reducing the carbon footprint.\n",
      "\n",
      "2. **Technical Innovations**:\n",
      "   - Investment in advanced supply chain technology to optimize logistics and inventory management.\n",
      "   - Launch of **Zepto Pass**, a membership program designed for customer retention.\n",
      "   - Enhanced use of data analytics to refine customer experience and operational efficiency.\n",
      "\n",
      "3. **Marketing Strategies**:\n",
      "   - Strong focus on delivering the speed promise in advertising.\n",
      "   - Memorable campaigns featuring popular personalities and humor-focused social media engagement.\n",
      "   - Collaborations with influencers to build credibility and visibility.\n",
      "   - Implementation of referral programs to incentivize customer acquisition.\n",
      "   - Creation of targeted digital marketing campaigns based on predictive analytics.\n",
      "   - Utilization of creative campaigns, including character-driven narratives that resonate with audiences.\n",
      "   - Continuous refinement through data-driven marketing techniques.\n",
      "\n",
      "### Conclusion:\n",
      "Zepto's strategic approach centers around rapid delivery, technological innovation, a strong customer focus, and creative marketing, leading to significant growth in the competitive quick-commerce sector. Other businesses can adapt these strategies to enhance their own growth and scalability.\n",
      "\n",
      "Orchestrator Agent: I have completed the analysis of Zepto's current business, technical, and marketing strategies, including insights into their operational approaches and how these contribute to their growth. If you have any further questions or need additional assistance, feel free to ask!\n",
      "\n",
      "Orchestrator Agent: Task is complete. Exiting now. If you need anything else in the future, don't hesitate to ask. Have a great day!\n",
      "\n",
      "Orchestrator Agent: It appears there’s no additional input. If you need any further assistance or have questions later, feel free to reach out. Thank you!\n"
     ]
    }
   ],
   "source": [
    "agents = {agent.name: agent for agent in [orch_agent, research_agent, dummy_agent]}\n",
    "\n",
    "print(\"Type 'quit' to exit\")\n",
    "\n",
    "messages = []\n",
    "current_agent_name = \"Orchestrator Agent\"\n",
    "\n",
    "while True:\n",
    "    agent = agents[current_agent_name]\n",
    "\n",
    "    if not messages or messages[-1].role == ChatRole.ASSISTANT:\n",
    "        user_input = input(\"User: \")\n",
    "        if user_input.lower() == \"quit\":\n",
    "            break\n",
    "        messages.append(ChatMessage.from_user(user_input))\n",
    "\n",
    "    current_agent_name, new_messages = agent.run(messages)\n",
    "    messages.extend(new_messages)"
   ]
  },
  {
   "cell_type": "markdown",
   "metadata": {},
   "source": [
    "### Observations\n",
    "\n",
    "- Both Agents are working properly. \n",
    "- Search tool can't access some pages due to `Scraper Protection`, yet analysis is working properly.\n",
    "- Since some pages lead to `pdf` we aren't able to access those contents.\n",
    "- Need better Observabiliity. Maybe setup `Open Telemetry` or utilise `Arize Phoenix` for saving time.  "
   ]
  },
  {
   "cell_type": "markdown",
   "metadata": {},
   "source": [
    "### Understanding the Response"
   ]
  },
  {
   "cell_type": "code",
   "execution_count": 44,
   "metadata": {},
   "outputs": [],
   "source": [
    "def display_conversation_history(messages):\n",
    "    current_agent = \"Agent\"  # Start with default agent\n",
    "    \n",
    "    for message in messages:\n",
    "        # Handle USER messages\n",
    "        if message.role == ChatRole.USER:\n",
    "            print(f\"\\n[User]\")\n",
    "            print(f\"Message: {message.text}\")\n",
    "        \n",
    "        # Handle ASSISTANT messages\n",
    "        elif message.role == ChatRole.ASSISTANT:\n",
    "            print(f\"\\n[{current_agent}]\")\n",
    "            \n",
    "            # Print text content if it exists\n",
    "            if message.text:\n",
    "                print(f\"Message: {message.text[:100]}...\" if len(message.text) > 100 else f\"Message: {message.text}\")\n",
    "            \n",
    "            # Print tool calls if they exist\n",
    "            if message.tool_calls:\n",
    "                for tc in message.tool_calls:\n",
    "                    print(f\"Tool Call: {tc.tool_name}\")\n",
    "                    if tc.arguments:\n",
    "                        print(f\"Arguments: {tc.arguments}\")\n",
    "        \n",
    "        # Handle TOOL messages and check for handoffs\n",
    "        elif message.role == ChatRole.TOOL:\n",
    "            # Extract result from tool call response\n",
    "            if message.text and len(message.text) > 0:\n",
    "                result = message.text[0].result if hasattr(message.text[0], 'result') else None\n",
    "                \n",
    "                # Check for handoff pattern in the result\n",
    "                if result and isinstance(result, str):\n",
    "                    match = re.search(HANDOFF_PATTERN, result)\n",
    "                    if match:\n",
    "                        new_agent = match.group(1)\n",
    "                        print(f\"Handoff: {current_agent} -> {new_agent}\")\n",
    "                        current_agent = new_agent\n",
    "                \n",
    "                # Print tool result (shortened if too long)\n",
    "                if result:\n",
    "                    print(f\"Tool Result: {result[:100]}...\" if len(result) > 100 else f\"Tool Result: {result}\")\n"
   ]
  },
  {
   "cell_type": "code",
   "execution_count": 45,
   "metadata": {},
   "outputs": [
    {
     "name": "stdout",
     "output_type": "stream",
     "text": [
      "\n",
      "[User]\n",
      "Message: Analyze Zepto's current business, technical, and marketing strategies. Provide insights into their key technical domains, ongoing and upcoming projects, recently released products, and innovative approaches in marketing. Highlight how these strategies have contributed to their growth and how similar strategies could be adapted to scale a business.\n",
      "\n",
      "[Agent]\n",
      "Tool Call: transfer_to_research_agent\n",
      "\n",
      "[Agent]\n",
      "Tool Call: search_tool\n",
      "Arguments: {'search_query': 'Zepto business strategy 2023 review'}\n",
      "Tool Call: search_tool\n",
      "Arguments: {'search_query': 'Zepto technical innovation current projects 2023'}\n",
      "Tool Call: search_tool\n",
      "Arguments: {'search_query': 'Zepto marketing strategies 2023'}\n",
      "\n",
      "[Agent]\n",
      "Message: ### Analysis of Zepto's Current Business, Technical, and Marketing Strategies\n",
      "\n",
      "**Business Strategy**...\n",
      "\n",
      "[User]\n",
      "Message: Give summary of your work\n",
      "\n",
      "[Agent]\n",
      "Message: ### Summary of Research on Zepto's Strategies\n",
      "\n",
      "1. **Business Strategy**:\n",
      "   - **Ultra-Fast Delivery*...\n",
      "\n",
      "[User]\n",
      "Message: Transfer to Orchestrator\n",
      "\n",
      "[Agent]\n",
      "Tool Call: transfer_back_to_orchestrator\n",
      "\n",
      "[Agent]\n",
      "Message: I have completed the analysis of Zepto's current business, technical, and marketing strategies, incl...\n",
      "\n",
      "[User]\n",
      "Message: Exit if task Complete\n",
      "\n",
      "[Agent]\n",
      "Message: Task is complete. Exiting now. If you need anything else in the future, don't hesitate to ask. Have ...\n",
      "\n",
      "[User]\n",
      "Message: \n",
      "\n",
      "[Agent]\n",
      "Message: It appears there’s no additional input. If you need any further assistance or have questions later, ...\n"
     ]
    }
   ],
   "source": [
    "display_conversation_history(messages)"
   ]
  },
  {
   "cell_type": "markdown",
   "metadata": {},
   "source": [
    "# 5. Conclusion"
   ]
  },
  {
   "cell_type": "markdown",
   "metadata": {},
   "source": [
    "- Swarm concepts are easily implementable using `Haystack`.\n",
    "- Tool Calling is working properly.\n",
    "- Additional `telemetry methods` maybe introducted to enhance debugging time of `ambitus`.\n",
    "- Using `Swarm` seems feasible.\n",
    "- Since our implementation of `Swarm` is using Haystack, we can easily use any LLM (given tool calling functionality)."
   ]
  }
 ],
 "metadata": {
  "deepnote_notebook_id": "27ea80a51e1b472aa25e1adb9ef8cbd5",
  "kernelspec": {
   "display_name": "Python 3",
   "language": "python",
   "name": "python3"
  },
  "language_info": {
   "codemirror_mode": {
    "name": "ipython",
    "version": 3
   },
   "file_extension": ".py",
   "mimetype": "text/x-python",
   "name": "python",
   "nbconvert_exporter": "python",
   "pygments_lexer": "ipython3",
   "version": "3.12.9"
  }
 },
 "nbformat": 4,
 "nbformat_minor": 0
}
