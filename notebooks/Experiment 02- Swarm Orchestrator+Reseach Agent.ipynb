{
 "cells": [
  {
   "cell_type": "markdown",
   "metadata": {},
   "source": [
    "# **EXPERIMENT 2: Use Swarm + Haystack to test Multi-Agentic Environment**"
   ]
  },
  {
   "cell_type": "markdown",
   "metadata": {},
   "source": [
    "# 1. Introduction\n",
    "- This experiment is designed to test the multi-agentic environment of the Swarm + Haystack framework.\n",
    "\n",
    "## Tasks\n",
    "- Implement Sample Orchestrator and Research Agent.\n",
    "- Test Basic Tooling.\n",
    "- Understand feasibility of work in using Swarm.\n",
    "- Test if Swarm locks to OpenAI LLMs."
   ]
  },
  {
   "cell_type": "markdown",
   "metadata": {},
   "source": [
    "# 2. Setup Phase"
   ]
  },
  {
   "cell_type": "code",
   "execution_count": null,
   "metadata": {
    "cell_id": "a2d2658c05874501a9c8c0c26df2f26f",
    "deepnote_cell_type": "code",
    "execution_context_id": "16acbe02-8077-40f0-8815-ab181b205957",
    "execution_millis": 7033,
    "execution_start": 1738179692989,
    "source_hash": "2cd88fe3"
   },
   "outputs": [],
   "source": [
    "! pip install -U openai haystack-ai duckduckgo-api-haystack python-dotenv jsonschema"
   ]
  },
  {
   "cell_type": "markdown",
   "metadata": {},
   "source": [
    "### Load `.env` file"
   ]
  },
  {
   "cell_type": "code",
   "execution_count": 2,
   "metadata": {
    "cell_id": "5b8b90cd6f004cbdb92e53a7f4439b56",
    "deepnote_cell_type": "code",
    "execution_context_id": "16acbe02-8077-40f0-8815-ab181b205957",
    "execution_millis": 1,
    "execution_start": 1738179700066,
    "source_hash": "7919a3c"
   },
   "outputs": [
    {
     "data": {
      "text/plain": [
       "True"
      ]
     },
     "execution_count": 2,
     "metadata": {},
     "output_type": "execute_result"
    }
   ],
   "source": [
    "from dotenv import load_dotenv\n",
    "\n",
    "load_dotenv() # Load environment variable (OPENAI_API_KEY) from .env file "
   ]
  },
  {
   "cell_type": "markdown",
   "metadata": {},
   "source": [
    "### Import Packages"
   ]
  },
  {
   "cell_type": "code",
   "execution_count": 3,
   "metadata": {
    "cell_id": "33c24943473c42a98aaf1870e28aec8e",
    "deepnote_cell_type": "code",
    "execution_context_id": "16acbe02-8077-40f0-8815-ab181b205957",
    "execution_millis": 550,
    "execution_start": 1738179700114,
    "source_hash": "83d8f388"
   },
   "outputs": [],
   "source": [
    "from typing import Annotated, Callable, Tuple\n",
    "from dataclasses import dataclass, field\n",
    "\n",
    "import random, re\n",
    "\n",
    "from haystack.dataclasses import ChatMessage, ChatRole\n",
    "from haystack.tools import create_tool_from_function\n",
    "from haystack.components.tools import ToolInvoker\n",
    "from haystack.components.generators.chat import OpenAIChatGenerator"
   ]
  },
  {
   "cell_type": "code",
   "execution_count": 10,
   "metadata": {},
   "outputs": [],
   "source": [
    "from haystack import Pipeline\n",
    "from haystack.utils import Secret\n",
    "from haystack.components.builders.prompt_builder import PromptBuilder\n",
    "from haystack.components.fetchers import LinkContentFetcher\n",
    "from haystack.components.converters import HTMLToDocument\n",
    "from haystack.components.generators import OpenAIGenerator\n",
    "from duckduckgo_api_haystack import DuckduckgoApiWebSearch"
   ]
  },
  {
   "cell_type": "markdown",
   "metadata": {},
   "source": [
    "### Mermaid Function"
   ]
  },
  {
   "cell_type": "code",
   "execution_count": 4,
   "metadata": {},
   "outputs": [],
   "source": [
    "import base64\n",
    "from IPython.display import display_svg\n",
    "from urllib.request import Request, urlopen\n",
    "\n",
    "def mm(graph):\n",
    "    graphbytes = graph.encode(\"ascii\")\n",
    "    base64_bytes = base64.b64encode(graphbytes)\n",
    "    base64_string = base64_bytes.decode(\"ascii\")\n",
    "    url=\"https://mermaid.ink/svg/\" + base64_string\n",
    "    req=Request(url, headers={'User-Agent': 'IPython/Notebook'})\n",
    "    display_svg(urlopen(req).read().decode(), raw=True)"
   ]
  },
  {
   "cell_type": "markdown",
   "metadata": {
    "cell_id": "b596c2f4403245468b8ba42da4799614",
    "deepnote_cell_type": "text-cell-h2",
    "formattedRanges": []
   },
   "source": [
    "# 3. Agent Setup"
   ]
  },
  {
   "cell_type": "markdown",
   "metadata": {},
   "source": [
    "Since, we are only testing the feasibility of the framework. We'll take two functional agent and an additional dummy agent, to create a heirarchial agent setup."
   ]
  },
  {
   "cell_type": "code",
   "execution_count": 5,
   "metadata": {},
   "outputs": [
    {
     "data": {
      "image/svg+xml": [
       "<svg id=\"mermaid-svg\" width=\"100%\" xmlns=\"http://www.w3.org/2000/svg\" class=\"flowchart\" style=\"max-width: 649.578125px;\" viewBox=\"0 0 649.578125 222\" role=\"graphics-document document\" aria-roledescription=\"flowchart-v2\" xmlns:xlink=\"http://www.w3.org/1999/xlink\"><style xmlns=\"http://www.w3.org/1999/xhtml\">@import url(\"https://cdnjs.cloudflare.com/ajax/libs/font-awesome/6.7.2/css/all.min.css\");</style><style>#mermaid-svg{font-family:\"trebuchet ms\",verdana,arial,sans-serif;font-size:16px;fill:#333;}#mermaid-svg .error-icon{fill:#552222;}#mermaid-svg .error-text{fill:#552222;stroke:#552222;}#mermaid-svg .edge-thickness-normal{stroke-width:1px;}#mermaid-svg .edge-thickness-thick{stroke-width:3.5px;}#mermaid-svg .edge-pattern-solid{stroke-dasharray:0;}#mermaid-svg .edge-thickness-invisible{stroke-width:0;fill:none;}#mermaid-svg .edge-pattern-dashed{stroke-dasharray:3;}#mermaid-svg .edge-pattern-dotted{stroke-dasharray:2;}#mermaid-svg .marker{fill:#333333;stroke:#333333;}#mermaid-svg .marker.cross{stroke:#333333;}#mermaid-svg svg{font-family:\"trebuchet ms\",verdana,arial,sans-serif;font-size:16px;}#mermaid-svg p{margin:0;}#mermaid-svg .label{font-family:\"trebuchet ms\",verdana,arial,sans-serif;color:#333;}#mermaid-svg .cluster-label text{fill:#333;}#mermaid-svg .cluster-label span{color:#333;}#mermaid-svg .cluster-label span p{background-color:transparent;}#mermaid-svg .label text,#mermaid-svg span{fill:#333;color:#333;}#mermaid-svg .node rect,#mermaid-svg .node circle,#mermaid-svg .node ellipse,#mermaid-svg .node polygon,#mermaid-svg .node path{fill:#ECECFF;stroke:#9370DB;stroke-width:1px;}#mermaid-svg .rough-node .label text,#mermaid-svg .node .label text,#mermaid-svg .image-shape .label,#mermaid-svg .icon-shape .label{text-anchor:middle;}#mermaid-svg .node .katex path{fill:#000;stroke:#000;stroke-width:1px;}#mermaid-svg .rough-node .label,#mermaid-svg .node .label,#mermaid-svg .image-shape .label,#mermaid-svg .icon-shape .label{text-align:center;}#mermaid-svg .node.clickable{cursor:pointer;}#mermaid-svg .root .anchor path{fill:#333333!important;stroke-width:0;stroke:#333333;}#mermaid-svg .arrowheadPath{fill:#333333;}#mermaid-svg .edgePath .path{stroke:#333333;stroke-width:2.0px;}#mermaid-svg .flowchart-link{stroke:#333333;fill:none;}#mermaid-svg .edgeLabel{background-color:rgba(232,232,232, 0.8);text-align:center;}#mermaid-svg .edgeLabel p{background-color:rgba(232,232,232, 0.8);}#mermaid-svg .edgeLabel rect{opacity:0.5;background-color:rgba(232,232,232, 0.8);fill:rgba(232,232,232, 0.8);}#mermaid-svg .labelBkg{background-color:rgba(232, 232, 232, 0.5);}#mermaid-svg .cluster rect{fill:#ffffde;stroke:#aaaa33;stroke-width:1px;}#mermaid-svg .cluster text{fill:#333;}#mermaid-svg .cluster span{color:#333;}#mermaid-svg div.mermaidTooltip{position:absolute;text-align:center;max-width:200px;padding:2px;font-family:\"trebuchet ms\",verdana,arial,sans-serif;font-size:12px;background:hsl(80, 100%, 96.2745098039%);border:1px solid #aaaa33;border-radius:2px;pointer-events:none;z-index:100;}#mermaid-svg .flowchartTitleText{text-anchor:middle;font-size:18px;fill:#333;}#mermaid-svg rect.text{fill:none;stroke-width:0;}#mermaid-svg .icon-shape,#mermaid-svg .image-shape{background-color:rgba(232,232,232, 0.8);text-align:center;}#mermaid-svg .icon-shape p,#mermaid-svg .image-shape p{background-color:rgba(232,232,232, 0.8);padding:2px;}#mermaid-svg .icon-shape rect,#mermaid-svg .image-shape rect{opacity:0.5;background-color:rgba(232,232,232, 0.8);fill:rgba(232,232,232, 0.8);}#mermaid-svg :root{--mermaid-font-family:\"trebuchet ms\",verdana,arial,sans-serif;}</style><g><marker id=\"mermaid-svg_flowchart-v2-pointEnd\" class=\"marker flowchart-v2\" viewBox=\"0 0 10 10\" refX=\"5\" refY=\"5\" markerUnits=\"userSpaceOnUse\" markerWidth=\"8\" markerHeight=\"8\" orient=\"auto\"><path d=\"M 0 0 L 10 5 L 0 10 z\" class=\"arrowMarkerPath\" style=\"stroke-width: 1; stroke-dasharray: 1, 0;\"/></marker><marker id=\"mermaid-svg_flowchart-v2-pointStart\" class=\"marker flowchart-v2\" viewBox=\"0 0 10 10\" refX=\"4.5\" refY=\"5\" markerUnits=\"userSpaceOnUse\" markerWidth=\"8\" markerHeight=\"8\" orient=\"auto\"><path d=\"M 0 5 L 10 10 L 10 0 z\" class=\"arrowMarkerPath\" style=\"stroke-width: 1; stroke-dasharray: 1, 0;\"/></marker><marker id=\"mermaid-svg_flowchart-v2-circleEnd\" class=\"marker flowchart-v2\" viewBox=\"0 0 10 10\" refX=\"11\" refY=\"5\" markerUnits=\"userSpaceOnUse\" markerWidth=\"11\" markerHeight=\"11\" orient=\"auto\"><circle cx=\"5\" cy=\"5\" r=\"5\" class=\"arrowMarkerPath\" style=\"stroke-width: 1; stroke-dasharray: 1, 0;\"/></marker><marker id=\"mermaid-svg_flowchart-v2-circleStart\" class=\"marker flowchart-v2\" viewBox=\"0 0 10 10\" refX=\"-1\" refY=\"5\" markerUnits=\"userSpaceOnUse\" markerWidth=\"11\" markerHeight=\"11\" orient=\"auto\"><circle cx=\"5\" cy=\"5\" r=\"5\" class=\"arrowMarkerPath\" style=\"stroke-width: 1; stroke-dasharray: 1, 0;\"/></marker><marker id=\"mermaid-svg_flowchart-v2-crossEnd\" class=\"marker cross flowchart-v2\" viewBox=\"0 0 11 11\" refX=\"12\" refY=\"5.2\" markerUnits=\"userSpaceOnUse\" markerWidth=\"11\" markerHeight=\"11\" orient=\"auto\"><path d=\"M 1,1 l 9,9 M 10,1 l -9,9\" class=\"arrowMarkerPath\" style=\"stroke-width: 2; stroke-dasharray: 1, 0;\"/></marker><marker id=\"mermaid-svg_flowchart-v2-crossStart\" class=\"marker cross flowchart-v2\" viewBox=\"0 0 11 11\" refX=\"-1\" refY=\"5.2\" markerUnits=\"userSpaceOnUse\" markerWidth=\"11\" markerHeight=\"11\" orient=\"auto\"><path d=\"M 1,1 l 9,9 M 10,1 l -9,9\" class=\"arrowMarkerPath\" style=\"stroke-width: 2; stroke-dasharray: 1, 0;\"/></marker><g class=\"root\"><g class=\"clusters\"/><g class=\"edgePaths\"><path d=\"M242.907,62L214.725,70.167C186.542,78.333,130.177,94.667,111.462,110.578C92.747,126.489,111.682,141.978,121.149,149.723L130.617,157.467\" id=\"L_A_B_0\" class=\" edge-thickness-normal edge-pattern-solid edge-thickness-normal edge-pattern-solid flowchart-link\" style=\"\" marker-end=\"url(#mermaid-svg_flowchart-v2-pointEnd)\"/><path d=\"M363.244,62L371.46,70.167C379.676,78.333,396.108,94.667,411.444,110.511C426.781,126.356,441.023,141.711,448.144,149.389L455.265,157.067\" id=\"L_A_C_1\" class=\" edge-thickness-normal edge-pattern-solid edge-thickness-normal edge-pattern-solid flowchart-link\" style=\"\" marker-end=\"url(#mermaid-svg_flowchart-v2-pointEnd)\"/><path d=\"M199.725,160L209.708,151.833C219.692,143.667,239.658,127.333,257.385,111.47C275.111,95.607,290.597,80.213,298.34,72.517L306.083,64.82\" id=\"L_B_A_2\" class=\" edge-thickness-normal edge-pattern-solid edge-thickness-normal edge-pattern-solid flowchart-link\" style=\"\" marker-end=\"url(#mermaid-svg_flowchart-v2-pointEnd)\"/><path d=\"M508.069,160L515.644,151.833C523.218,143.667,538.367,127.333,523.206,111.22C508.045,95.107,462.575,79.213,439.839,71.267L417.104,63.32\" id=\"L_C_A_3\" class=\" edge-thickness-normal edge-pattern-solid edge-thickness-normal edge-pattern-solid flowchart-link\" style=\"\" marker-end=\"url(#mermaid-svg_flowchart-v2-pointEnd)\"/></g><g class=\"edgeLabels\"><g class=\"edgeLabel\" transform=\"translate(73.8125, 111)\"><g class=\"label\" transform=\"translate(-65.8125, -12)\"><foreignObject width=\"131.625\" height=\"24\"><div xmlns=\"http://www.w3.org/1999/xhtml\" class=\"labelBkg\" style=\"display: table-cell; white-space: nowrap; line-height: 1.5; max-width: 200px; text-align: center;\"><span class=\"edgeLabel \"><p>Delegates tasks to</p></span></div></foreignObject></g></g><g class=\"edgeLabel\" transform=\"translate(412.5390625, 111)\"><g class=\"label\" transform=\"translate(-32.9140625, -12)\"><foreignObject width=\"65.828125\" height=\"24\"><div xmlns=\"http://www.w3.org/1999/xhtml\" class=\"labelBkg\" style=\"display: table-cell; white-space: nowrap; line-height: 1.5; max-width: 200px; text-align: center;\"><span class=\"edgeLabel \"><p>Manages</p></span></div></foreignObject></g></g><g class=\"edgeLabel\" transform=\"translate(259.625, 111)\"><g class=\"label\" transform=\"translate(-100, -24)\"><foreignObject width=\"200\" height=\"48\"><div xmlns=\"http://www.w3.org/1999/xhtml\" class=\"labelBkg\" style=\"display: table; white-space: break-spaces; line-height: 1.5; max-width: 200px; text-align: center; width: 200px;\"><span class=\"edgeLabel \"><p>Performs research and provides insights</p></span></div></foreignObject></g></g><g class=\"edgeLabel\" transform=\"translate(553.515625, 111)\"><g class=\"label\" transform=\"translate(-88.0625, -12)\"><foreignObject width=\"176.125\" height=\"24\"><div xmlns=\"http://www.w3.org/1999/xhtml\" class=\"labelBkg\" style=\"display: table-cell; white-space: nowrap; line-height: 1.5; max-width: 200px; text-align: center;\"><span class=\"edgeLabel \"><p>Idle or placeholder agent</p></span></div></foreignObject></g></g></g><g class=\"nodes\"><g class=\"node default  \" id=\"flowchart-A-0\" transform=\"translate(336.08203125, 35)\"><rect class=\"basic label-container\" style=\"\" x=\"-97.1484375\" y=\"-27\" width=\"194.296875\" height=\"54\"/><g class=\"label\" style=\"\" transform=\"translate(-67.1484375, -12)\"><rect/><foreignObject width=\"134.296875\" height=\"24\"><div xmlns=\"http://www.w3.org/1999/xhtml\" style=\"display: table-cell; white-space: nowrap; line-height: 1.5; max-width: 200px; text-align: center;\"><span class=\"nodeLabel \"><p>Orchestrator Agent</p></span></div></foreignObject></g></g><g class=\"node default  \" id=\"flowchart-B-1\" transform=\"translate(166.71875, 187)\"><rect class=\"basic label-container\" style=\"\" x=\"-86.9296875\" y=\"-27\" width=\"173.859375\" height=\"54\"/><g class=\"label\" style=\"\" transform=\"translate(-56.9296875, -12)\"><rect/><foreignObject width=\"113.859375\" height=\"24\"><div xmlns=\"http://www.w3.org/1999/xhtml\" style=\"display: table-cell; white-space: nowrap; line-height: 1.5; max-width: 200px; text-align: center;\"><span class=\"nodeLabel \"><p>Research Agent</p></span></div></foreignObject></g></g><g class=\"node default  \" id=\"flowchart-C-3\" transform=\"translate(483.02734375, 187)\"><rect class=\"basic label-container\" style=\"\" x=\"-80.2421875\" y=\"-27\" width=\"160.484375\" height=\"54\"/><g class=\"label\" style=\"\" transform=\"translate(-50.2421875, -12)\"><rect/><foreignObject width=\"100.484375\" height=\"24\"><div xmlns=\"http://www.w3.org/1999/xhtml\" style=\"display: table-cell; white-space: nowrap; line-height: 1.5; max-width: 200px; text-align: center;\"><span class=\"nodeLabel \"><p>Dummy Agent</p></span></div></foreignObject></g></g></g></g></g></svg>"
      ]
     },
     "metadata": {},
     "output_type": "display_data"
    }
   ],
   "source": [
    "mm(\"\"\"\n",
    "   graph TD\n",
    "    A[Orchestrator Agent] -->|Delegates tasks to| B[Research Agent]\n",
    "    A -->|Manages| C[Dummy Agent]\n",
    "    B -->|Performs research and provides insights| A\n",
    "    C -->|Idle or placeholder agent| A\n",
    "\"\"\")"
   ]
  },
  {
   "cell_type": "markdown",
   "metadata": {},
   "source": [
    "### Orchestrator Agent\n",
    "\n",
    "Coordinate workflow, Answer general questions, manage inter-agent communication, and finalize outputs."
   ]
  },
  {
   "cell_type": "markdown",
   "metadata": {
    "cell_id": "b9c5120c276a4e6596b165c684b30b2e",
    "deepnote_cell_type": "text-cell-p",
    "formattedRanges": [
     {
      "fromCodePoint": 0,
      "marks": {
       "bold": true
      },
      "toCodePoint": 16,
      "type": "marks"
     }
    ]
   },
   "source": [
    "### Research Agent\n",
    "Investigate the industry/company, trends, competitors, and market dynamics."
   ]
  },
  {
   "cell_type": "markdown",
   "metadata": {
    "cell_id": "eb652dcbbbbf47c696bc3617d3517ade",
    "deepnote_cell_type": "text-cell-p",
    "formattedRanges": [
     {
      "fromCodePoint": 0,
      "marks": {
       "bold": true
      },
      "toCodePoint": 18,
      "type": "marks"
     }
    ]
   },
   "source": [
    "### Dummy Agent\n",
    "Act as a placeholder, to help test the handsoff."
   ]
  },
  {
   "cell_type": "markdown",
   "metadata": {},
   "source": [
    "# 4. Implementation"
   ]
  },
  {
   "cell_type": "markdown",
   "metadata": {},
   "source": [
    "## Swarm Agent & Handoff Defination "
   ]
  },
  {
   "cell_type": "code",
   "execution_count": 6,
   "metadata": {},
   "outputs": [],
   "source": [
    "HANDOFF_TEMPLATE = \"Transferred to: {agent_name}. Adopt persona immediately.\"\n",
    "HANDOFF_PATTERN = r\"Transferred to: (.*?)(?:\\.|$)\"\n",
    "\n",
    "\n",
    "@dataclass\n",
    "class SwarmAgent:\n",
    "    name: str = \"SwarmAgent\"\n",
    "    llm: object = OpenAIChatGenerator(model=\"gpt-4o-mini\")\n",
    "    instructions: str = \"You are a helpful Agent\"\n",
    "    functions: list[Callable] = field(default_factory=list)\n",
    "\n",
    "    def __post_init__(self):\n",
    "        self._system_message = ChatMessage.from_system(self.instructions)\n",
    "        self.tools = [create_tool_from_function(fun) for fun in self.functions] if self.functions else None\n",
    "        self._tool_invoker = ToolInvoker(tools=self.tools, raise_on_failure=False) if self.tools else None\n",
    "\n",
    "    def run(self, messages: list[ChatMessage]) -> Tuple[str, list[ChatMessage]]:\n",
    "        # generate response\n",
    "        agent_message = self.llm.run(messages=[self._system_message] + messages, tools=self.tools)[\"replies\"][0]\n",
    "        new_messages = [agent_message]\n",
    "\n",
    "        if agent_message.text:\n",
    "            print(f\"\\n{self.name}: {agent_message.text}\")\n",
    "\n",
    "        if not agent_message.tool_calls:\n",
    "            return self.name, new_messages\n",
    "\n",
    "        # handle tool calls\n",
    "        for tc in agent_message.tool_calls:\n",
    "            # trick: Ollama do not produce IDs, but OpenAI and Anthropic require them.\n",
    "            if tc.id is None:\n",
    "                tc.id = str(random.randint(0, 1000000))\n",
    "        tool_results = self._tool_invoker.run(messages=[agent_message])[\"tool_messages\"]\n",
    "        new_messages.extend(tool_results)\n",
    "\n",
    "        # handoff\n",
    "        last_result = tool_results[-1].tool_call_result.result\n",
    "        match = re.search(HANDOFF_PATTERN, last_result)\n",
    "        new_agent_name = match.group(1) if match else self.name\n",
    "\n",
    "        return new_agent_name, new_messages"
   ]
  },
  {
   "cell_type": "markdown",
   "metadata": {
    "cell_id": "0b865cac4a8a4b1b9333b5642c1d2071",
    "deepnote_cell_type": "text-cell-h3",
    "formattedRanges": []
   },
   "source": [
    "## Handoff Rules"
   ]
  },
  {
   "cell_type": "code",
   "execution_count": 7,
   "metadata": {
    "cell_id": "eab388719a8349749e531056680b5d13",
    "deepnote_cell_type": "code",
    "execution_context_id": "16acbe02-8077-40f0-8815-ab181b205957",
    "execution_millis": 2,
    "execution_start": 1738179712801,
    "source_hash": "ff54d1d2"
   },
   "outputs": [],
   "source": [
    "def transfer_to_dummy():\n",
    "    \"\"\"Pass to this Agent if asked to explicitly.\"\"\"\n",
    "    return HANDOFF_TEMPLATE.format(agent_name=\"Dummy Agent\")\n",
    "\n",
    "def transfer_to_research_agent():\n",
    "    \"\"\"Pass to this Agent for anything that requires investigating the industry/company, trends, competitors, market dynamics related.\"\"\"\n",
    "    return HANDOFF_TEMPLATE.format(agent_name=\"Research Agent\")\n",
    "\n",
    "\n",
    "def transfer_back_to_orchestrator():\n",
    "    \"\"\"Pass to this Agent for any topic outside of your purview or list of tasks.\"\"\"\n",
    "    return HANDOFF_TEMPLATE.format(agent_name=\"Orchestrator Agent\")"
   ]
  },
  {
   "cell_type": "markdown",
   "metadata": {},
   "source": [
    "## Orchestrator Agent"
   ]
  },
  {
   "cell_type": "markdown",
   "metadata": {},
   "source": [
    "### Tools Defination"
   ]
  },
  {
   "cell_type": "code",
   "execution_count": 8,
   "metadata": {},
   "outputs": [],
   "source": [
    "def summary(summary: Annotated[str, \"A summary\"]):\n",
    "    \"\"\"Only call this if explicitly asked to.\"\"\"\n",
    "    print(\"\\n=== Summarised Report ===\")\n",
    "    print(f\"{summary}\")\n",
    "    print(\"=========================\\n\")\n",
    "    exit()\n",
    "    \n",
    "def self_terminate():\n",
    "    \"\"\"Only call this if explicitly asked to.\"\"\"\n",
    "    print(\"\\n=== Self Terminated ===\")\n",
    "    print(\"Agent has been terminated.\")\n",
    "    print(\"=========================\\n\")\n",
    "    exit()\n",
    "    \n",
    "def reflect():\n",
    "    \"\"\"Call this to reflect and check if given market research has been completed or not.\"\"\"\n",
    "    print(\"\\n=== Reflecting ===\")\n",
    "    print(\"Agent is reflecting on its actions.\")\n",
    "    print(\"=========================\\n\")\n",
    "    return HANDOFF_TEMPLATE.format(agent_name=\"Orchestrator Agent\")"
   ]
  },
  {
   "cell_type": "markdown",
   "metadata": {
    "cell_id": "b29e176d71934fff974172adc78034f8",
    "deepnote_cell_type": "text-cell-h3",
    "formattedRanges": []
   },
   "source": [
    "### Agent Definition"
   ]
  },
  {
   "cell_type": "code",
   "execution_count": null,
   "metadata": {
    "cell_id": "cd727b860c8b457a87af39b727f12b5b",
    "deepnote_cell_type": "code",
    "execution_context_id": "16acbe02-8077-40f0-8815-ab181b205957",
    "execution_millis": 1,
    "execution_start": 1738179761146,
    "source_hash": "4489ee0"
   },
   "outputs": [],
   "source": [
    "orch_agent = SwarmAgent(\n",
    "    name=\"Orchestrator Agent\",\n",
    "    instructions=(\n",
    "        \"\"\"Parse the user’s input to determine the target industry/company, research scope, and desired outputs. \n",
    "        Break the query into subtasks for Research Agent, Use Case Generator, and Resource Collector. \"\"\"\n",
    "        \"Trigger agents in sequence: Research Agent → Use Case Generator → Resource Collector. Ensure each agent’s output is validated before passing it to the next agent. \"\n",
    "        \"Reflect on your actions to check if problem is solved or not.\"\n",
    "        \"Pass only relevant data to downstream agents. \"\n",
    "        \"Monitor agent tasks for failures (e.g., API errors, incomplete data). Retry up to 3 times. If unresolved, escalate to the user with a summary of the issue.\"\n",
    "        \"Combine outputs from all agents into a final report. Structure it as: Market Overview → Use Cases → Data Resources.\"\n",
    "        \"Make tool calls only if necessary and make sure to provide the right arguments.\"\n",
    "    ),\n",
    "    functions=[transfer_to_research_agent, transfer_to_dummy, summary, self_terminate],\n",
    ")"
   ]
  },
  {
   "cell_type": "markdown",
   "metadata": {},
   "source": [
    "# Research Agent"
   ]
  },
  {
   "cell_type": "markdown",
   "metadata": {},
   "source": [
    "### Tools Defination"
   ]
  },
  {
   "cell_type": "code",
   "execution_count": null,
   "metadata": {},
   "outputs": [],
   "source": [
    "web_search = DuckduckgoApiWebSearch(top_k=10)\n",
    "link_content = LinkContentFetcher()\n",
    "html_converter = HTMLToDocument()\n",
    "\n",
    "api_key_secret = Secret.from_env_var(\"OPENAI_API_KEY\")\n",
    "\n",
    "template = \"\"\"\n",
    "Given the information below:\n",
    "{% for document in documents %}\n",
    "    {{ document.content }}\n",
    "{% endfor %}\n",
    "Answer question: {{ query }}.\n",
    "Answer:\n",
    "\"\"\"\n",
    "company_name = input(\"Enter the company name: \")\n",
    "query = f\"Analyze {company_name}'s current business, technical, and marketing strategies. Provide insights into their key technical domains, ongoing and upcoming projects, recently released products, and innovative approaches in marketing. Highlight how these strategies have contributed to their growth and how similar strategies could be adapted to scale a business in a similar field.\"\n",
    "\n",
    "prompt_builder = PromptBuilder(template=template)\n",
    "llm = OpenAIGenerator(model=\"gpt-4o-mini\", api_key=api_key_secret)\n",
    "\n",
    "pipe = Pipeline()\n",
    "pipe.add_component(\"search\", web_search)\n",
    "pipe.add_component(\"fetcher\", link_content)\n",
    "pipe.add_component(\"converter\", html_converter)\n",
    "pipe.add_component(\"prompt_builder\", prompt_builder)\n",
    "pipe.add_component(\"llm\", llm)\n",
    "\n",
    "pipe.connect(\"search.links\", \"fetcher.urls\")\n",
    "pipe.connect(\"fetcher.streams\", \"converter.sources\")\n",
    "pipe.connect(\"converter.documents\", \"prompt_builder.documents\")\n",
    "pipe.connect(\"prompt_builder.prompt\", \"llm.prompt\")\n",
    "\n",
    "output = pipe.run(data={\"search\":{\"query\":query}, \"prompt_builder\":{\"query\": query}})"
   ]
  },
  {
   "cell_type": "code",
   "execution_count": 11,
   "metadata": {},
   "outputs": [],
   "source": [
    "def search_tool(search_query: Annotated[str, \"Question that you want to be searched on the internet\"]):\n",
    "    \"\"\"Call this to search for information to be added in the research work.\"\"\"\n",
    "    prompt_template=\"\"\"\n",
    "    Given the information below:\n",
    "    {% for document in documents %}\n",
    "        {{ document.content }}\n",
    "    {% endfor %}\n",
    "    Answer question: {{ query }}.\n",
    "    Answer:\n",
    "    \"\"\"\n",
    "    \n",
    "    searchPipe = Pipeline()\n",
    "    searchPipe.add_component(\"search\", DuckduckgoApiWebSearch(top_k=10))\n",
    "    searchPipe.add_component(\"fetcher\", LinkContentFetcher())\n",
    "    searchPipe.add_component(\"converter\", HTMLToDocument())\n",
    "    searchPipe.add_component(\"prompt_builder\", PromptBuilder(template=prompt_template))\n",
    "    searchPipe.add_component(\"llm\", OpenAIGenerator(model=\"gpt-4o-mini\"))\n",
    "    \n",
    "    searchPipe.connect(\"search.links\", \"fetcher.urls\")\n",
    "    searchPipe.connect(\"fetcher.streams\", \"converter.sources\")\n",
    "    searchPipe.connect(\"converter.documents\", \"prompt_builder.documents\")\n",
    "    searchPipe.connect(\"prompt_builder.prompt\", \"llm.prompt\")\n",
    "    \n",
    "    response = searchPipe.run(data={\"search\":{\"query\":search_query}, \"prompt_builder\":{\"query\": search_query}})\n",
    "    \n",
    "    return response[\"llm\"][\"result\"][0] if response[\"llm\"][\"result\"] else \"No results found.\""
   ]
  },
  {
   "cell_type": "markdown",
   "metadata": {},
   "source": [
    "### Agent Defination"
   ]
  },
  {
   "cell_type": "code",
   "execution_count": null,
   "metadata": {},
   "outputs": [],
   "source": [
    "research_agent = SwarmAgent(\n",
    "    name = \"Research Agent\",\n",
    "    instructions = (\n",
    "        \"\"\"Conduct in-depth research on the target industry/company. \n",
    "        Gather data on market trends, competitors, and dynamics. \n",
    "        Validate all data before passing it to the next agent. \n",
    "        Ensure that the information is accurate and up-to-date.\n",
    "        Make tool calls only if necessary and make sure to provide the right arguments.\n",
    "        Make sure to choose the optimal search query.\n",
    "        If the research is complete, pass the results to the next agent.\n",
    "        If the research is incomplete, reflect on your actions and check if the problem is solved or not.\n",
    "        Next agent is: Orchestrator Agent.\"\"\"\n",
    "    ),\n",
    "    functions=[transfer_back_to_orchestrator, search_tool],\n",
    ")\n"
   ]
  },
  {
   "cell_type": "markdown",
   "metadata": {},
   "source": [
    "## Dummy Agent"
   ]
  },
  {
   "cell_type": "markdown",
   "metadata": {},
   "source": [
    "### Tool Defination"
   ]
  },
  {
   "cell_type": "code",
   "execution_count": 14,
   "metadata": {},
   "outputs": [],
   "source": [
    "# Note: The Dummy Agent is a placeholder and does not perform any specific tasks. It can be used for testing or as a fallback option."
   ]
  },
  {
   "cell_type": "markdown",
   "metadata": {},
   "source": [
    "### Agent Defination"
   ]
  },
  {
   "cell_type": "code",
   "execution_count": 15,
   "metadata": {},
   "outputs": [],
   "source": [
    "dummy_agent = SwarmAgent(\n",
    "    name = \"Dummy Agent\",\n",
    "    instructions = (\n",
    "        \"\"\"This agent is a placeholder and does not perform any specific tasks. \n",
    "        It is used to manage the flow of tasks between other agents. \n",
    "        If the agent is called, it will pass the task back to the orchestrator agent.\"\"\"\n",
    "    ),\n",
    "    functions=[transfer_back_to_orchestrator],\n",
    ") "
   ]
  },
  {
   "cell_type": "markdown",
   "metadata": {},
   "source": [
    "# Interconnecting the Agents"
   ]
  },
  {
   "cell_type": "code",
   "execution_count": 17,
   "metadata": {},
   "outputs": [
    {
     "name": "stdout",
     "output_type": "stream",
     "text": [
      "Type 'quit' to exit\n",
      "\n",
      "=== Reflecting ===\n",
      "Agent is reflecting on its actions.\n",
      "=========================\n",
      "\n",
      "\n",
      "=== Reflecting ===\n",
      "Agent is reflecting on its actions.\n",
      "=========================\n",
      "\n",
      "\n",
      "=== Summarised Report ===\n",
      "The attempts to gather market research information for Zomato have failed due to issues invoking the necessary tools. A summary or prevention plan is needed.\n",
      "=========================\n",
      "\n",
      "\n",
      "Orchestrator Agent: I attempted to gather the market research analysis for Zomato, including market trends, competitive landscape, and industry overview. Unfortunately, there were technical difficulties that prevented me from obtaining any data. \n",
      "\n",
      "As a resolution, please let me know how you'd like to proceed. Options include retrying again, focusing on specific aspects of Zomato, or you may provide more details to refine the request.\n",
      "\n",
      "=== Reflecting ===\n",
      "Agent is reflecting on its actions.\n",
      "=========================\n",
      "\n",
      "\n",
      "=== Reflecting ===\n",
      "Agent is reflecting on its actions.\n",
      "=========================\n",
      "\n",
      "\n",
      "=== Summarised Report ===\n",
      "Repeated attempts to initiate the market research for Zomato have continually failed due to technical issues with the search tool. Escalation needed for seeking an alternative approach.\n",
      "=========================\n",
      "\n",
      "\n",
      "Orchestrator Agent: I have made multiple attempts to gather market research on Zomato, yet all efforts to invoke the necessary tools have failed due to technical difficulties.\n",
      "\n",
      "At this point, I recommend considering an alternative approach. You could provide specific aspects you're interested in regarding Zomato, or if you prefer, I can offer a general overview based on known information before October 2023. Please let me know how you'd like to proceed.\n"
     ]
    },
    {
     "ename": "",
     "evalue": "",
     "output_type": "error",
     "traceback": [
      "\u001b[1;31mThe Kernel crashed while executing code in the current cell or a previous cell. \n",
      "\u001b[1;31mPlease review the code in the cell(s) to identify a possible cause of the failure. \n",
      "\u001b[1;31mClick <a href='https://aka.ms/vscodeJupyterKernelCrash'>here</a> for more info. \n",
      "\u001b[1;31mView Jupyter <a href='command:jupyter.viewOutput'>log</a> for further details."
     ]
    }
   ],
   "source": [
    "agents = {agent.name: agent for agent in [orch_agent, research_agent, dummy_agent]}\n",
    "\n",
    "print(\"Type 'quit' to exit\")\n",
    "\n",
    "messages = []\n",
    "current_agent_name = \"Orchestrator Agent\"\n",
    "\n",
    "while True:\n",
    "    agent = agents[current_agent_name]\n",
    "\n",
    "    if not messages or messages[-1].role == ChatRole.ASSISTANT:\n",
    "        user_input = input(\"User: \")\n",
    "        if user_input.lower() == \"quit\":\n",
    "            break\n",
    "        messages.append(ChatMessage.from_user(user_input))\n",
    "\n",
    "    current_agent_name, new_messages = agent.run(messages)\n",
    "    messages.extend(new_messages)"
   ]
  },
  {
   "cell_type": "code",
   "execution_count": null,
   "metadata": {},
   "outputs": [],
   "source": []
  }
 ],
 "metadata": {
  "deepnote_notebook_id": "27ea80a51e1b472aa25e1adb9ef8cbd5",
  "kernelspec": {
   "display_name": ".conda",
   "language": "python",
   "name": "python3"
  },
  "language_info": {
   "codemirror_mode": {
    "name": "ipython",
    "version": 3
   },
   "file_extension": ".py",
   "mimetype": "text/x-python",
   "name": "python",
   "nbconvert_exporter": "python",
   "pygments_lexer": "ipython3",
   "version": "3.12.9"
  }
 },
 "nbformat": 4,
 "nbformat_minor": 0
}
