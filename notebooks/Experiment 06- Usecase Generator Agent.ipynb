{
  "cells": [
    {
      "cell_type": "markdown",
      "metadata": {
        "id": "kJyBuHuPXgip"
      },
      "source": [
        "# EXPERIMENT 06: USE_CASE_GENERATOR AGENT"
      ]
    },
    {
      "cell_type": "markdown",
      "metadata": {
        "id": "ROypsDQdYY81"
      },
      "source": [
        "### **Objective:** Implement an intelligent agent that generates actionable use cases by interacting with the Research Agent using a swarm-based architecture."
      ]
    },
    {
      "cell_type": "markdown",
      "metadata": {
        "id": "csZdQprmYtNK"
      },
      "source": [
        "# **Agent Purpose**\n",
        "\n",
        "The Use Case Generator Agent is responsible for:\n",
        "\n",
        "1. Transforming research insights from the Research Agent into specific, actionable use cases\n",
        "\n",
        "2. Contextualizing outputs based on business strategy (growth, profitability, innovation)\n",
        "\n",
        "3. Interfacing with other agents (e.g., Business Analyst, Market Validator in future iterations)"
      ]
    },
    {
      "cell_type": "markdown",
      "metadata": {
        "id": "NaEWgpO7ZkmM"
      },
      "source": [
        "> **Swarm Architecture Communication Protocol**\n"
      ]
    },
    {
      "cell_type": "markdown",
      "metadata": {
        "id": "wlpMC4VlZICN"
      },
      "source": [
        "```mermaid\n",
        "graph TD\n",
        "  A[Research Agent] -->|Insights| B[Use Case Generator Agent]\n",
        "  B -->|Requests clarifications| A\n",
        "  B -->|Returns use cases| C[User / Storage / Other Agents]\n",
        "\n",
        "```"
      ]
    },
    {
      "cell_type": "markdown",
      "metadata": {
        "id": "vnMkNU1ybC57"
      },
      "source": [
        "# SET-UP"
      ]
    },
    {
      "cell_type": "code",
      "execution_count": null,
      "metadata": {
        "colab": {
          "base_uri": "https://localhost:8080/"
        },
        "collapsed": true,
        "id": "JSlEJPDYdL-3",
        "outputId": "101b6f80-252c-4601-e2d3-d822c7014b28"
      },
      "outputs": [
        {
          "name": "stdout",
          "output_type": "stream",
          "text": [
            "Collecting haystack-ai\n",
            "  Downloading haystack_ai-2.13.2-py3-none-any.whl.metadata (13 kB)\n",
            "Collecting haystack-experimental (from haystack-ai)\n",
            "  Downloading haystack_experimental-0.9.0-py3-none-any.whl.metadata (12 kB)\n",
            "Requirement already satisfied: jinja2 in /usr/local/lib/python3.11/dist-packages (from haystack-ai) (3.1.6)\n",
            "Requirement already satisfied: jsonschema in /usr/local/lib/python3.11/dist-packages (from haystack-ai) (4.23.0)\n",
            "Collecting lazy-imports (from haystack-ai)\n",
            "  Downloading lazy_imports-0.4.0-py3-none-any.whl.metadata (10 kB)\n",
            "Requirement already satisfied: more-itertools in /usr/local/lib/python3.11/dist-packages (from haystack-ai) (10.7.0)\n",
            "Requirement already satisfied: networkx in /usr/local/lib/python3.11/dist-packages (from haystack-ai) (3.4.2)\n",
            "Requirement already satisfied: numpy in /usr/local/lib/python3.11/dist-packages (from haystack-ai) (2.0.2)\n",
            "Requirement already satisfied: openai>=1.56.1 in /usr/local/lib/python3.11/dist-packages (from haystack-ai) (1.76.2)\n",
            "Collecting posthog!=3.12.0 (from haystack-ai)\n",
            "  Downloading posthog-4.0.1-py2.py3-none-any.whl.metadata (3.0 kB)\n",
            "Requirement already satisfied: pydantic in /usr/local/lib/python3.11/dist-packages (from haystack-ai) (2.11.4)\n",
            "Requirement already satisfied: python-dateutil in /usr/local/lib/python3.11/dist-packages (from haystack-ai) (2.9.0.post0)\n",
            "Requirement already satisfied: pyyaml in /usr/local/lib/python3.11/dist-packages (from haystack-ai) (6.0.2)\n",
            "Requirement already satisfied: requests in /usr/local/lib/python3.11/dist-packages (from haystack-ai) (2.32.3)\n",
            "Requirement already satisfied: tenacity!=8.4.0 in /usr/local/lib/python3.11/dist-packages (from haystack-ai) (9.1.2)\n",
            "Requirement already satisfied: tqdm in /usr/local/lib/python3.11/dist-packages (from haystack-ai) (4.67.1)\n",
            "Requirement already satisfied: typing-extensions>=4.7 in /usr/local/lib/python3.11/dist-packages (from haystack-ai) (4.13.2)\n",
            "Requirement already satisfied: anyio<5,>=3.5.0 in /usr/local/lib/python3.11/dist-packages (from openai>=1.56.1->haystack-ai) (4.9.0)\n",
            "Requirement already satisfied: distro<2,>=1.7.0 in /usr/local/lib/python3.11/dist-packages (from openai>=1.56.1->haystack-ai) (1.9.0)\n",
            "Requirement already satisfied: httpx<1,>=0.23.0 in /usr/local/lib/python3.11/dist-packages (from openai>=1.56.1->haystack-ai) (0.28.1)\n",
            "Requirement already satisfied: jiter<1,>=0.4.0 in /usr/local/lib/python3.11/dist-packages (from openai>=1.56.1->haystack-ai) (0.9.0)\n",
            "Requirement already satisfied: sniffio in /usr/local/lib/python3.11/dist-packages (from openai>=1.56.1->haystack-ai) (1.3.1)\n",
            "Requirement already satisfied: six>=1.5 in /usr/local/lib/python3.11/dist-packages (from posthog!=3.12.0->haystack-ai) (1.17.0)\n",
            "Collecting backoff>=1.10.0 (from posthog!=3.12.0->haystack-ai)\n",
            "  Downloading backoff-2.2.1-py3-none-any.whl.metadata (14 kB)\n",
            "Requirement already satisfied: annotated-types>=0.6.0 in /usr/local/lib/python3.11/dist-packages (from pydantic->haystack-ai) (0.7.0)\n",
            "Requirement already satisfied: pydantic-core==2.33.2 in /usr/local/lib/python3.11/dist-packages (from pydantic->haystack-ai) (2.33.2)\n",
            "Requirement already satisfied: typing-inspection>=0.4.0 in /usr/local/lib/python3.11/dist-packages (from pydantic->haystack-ai) (0.4.0)\n",
            "Requirement already satisfied: charset-normalizer<4,>=2 in /usr/local/lib/python3.11/dist-packages (from requests->haystack-ai) (3.4.1)\n",
            "Requirement already satisfied: idna<4,>=2.5 in /usr/local/lib/python3.11/dist-packages (from requests->haystack-ai) (3.10)\n",
            "Requirement already satisfied: urllib3<3,>=1.21.1 in /usr/local/lib/python3.11/dist-packages (from requests->haystack-ai) (2.4.0)\n",
            "Requirement already satisfied: certifi>=2017.4.17 in /usr/local/lib/python3.11/dist-packages (from requests->haystack-ai) (2025.4.26)\n",
            "Requirement already satisfied: MarkupSafe>=2.0 in /usr/local/lib/python3.11/dist-packages (from jinja2->haystack-ai) (3.0.2)\n",
            "Requirement already satisfied: attrs>=22.2.0 in /usr/local/lib/python3.11/dist-packages (from jsonschema->haystack-ai) (25.3.0)\n",
            "Requirement already satisfied: jsonschema-specifications>=2023.03.6 in /usr/local/lib/python3.11/dist-packages (from jsonschema->haystack-ai) (2025.4.1)\n",
            "Requirement already satisfied: referencing>=0.28.4 in /usr/local/lib/python3.11/dist-packages (from jsonschema->haystack-ai) (0.36.2)\n",
            "Requirement already satisfied: rpds-py>=0.7.1 in /usr/local/lib/python3.11/dist-packages (from jsonschema->haystack-ai) (0.24.0)\n",
            "Requirement already satisfied: httpcore==1.* in /usr/local/lib/python3.11/dist-packages (from httpx<1,>=0.23.0->openai>=1.56.1->haystack-ai) (1.0.9)\n",
            "Requirement already satisfied: h11>=0.16 in /usr/local/lib/python3.11/dist-packages (from httpcore==1.*->httpx<1,>=0.23.0->openai>=1.56.1->haystack-ai) (0.16.0)\n",
            "Downloading haystack_ai-2.13.2-py3-none-any.whl (494 kB)\n",
            "\u001b[2K   \u001b[90m━━━━━━━━━━━━━━━━━━━━━━━━━━━━━━━━━━━━━━━━\u001b[0m \u001b[32m494.0/494.0 kB\u001b[0m \u001b[31m11.1 MB/s\u001b[0m eta \u001b[36m0:00:00\u001b[0m\n",
            "\u001b[?25hDownloading posthog-4.0.1-py2.py3-none-any.whl (92 kB)\n",
            "\u001b[2K   \u001b[90m━━━━━━━━━━━━━━━━━━━━━━━━━━━━━━━━━━━━━━━━\u001b[0m \u001b[32m92.0/92.0 kB\u001b[0m \u001b[31m5.5 MB/s\u001b[0m eta \u001b[36m0:00:00\u001b[0m\n",
            "\u001b[?25hDownloading haystack_experimental-0.9.0-py3-none-any.whl (59 kB)\n",
            "\u001b[2K   \u001b[90m━━━━━━━━━━━━━━━━━━━━━━━━━━━━━━━━━━━━━━━━\u001b[0m \u001b[32m60.0/60.0 kB\u001b[0m \u001b[31m3.7 MB/s\u001b[0m eta \u001b[36m0:00:00\u001b[0m\n",
            "\u001b[?25hDownloading lazy_imports-0.4.0-py3-none-any.whl (12 kB)\n",
            "Downloading backoff-2.2.1-py3-none-any.whl (15 kB)\n",
            "Installing collected packages: lazy-imports, backoff, posthog, haystack-experimental, haystack-ai\n",
            "Successfully installed backoff-2.2.1 haystack-ai-2.13.2 haystack-experimental-0.9.0 lazy-imports-0.4.0 posthog-4.0.1\n"
          ]
        }
      ],
      "source": [
        "pip install haystack-ai"
      ]
    },
    {
      "cell_type": "markdown",
      "metadata": {
        "id": "xsc6_97ubK3V"
      },
      "source": [
        "# CODING"
      ]
    },
    {
      "cell_type": "code",
      "execution_count": null,
      "metadata": {
        "id": "M0LqqlGldhG7"
      },
      "outputs": [],
      "source": [
        "from haystack import component\n",
        "from haystack.components.generators import OpenAIGenerator\n",
        "from haystack.components.embedders import SentenceTransformersTextEmbedder\n",
        "from typing import Dict\n",
        "\n",
        "@component\n",
        "class LLMUseCaseGeneratorComponent:\n",
        "    def __init__(self, llm: OpenAIGenerator):\n",
        "        self.llm = llm\n",
        "\n",
        "    def run(self, research_output: Dict[str, str]) -> Dict[str, str]:\n",
        "\n",
        "        input_context = \"\\n\".join([f\"{k}:\\n{v}\" for k, v in research_output.items()])\n",
        "\n",
        "\n",
        "        prompt = f\"\"\"\n",
        "You are a business strategist AI. Based on the company analysis below, generate a personalized, strategic plan for growth, profitability, and innovation.\n",
        "\n",
        "Company Analysis:\n",
        "{input_context}\n",
        "\n",
        "Your output must include:\n",
        "1. Five new markets this business could realistically enter with reasoning and stats of growth trajectory.\n",
        "2. 10-15 implementable Profitability/investment/marketing strategies with figures and estimates leveraging current market trends, future tech tailored to its current cost/revenue structure.\n",
        "3. Emerging technologies the business should explore based on their current stack.\n",
        "4. A quarterly roadmap with specific initiatives- detailed breakdown.\n",
        "5. Project the potential revenue growth percentage over the next 12 months with the adoption of these strategies and technology.\n",
        "6. Provide risks, KPIs to monitor, and strategic rationale.\n",
        "\n",
        "The tone should be suitable for a strategic boardroom review—impact-driven, data-informed, and forward-looking. Respond in a structured markup format.\n",
        "\"\"\"\n",
        "\n",
        "        response = self.llm.run(prompt=prompt)\n",
        "        return {\"use_case_strategy\": response[\"replies\"][0]}\n"
      ]
    },
    {
      "cell_type": "markdown",
      "metadata": {
        "id": "Fy04zL7XbNct"
      },
      "source": [
        "# RESULTS:"
      ]
    },
    {
      "cell_type": "code",
      "execution_count": null,
      "metadata": {
        "colab": {
          "base_uri": "https://localhost:8080/"
        },
        "id": "r3HTbcGgfE14",
        "outputId": "8d35c830-234f-4cb4-cda7-c68886e647b9"
      },
      "outputs": [
        {
          "name": "stdout",
          "output_type": "stream",
          "text": [
            "# Strategic Plan for Growth, Profitability, and Innovation\n",
            "\n",
            "## 1. New Market Expansion\n",
            "\n",
            "### Markets:\n",
            "1. **United Kingdom**\n",
            "   - **Reasoning:** The UK has a growing quick-commerce market with a tech-savvy population and high demand for convenience.\n",
            "   - **Growth Trajectory:** The UK quick-commerce market is projected to grow at a CAGR of 15% over the next five years.\n",
            "\n",
            "2. **Germany**\n",
            "   - **Reasoning:** Germany has a strong e-commerce market and a high population density, making it ideal for quick-commerce expansion.\n",
            "   - **Growth Trajectory:** The German quick-commerce market is expected to grow by 20% in the next year.\n",
            "\n",
            "3. **Japan**\n",
            "   - **Reasoning:** Japan has a culture of convenience and technology adoption, making it a promising market for Zepto's quick-commerce model.\n",
            "   - **Growth Trajectory:** The Japanese quick-commerce market is forecasted to grow by 25% in the next two years.\n",
            "\n",
            "4. **Australia**\n",
            "   - **Reasoning:** Australia has a tech-savvy population and a growing demand for fast delivery services, presenting an opportunity for Zepto.\n",
            "   - **Growth Trajectory:** The Australian quick-commerce market is estimated to grow by 30% in the next year.\n",
            "\n",
            "5. **Brazil**\n",
            "   - **Reasoning:** Brazil has a large population and a growing e-commerce sector, creating a potential market for Zepto's quick-commerce model.\n",
            "   - **Growth Trajectory:** The Brazilian quick-commerce market is anticipated to grow by 35% in the next year.\n",
            "\n",
            "## 2. Profitability/Investment/Marketing Strategies\n",
            "\n",
            "### Profitability Strategies:\n",
            "1. **Dynamic Pricing:** Implement AI-driven dynamic pricing to optimize margins based on demand and competition.\n",
            "2. **Subscription Model:** Introduce a subscription service for frequent users to drive recurring revenue.\n",
            "3. **Cross-Selling:** Utilize data analytics to suggest complementary products to increase average order value.\n",
            "\n",
            "### Investment Strategies:\n",
            "4. **Expansion of Dark Stores:** Invest in expanding the network of dark stores to improve coverage and reduce delivery times.\n",
            "5. **AI Development:** Allocate funds for further development of AI and machine learning algorithms to enhance operational efficiency.\n",
            "6. **Customer Loyalty Programs:** Invest in loyalty programs to increase customer retention and lifetime value.\n",
            "\n",
            "### Marketing Strategies:\n",
            "7. **Localized Marketing Campaigns:** Tailor marketing campaigns to specific regions to increase relevance and engagement.\n",
            "8. **Influencer Partnerships:** Collaborate with local influencers in new markets to increase brand awareness.\n",
            "9. **Interactive Social Media Content:** Create interactive content on social media platforms to engage with customers.\n",
            "\n",
            "## 3. Emerging Technologies\n",
            "\n",
            "### Technologies to Explore:\n",
            "1. **Autonomous Delivery Vehicles:** Explore the use of autonomous vehicles for last-mile delivery to reduce costs and improve efficiency.\n",
            "2. **Augmented Reality:** Implement AR technology in the app for enhanced product visualization and customer experience.\n",
            "3. **Blockchain for Supply Chain:** Explore blockchain technology to enhance transparency and traceability in the supply chain.\n",
            "\n",
            "## 4. Quarterly Roadmap\n",
            "\n",
            "### Q1:\n",
            "- Launch marketing campaigns in new markets.\n",
            "- Expand dark store network in high-demand areas.\n",
            "- Implement dynamic pricing strategy.\n",
            "\n",
            "### Q2:\n",
            "- Launch subscription model for frequent users.\n",
            "- Invest in AI development for inventory optimization.\n",
            "- Roll out loyalty programs for customer retention.\n",
            "\n",
            "### Q3:\n",
            "- Collaborate with influencers in new markets.\n",
            "- Implement AR technology in the app for product visualization.\n",
            "- Explore blockchain for supply chain transparency.\n",
            "\n",
            "### Q4:\n",
            "- Evaluate the success of new market expansion.\n",
            "- Analyze the impact of implemented strategies.\n",
            "- Plan for further expansion or optimization based on results.\n",
            "\n",
            "## 5. Revenue Growth Projection\n",
            "\n",
            "With the adoption of new market expansion, profitability strategies, investment initiatives, and emerging technologies, Zepto is projected to achieve a revenue growth of 40% over the next 12 months.\n",
            "\n",
            "## 6. Risks, KPIs, and Strategic Rationale\n",
            "\n",
            "### Risks:\n",
            "- **Market Saturation:** High competition in new markets may impact growth.\n",
            "- **Regulatory Challenges:** Compliance with regulations in different regions may pose challenges.\n",
            "- **Technology Implementation Risks:** Integration of new technologies may face technical difficulties.\n",
            "\n",
            "### KPIs to Monitor:\n",
            "- **Customer Acquisition Cost (CAC):** Monitor CAC in new markets to assess marketing effectiveness.\n",
            "- **Customer Lifetime Value (CLV):** Track CLV to measure the success of loyalty programs.\n",
            "- **Delivery Time:** Monitor delivery times to ensure the promise of 10-minute delivery is maintained.\n",
            "\n",
            "### Strategic Rationale:\n",
            "- **Diversification:** Expansion into new markets diversifies revenue streams and reduces dependency on existing markets.\n",
            "- **Innovation:** Adopting emerging technologies enhances operational efficiency and improves customer experience.\n",
            "- **Sustainable Growth:** Implementing profitability strategies ensures sustainable growth and long-term profitability.\n"
          ]
        }
      ],
      "source": [
        "from haystack import Pipeline\n",
        "from haystack.components.generators import OpenAIGenerator\n",
        "from haystack.utils.auth import Secret\n",
        "import os\n",
        "\n",
        "llm_generator = OpenAIGenerator(\n",
        "    api_key=Secret.from_env_var(\"OPENAI_API_KEY\"),\n",
        "    model=\"gpt-3.5-turbo\",\n",
        "     generation_kwargs={\n",
        "        \"temperature\": 0.5,\n",
        "        \"max_tokens\": 2000\n",
        "    }\n",
        ")\n",
        "# Step 2: Create our use case generator component\n",
        "usecase_gen_component = LLMUseCaseGeneratorComponent(llm=llm_generator)\n",
        "\n",
        "# Step 3: Create the Haystack pipeline\n",
        "pipeline = Pipeline()\n",
        "pipeline.add_component(\"usecase_generator\", usecase_gen_component)\n",
        "\n",
        "# Step 4: Run it with research_agent output\n",
        "research_agent_output = {\n",
        "    \"Business Strategy\": (\n",
        "        \"Quick Commerce Model: Zepto delivers groceries and essentials within 10 minutes, differentiating it from traditional e-commerce. \"\n",
        "        \"Dark Stores: They operate a network of dark stores (micro-fulfillment centers) in densely populated areas, optimized for speed. \"\n",
        "        \"These are not open to the public and stock commonly ordered items. \"\n",
        "        \"Hyperlocal Delivery: They use a hyperlocal delivery model, with an algorithm-based system for route planning and efficient delivery personnel utilization. \"\n",
        "        \"App-Based Ordering: A user-friendly app allows quick browsing, ordering, and real-time tracking.\"\n",
        "    ),\n",
        "    \"Technical Strategy\": (\n",
        "        \"AI and Machine Learning: Used for optimizing inventory, supply chains, and demand prediction within dark stores. \"\n",
        "        \"Data Analytics: Employed for efficient route planning, determining dark store locations, and understanding consumer behavior. \"\n",
        "        \"App Technology: A user-friendly app for easy ordering, product browsing, and real-time order tracking.\"\n",
        "    ),\n",
        "    \"Marketing Strategy\": (\n",
        "        \"10-Minute Delivery Emphasis: Zepto’s marketing focuses on speed and convenience. \"\n",
        "        \"Digital Marketing: Zepto uses social media, influencer marketing, and digital channels. \"\n",
        "        \"Meme Marketing: Zepto leverages social media trends for engagement. \"\n",
        "        \"Referral Programs: These incentivize both new and existing users. \"\n",
        "        \"Partnerships: Collaboration with influencers. \"\n",
        "        \"Advertising: Emphasis on the 10-minute delivery feature.\"\n",
        "    ),\n",
        "    \"Projects and Recent Releases\": (\n",
        "        \"Zepto Cafe is expanding its food and beverage offerings.\"\n",
        "    ),\n",
        "    \"Contribution to Growth\": (\n",
        "        \"Speed: The 10-minute delivery promise has attracted customers and set them apart from competitors. \"\n",
        "        \"Technology: AI and data analytics have improved operational efficiency. \"\n",
        "        \"Customer Experience: The app's ease of use and real-time tracking enhance customer satisfaction.\"\n",
        "    ),\n",
        "    \"Innovative Approaches\": (\n",
        "        \"Speed and Convenience: The core of Zepto’s value proposition. \"\n",
        "        \"Dark Store Model: Enables fast order fulfillment. \"\n",
        "        \"Technology Integration: Optimizes various aspects of the business.\"\n",
        "    ),\n",
        "    \"Challenges\": (\n",
        "        \"High Competition: The quick-commerce market has fierce competition. \"\n",
        "        \"Logistics Costs: Maintaining delivery personnel and dark store operations. \"\n",
        "        \"Customer Retention: Retaining customers in a competitive market. \"\n",
        "        \"Regulatory Scrutiny: The quick-commerce industry is under scrutiny regarding delivery personnel.\"\n",
        "    )\n",
        "}\n",
        "\n",
        "\n",
        "results = pipeline.run(data={\"usecase_generator\": {\"research_output\": research_agent_output}})\n",
        "print(results[\"usecase_generator\"][\"use_case_strategy\"])\n"
      ]
    },
    {
      "cell_type": "markdown",
      "metadata": {
        "id": "PCHxOLOzbRhH"
      },
      "source": [
        "# DELIVERABLES:\n",
        "\n",
        "1. New Markets Identified (Automated by Agent)\n",
        "\n",
        "2. Use Cases Generated by Agent\n",
        "\n",
        "3. Profitability, Investment & Marketing Strategies\n",
        "\n",
        "4. Emerging Technologies to Explore\n",
        "\n",
        "5. Quarterly Roadmap\n",
        "\n",
        "6. Projected Revenue Growth (12-Month Outlook)\n",
        "\n",
        "7. Risks, KPIs & Strategic Rationale"
      ]
    },
    {
      "cell_type": "code",
      "execution_count": null,
      "metadata": {
        "id": "M83ijg74fuYt"
      },
      "outputs": [],
      "source": []
    }
  ],
  "metadata": {
    "colab": {
      "provenance": []
    },
    "kernelspec": {
      "display_name": "Python 3",
      "name": "python3"
    },
    "language_info": {
      "name": "python"
    }
  },
  "nbformat": 4,
  "nbformat_minor": 0
}
