{
  "nbformat": 4,
  "nbformat_minor": 0,
  "metadata": {
    "colab": {
      "provenance": []
    },
    "kernelspec": {
      "name": "python3",
      "display_name": "Python 3"
    },
    "language_info": {
      "name": "python"
    }
  },
  "cells": [
    {
      "cell_type": "markdown",
      "source": [
        "# **EXPERIMENT 3:** Testing of LLM Inferences to understand which offers optimal results for Agent 1."
      ],
      "metadata": {
        "id": "6VZjP0bQzQDN"
      }
    },
    {
      "cell_type": "markdown",
      "source": [
        "# 1. Introduction\n",
        "\n",
        "\n",
        "*   This experiment is designed to test different free-tier and limited-tier LLMs to evaluate their ability to provide *precise* and *descriptive* answers based on content retrieved by the Fetcher Agent in Haystack.\n",
        "\n",
        "\n"
      ],
      "metadata": {
        "id": "7KiyadvLz3zw"
      }
    },
    {
      "cell_type": "markdown",
      "source": [
        "# Tasks\n",
        "\n",
        "*   Setting Up the *Fetcher Agent* in Haystack- Based upon previous findings, `DuckDuckGo` seemed to be the most `preferrable search_api` for our objective.\n",
        "\n",
        "*   Selecting Free & Limited-Tier LLMs- Considered the `gpt-4o-mini` (limited version) and `gemini-1.5 pro`(free tier version) to compare the handoff between results and costing.\n",
        "\n",
        "*   Analyzing and Comparing Results- Evaluated LLM outputs based on:\n",
        "    1. **Conciseness** – Is the answer direct and to the point?\n",
        "    2. **Descriptiveness** – Does it include relevant details?\n",
        "    3. **Accuracy** – Does it align with the fetched content?\n",
        "    4. **Relevance** – Does it address the query properly?\n",
        "\n",
        "\n",
        "\n",
        "\n",
        "\n"
      ],
      "metadata": {
        "id": "il_iPbId1L0C"
      }
    },
    {
      "cell_type": "markdown",
      "source": [
        "# 2. Setup Phase"
      ],
      "metadata": {
        "id": "K6rNcDUp1A4Z"
      }
    },
    {
      "cell_type": "code",
      "source": [
        "pip install haystack-ai\n"
      ],
      "metadata": {
        "collapsed": true,
        "colab": {
          "base_uri": "https://localhost:8080/"
        },
        "id": "3y9rzIRPJsh0",
        "outputId": "f301bf58-4e15-46e0-8d1d-bf5c39c780c6"
      },
      "execution_count": null,
      "outputs": [
        {
          "output_type": "stream",
          "name": "stdout",
          "text": [
            "Requirement already satisfied: haystack-ai in /usr/local/lib/python3.11/dist-packages (2.11.2)\n",
            "Requirement already satisfied: haystack-experimental in /usr/local/lib/python3.11/dist-packages (from haystack-ai) (0.8.0)\n",
            "Requirement already satisfied: jinja2 in /usr/local/lib/python3.11/dist-packages (from haystack-ai) (3.1.6)\n",
            "Requirement already satisfied: jsonschema in /usr/local/lib/python3.11/dist-packages (from haystack-ai) (4.23.0)\n",
            "Requirement already satisfied: lazy-imports in /usr/local/lib/python3.11/dist-packages (from haystack-ai) (0.4.0)\n",
            "Requirement already satisfied: more-itertools in /usr/local/lib/python3.11/dist-packages (from haystack-ai) (10.6.0)\n",
            "Requirement already satisfied: networkx in /usr/local/lib/python3.11/dist-packages (from haystack-ai) (3.4.2)\n",
            "Requirement already satisfied: numpy in /usr/local/lib/python3.11/dist-packages (from haystack-ai) (2.0.2)\n",
            "Requirement already satisfied: openai>=1.56.1 in /usr/local/lib/python3.11/dist-packages (from haystack-ai) (1.68.2)\n",
            "Requirement already satisfied: posthog!=3.12.0 in /usr/local/lib/python3.11/dist-packages (from haystack-ai) (3.21.0)\n",
            "Requirement already satisfied: pydantic in /usr/local/lib/python3.11/dist-packages (from haystack-ai) (2.10.6)\n",
            "Requirement already satisfied: python-dateutil in /usr/local/lib/python3.11/dist-packages (from haystack-ai) (2.9.0.post0)\n",
            "Requirement already satisfied: pyyaml in /usr/local/lib/python3.11/dist-packages (from haystack-ai) (6.0.2)\n",
            "Requirement already satisfied: requests in /usr/local/lib/python3.11/dist-packages (from haystack-ai) (2.32.3)\n",
            "Requirement already satisfied: tenacity!=8.4.0 in /usr/local/lib/python3.11/dist-packages (from haystack-ai) (9.0.0)\n",
            "Requirement already satisfied: tqdm in /usr/local/lib/python3.11/dist-packages (from haystack-ai) (4.67.1)\n",
            "Requirement already satisfied: typing-extensions>=4.7 in /usr/local/lib/python3.11/dist-packages (from haystack-ai) (4.12.2)\n",
            "Requirement already satisfied: anyio<5,>=3.5.0 in /usr/local/lib/python3.11/dist-packages (from openai>=1.56.1->haystack-ai) (4.9.0)\n",
            "Requirement already satisfied: distro<2,>=1.7.0 in /usr/local/lib/python3.11/dist-packages (from openai>=1.56.1->haystack-ai) (1.9.0)\n",
            "Requirement already satisfied: httpx<1,>=0.23.0 in /usr/local/lib/python3.11/dist-packages (from openai>=1.56.1->haystack-ai) (0.28.1)\n",
            "Requirement already satisfied: jiter<1,>=0.4.0 in /usr/local/lib/python3.11/dist-packages (from openai>=1.56.1->haystack-ai) (0.9.0)\n",
            "Requirement already satisfied: sniffio in /usr/local/lib/python3.11/dist-packages (from openai>=1.56.1->haystack-ai) (1.3.1)\n",
            "Requirement already satisfied: six>=1.5 in /usr/local/lib/python3.11/dist-packages (from posthog!=3.12.0->haystack-ai) (1.17.0)\n",
            "Requirement already satisfied: monotonic>=1.5 in /usr/local/lib/python3.11/dist-packages (from posthog!=3.12.0->haystack-ai) (1.6)\n",
            "Requirement already satisfied: backoff>=1.10.0 in /usr/local/lib/python3.11/dist-packages (from posthog!=3.12.0->haystack-ai) (2.2.1)\n",
            "Requirement already satisfied: annotated-types>=0.6.0 in /usr/local/lib/python3.11/dist-packages (from pydantic->haystack-ai) (0.7.0)\n",
            "Requirement already satisfied: pydantic-core==2.27.2 in /usr/local/lib/python3.11/dist-packages (from pydantic->haystack-ai) (2.27.2)\n",
            "Requirement already satisfied: charset-normalizer<4,>=2 in /usr/local/lib/python3.11/dist-packages (from requests->haystack-ai) (3.4.1)\n",
            "Requirement already satisfied: idna<4,>=2.5 in /usr/local/lib/python3.11/dist-packages (from requests->haystack-ai) (3.10)\n",
            "Requirement already satisfied: urllib3<3,>=1.21.1 in /usr/local/lib/python3.11/dist-packages (from requests->haystack-ai) (2.3.0)\n",
            "Requirement already satisfied: certifi>=2017.4.17 in /usr/local/lib/python3.11/dist-packages (from requests->haystack-ai) (2025.1.31)\n",
            "Requirement already satisfied: MarkupSafe>=2.0 in /usr/local/lib/python3.11/dist-packages (from jinja2->haystack-ai) (3.0.2)\n",
            "Requirement already satisfied: attrs>=22.2.0 in /usr/local/lib/python3.11/dist-packages (from jsonschema->haystack-ai) (25.3.0)\n",
            "Requirement already satisfied: jsonschema-specifications>=2023.03.6 in /usr/local/lib/python3.11/dist-packages (from jsonschema->haystack-ai) (2024.10.1)\n",
            "Requirement already satisfied: referencing>=0.28.4 in /usr/local/lib/python3.11/dist-packages (from jsonschema->haystack-ai) (0.36.2)\n",
            "Requirement already satisfied: rpds-py>=0.7.1 in /usr/local/lib/python3.11/dist-packages (from jsonschema->haystack-ai) (0.23.1)\n",
            "Requirement already satisfied: httpcore==1.* in /usr/local/lib/python3.11/dist-packages (from httpx<1,>=0.23.0->openai>=1.56.1->haystack-ai) (1.0.7)\n",
            "Requirement already satisfied: h11<0.15,>=0.13 in /usr/local/lib/python3.11/dist-packages (from httpcore==1.*->httpx<1,>=0.23.0->openai>=1.56.1->haystack-ai) (0.14.0)\n"
          ]
        }
      ]
    },
    {
      "cell_type": "code",
      "source": [
        "pip install google-ai-haystack"
      ],
      "metadata": {
        "colab": {
          "base_uri": "https://localhost:8080/"
        },
        "collapsed": true,
        "id": "nzyo2hGZWe2n",
        "outputId": "7cedb473-c95a-4cce-c600-ab24562b122b"
      },
      "execution_count": null,
      "outputs": [
        {
          "output_type": "stream",
          "name": "stdout",
          "text": [
            "Collecting google-ai-haystack\n",
            "  Downloading google_ai_haystack-5.1.0-py3-none-any.whl.metadata (1.7 kB)\n",
            "Requirement already satisfied: google-generativeai>=0.3.1 in /usr/local/lib/python3.11/dist-packages (from google-ai-haystack) (0.8.4)\n",
            "Requirement already satisfied: haystack-ai>=2.9.0 in /usr/local/lib/python3.11/dist-packages (from google-ai-haystack) (2.11.2)\n",
            "Requirement already satisfied: google-ai-generativelanguage==0.6.15 in /usr/local/lib/python3.11/dist-packages (from google-generativeai>=0.3.1->google-ai-haystack) (0.6.15)\n",
            "Requirement already satisfied: google-api-core in /usr/local/lib/python3.11/dist-packages (from google-generativeai>=0.3.1->google-ai-haystack) (2.24.2)\n",
            "Requirement already satisfied: google-api-python-client in /usr/local/lib/python3.11/dist-packages (from google-generativeai>=0.3.1->google-ai-haystack) (2.164.0)\n",
            "Requirement already satisfied: google-auth>=2.15.0 in /usr/local/lib/python3.11/dist-packages (from google-generativeai>=0.3.1->google-ai-haystack) (2.38.0)\n",
            "Requirement already satisfied: protobuf in /usr/local/lib/python3.11/dist-packages (from google-generativeai>=0.3.1->google-ai-haystack) (5.29.4)\n",
            "Requirement already satisfied: pydantic in /usr/local/lib/python3.11/dist-packages (from google-generativeai>=0.3.1->google-ai-haystack) (2.10.6)\n",
            "Requirement already satisfied: tqdm in /usr/local/lib/python3.11/dist-packages (from google-generativeai>=0.3.1->google-ai-haystack) (4.67.1)\n",
            "Requirement already satisfied: typing-extensions in /usr/local/lib/python3.11/dist-packages (from google-generativeai>=0.3.1->google-ai-haystack) (4.12.2)\n",
            "Requirement already satisfied: proto-plus<2.0.0dev,>=1.22.3 in /usr/local/lib/python3.11/dist-packages (from google-ai-generativelanguage==0.6.15->google-generativeai>=0.3.1->google-ai-haystack) (1.26.1)\n",
            "Requirement already satisfied: haystack-experimental in /usr/local/lib/python3.11/dist-packages (from haystack-ai>=2.9.0->google-ai-haystack) (0.8.0)\n",
            "Requirement already satisfied: jinja2 in /usr/local/lib/python3.11/dist-packages (from haystack-ai>=2.9.0->google-ai-haystack) (3.1.6)\n",
            "Requirement already satisfied: jsonschema in /usr/local/lib/python3.11/dist-packages (from haystack-ai>=2.9.0->google-ai-haystack) (4.23.0)\n",
            "Requirement already satisfied: lazy-imports in /usr/local/lib/python3.11/dist-packages (from haystack-ai>=2.9.0->google-ai-haystack) (0.4.0)\n",
            "Requirement already satisfied: more-itertools in /usr/local/lib/python3.11/dist-packages (from haystack-ai>=2.9.0->google-ai-haystack) (10.6.0)\n",
            "Requirement already satisfied: networkx in /usr/local/lib/python3.11/dist-packages (from haystack-ai>=2.9.0->google-ai-haystack) (3.4.2)\n",
            "Requirement already satisfied: numpy in /usr/local/lib/python3.11/dist-packages (from haystack-ai>=2.9.0->google-ai-haystack) (2.0.2)\n",
            "Requirement already satisfied: openai>=1.56.1 in /usr/local/lib/python3.11/dist-packages (from haystack-ai>=2.9.0->google-ai-haystack) (1.68.2)\n",
            "Requirement already satisfied: posthog!=3.12.0 in /usr/local/lib/python3.11/dist-packages (from haystack-ai>=2.9.0->google-ai-haystack) (3.21.0)\n",
            "Requirement already satisfied: python-dateutil in /usr/local/lib/python3.11/dist-packages (from haystack-ai>=2.9.0->google-ai-haystack) (2.9.0.post0)\n",
            "Requirement already satisfied: pyyaml in /usr/local/lib/python3.11/dist-packages (from haystack-ai>=2.9.0->google-ai-haystack) (6.0.2)\n",
            "Requirement already satisfied: requests in /usr/local/lib/python3.11/dist-packages (from haystack-ai>=2.9.0->google-ai-haystack) (2.32.3)\n",
            "Requirement already satisfied: tenacity!=8.4.0 in /usr/local/lib/python3.11/dist-packages (from haystack-ai>=2.9.0->google-ai-haystack) (9.0.0)\n",
            "Requirement already satisfied: googleapis-common-protos<2.0.0,>=1.56.2 in /usr/local/lib/python3.11/dist-packages (from google-api-core->google-generativeai>=0.3.1->google-ai-haystack) (1.69.2)\n",
            "Requirement already satisfied: cachetools<6.0,>=2.0.0 in /usr/local/lib/python3.11/dist-packages (from google-auth>=2.15.0->google-generativeai>=0.3.1->google-ai-haystack) (5.5.2)\n",
            "Requirement already satisfied: pyasn1-modules>=0.2.1 in /usr/local/lib/python3.11/dist-packages (from google-auth>=2.15.0->google-generativeai>=0.3.1->google-ai-haystack) (0.4.1)\n",
            "Requirement already satisfied: rsa<5,>=3.1.4 in /usr/local/lib/python3.11/dist-packages (from google-auth>=2.15.0->google-generativeai>=0.3.1->google-ai-haystack) (4.9)\n",
            "Requirement already satisfied: anyio<5,>=3.5.0 in /usr/local/lib/python3.11/dist-packages (from openai>=1.56.1->haystack-ai>=2.9.0->google-ai-haystack) (4.9.0)\n",
            "Requirement already satisfied: distro<2,>=1.7.0 in /usr/local/lib/python3.11/dist-packages (from openai>=1.56.1->haystack-ai>=2.9.0->google-ai-haystack) (1.9.0)\n",
            "Requirement already satisfied: httpx<1,>=0.23.0 in /usr/local/lib/python3.11/dist-packages (from openai>=1.56.1->haystack-ai>=2.9.0->google-ai-haystack) (0.28.1)\n",
            "Requirement already satisfied: jiter<1,>=0.4.0 in /usr/local/lib/python3.11/dist-packages (from openai>=1.56.1->haystack-ai>=2.9.0->google-ai-haystack) (0.9.0)\n",
            "Requirement already satisfied: sniffio in /usr/local/lib/python3.11/dist-packages (from openai>=1.56.1->haystack-ai>=2.9.0->google-ai-haystack) (1.3.1)\n",
            "Requirement already satisfied: six>=1.5 in /usr/local/lib/python3.11/dist-packages (from posthog!=3.12.0->haystack-ai>=2.9.0->google-ai-haystack) (1.17.0)\n",
            "Requirement already satisfied: monotonic>=1.5 in /usr/local/lib/python3.11/dist-packages (from posthog!=3.12.0->haystack-ai>=2.9.0->google-ai-haystack) (1.6)\n",
            "Requirement already satisfied: backoff>=1.10.0 in /usr/local/lib/python3.11/dist-packages (from posthog!=3.12.0->haystack-ai>=2.9.0->google-ai-haystack) (2.2.1)\n",
            "Requirement already satisfied: annotated-types>=0.6.0 in /usr/local/lib/python3.11/dist-packages (from pydantic->google-generativeai>=0.3.1->google-ai-haystack) (0.7.0)\n",
            "Requirement already satisfied: pydantic-core==2.27.2 in /usr/local/lib/python3.11/dist-packages (from pydantic->google-generativeai>=0.3.1->google-ai-haystack) (2.27.2)\n",
            "Requirement already satisfied: charset-normalizer<4,>=2 in /usr/local/lib/python3.11/dist-packages (from requests->haystack-ai>=2.9.0->google-ai-haystack) (3.4.1)\n",
            "Requirement already satisfied: idna<4,>=2.5 in /usr/local/lib/python3.11/dist-packages (from requests->haystack-ai>=2.9.0->google-ai-haystack) (3.10)\n",
            "Requirement already satisfied: urllib3<3,>=1.21.1 in /usr/local/lib/python3.11/dist-packages (from requests->haystack-ai>=2.9.0->google-ai-haystack) (2.3.0)\n",
            "Requirement already satisfied: certifi>=2017.4.17 in /usr/local/lib/python3.11/dist-packages (from requests->haystack-ai>=2.9.0->google-ai-haystack) (2025.1.31)\n",
            "Requirement already satisfied: httplib2<1.dev0,>=0.19.0 in /usr/local/lib/python3.11/dist-packages (from google-api-python-client->google-generativeai>=0.3.1->google-ai-haystack) (0.22.0)\n",
            "Requirement already satisfied: google-auth-httplib2<1.0.0,>=0.2.0 in /usr/local/lib/python3.11/dist-packages (from google-api-python-client->google-generativeai>=0.3.1->google-ai-haystack) (0.2.0)\n",
            "Requirement already satisfied: uritemplate<5,>=3.0.1 in /usr/local/lib/python3.11/dist-packages (from google-api-python-client->google-generativeai>=0.3.1->google-ai-haystack) (4.1.1)\n",
            "Requirement already satisfied: MarkupSafe>=2.0 in /usr/local/lib/python3.11/dist-packages (from jinja2->haystack-ai>=2.9.0->google-ai-haystack) (3.0.2)\n",
            "Requirement already satisfied: attrs>=22.2.0 in /usr/local/lib/python3.11/dist-packages (from jsonschema->haystack-ai>=2.9.0->google-ai-haystack) (25.3.0)\n",
            "Requirement already satisfied: jsonschema-specifications>=2023.03.6 in /usr/local/lib/python3.11/dist-packages (from jsonschema->haystack-ai>=2.9.0->google-ai-haystack) (2024.10.1)\n",
            "Requirement already satisfied: referencing>=0.28.4 in /usr/local/lib/python3.11/dist-packages (from jsonschema->haystack-ai>=2.9.0->google-ai-haystack) (0.36.2)\n",
            "Requirement already satisfied: rpds-py>=0.7.1 in /usr/local/lib/python3.11/dist-packages (from jsonschema->haystack-ai>=2.9.0->google-ai-haystack) (0.23.1)\n",
            "Requirement already satisfied: grpcio<2.0dev,>=1.33.2 in /usr/local/lib/python3.11/dist-packages (from google-api-core[grpc]!=2.0.*,!=2.1.*,!=2.10.*,!=2.2.*,!=2.3.*,!=2.4.*,!=2.5.*,!=2.6.*,!=2.7.*,!=2.8.*,!=2.9.*,<3.0.0dev,>=1.34.1->google-ai-generativelanguage==0.6.15->google-generativeai>=0.3.1->google-ai-haystack) (1.71.0)\n",
            "Requirement already satisfied: grpcio-status<2.0.dev0,>=1.33.2 in /usr/local/lib/python3.11/dist-packages (from google-api-core[grpc]!=2.0.*,!=2.1.*,!=2.10.*,!=2.2.*,!=2.3.*,!=2.4.*,!=2.5.*,!=2.6.*,!=2.7.*,!=2.8.*,!=2.9.*,<3.0.0dev,>=1.34.1->google-ai-generativelanguage==0.6.15->google-generativeai>=0.3.1->google-ai-haystack) (1.71.0)\n",
            "Requirement already satisfied: pyparsing!=3.0.0,!=3.0.1,!=3.0.2,!=3.0.3,<4,>=2.4.2 in /usr/local/lib/python3.11/dist-packages (from httplib2<1.dev0,>=0.19.0->google-api-python-client->google-generativeai>=0.3.1->google-ai-haystack) (3.2.1)\n",
            "Requirement already satisfied: httpcore==1.* in /usr/local/lib/python3.11/dist-packages (from httpx<1,>=0.23.0->openai>=1.56.1->haystack-ai>=2.9.0->google-ai-haystack) (1.0.7)\n",
            "Requirement already satisfied: h11<0.15,>=0.13 in /usr/local/lib/python3.11/dist-packages (from httpcore==1.*->httpx<1,>=0.23.0->openai>=1.56.1->haystack-ai>=2.9.0->google-ai-haystack) (0.14.0)\n",
            "Requirement already satisfied: pyasn1<0.7.0,>=0.4.6 in /usr/local/lib/python3.11/dist-packages (from pyasn1-modules>=0.2.1->google-auth>=2.15.0->google-generativeai>=0.3.1->google-ai-haystack) (0.6.1)\n",
            "Downloading google_ai_haystack-5.1.0-py3-none-any.whl (13 kB)\n",
            "Installing collected packages: google-ai-haystack\n",
            "Successfully installed google-ai-haystack-5.1.0\n"
          ]
        }
      ]
    },
    {
      "cell_type": "markdown",
      "source": [
        "# Experimentation Phase"
      ],
      "metadata": {
        "id": "AiePUMZW5PBn"
      }
    },
    {
      "cell_type": "markdown",
      "source": [
        "1. Gemini-1.5-pro as the LLM"
      ],
      "metadata": {
        "id": "bUZPynbL6rQ_"
      }
    },
    {
      "cell_type": "code",
      "source": [
        "import os\n",
        "import google.generativeai as genai\n",
        "from haystack import Pipeline\n",
        "from haystack.components.builders.prompt_builder import PromptBuilder\n",
        "from haystack.components.fetchers import LinkContentFetcher\n",
        "from haystack.components.converters import HTMLToDocument\n",
        "from duckduckgo_api_haystack import DuckduckgoApiWebSearch\n",
        "\n",
        "# Load API Key securely\n",
        "gemini_api_key = os.getenv(\"GEMINI\")\n",
        "if not gemini_api_key:\n",
        "    raise ValueError(\"GEMINI_API_KEY is missing. Please set it as an environment variable.\")\n",
        "\n",
        "# Initialize Gemini API\n",
        "genai.configure(api_key=gemini_api_key)\n",
        "\n",
        "class GeminiGenerator:\n",
        "    def __init__(self, model=\"gemini-1.5-pro\"):\n",
        "        self.model = model\n",
        "\n",
        "    def generate(self, prompt):\n",
        "        model = genai.GenerativeModel(self.model)\n",
        "        response = model.generate_content(prompt)\n",
        "        return response.text if response.text else \"No response generated.\"\n",
        "\n",
        "# Initialize Components\n",
        "web_search = DuckduckgoApiWebSearch(top_k=10)\n",
        "link_content = LinkContentFetcher()\n",
        "html_converter = HTMLToDocument()\n",
        "prompt_builder = PromptBuilder(template=\"\"\"\n",
        "Given the information below:\n",
        "{% for document in documents %}\n",
        "    {{ document.content }}\n",
        "{% endfor %}\n",
        "Answer question: {{ query }}.\n",
        "Answer:\n",
        "\"\"\")\n",
        "gemini = GeminiGenerator(model=\"gemini-1.5-pro\")\n",
        "\n",
        "# Get user input\n",
        "company_name = input(\"Enter the company name: \")\n",
        "query = (\n",
        "    f\"Analyze {company_name}'s current business, technical, and marketing strategies. \"\n",
        "    f\"Provide insights into their key technical domains, ongoing and upcoming projects, \"\n",
        "    f\"recently released products, and innovative approaches in marketing. Highlight how these \"\n",
        "    f\"strategies have contributed to their growth and how similar strategies could be adapted to scale a business.\"\n",
        ")\n",
        "\n",
        "# Create Haystack pipeline\n",
        "pipe = Pipeline()\n",
        "pipe.add_component(\"search\", web_search)\n",
        "pipe.add_component(\"fetcher\", link_content)\n",
        "pipe.add_component(\"converter\", html_converter)\n",
        "pipe.add_component(\"prompt_builder\", prompt_builder)\n",
        "\n",
        "# Connect components\n",
        "pipe.connect(\"search.links\", \"fetcher.urls\")\n",
        "pipe.connect(\"fetcher.streams\", \"converter.sources\")\n",
        "pipe.connect(\"converter.documents\", \"prompt_builder.documents\")\n",
        "\n",
        "# Run the pipeline\n",
        "output = pipe.run(data={\"search\": {\"query\": query}, \"prompt_builder\": {\"query\": query}})\n",
        "\n",
        "# Fetch documents\n",
        "documents = output.get(\"converter\", {}).get(\"documents\", [])\n",
        "\n",
        "# Prepare prompt for Gemini\n",
        "doc_texts = \"\\n\".join([doc.content[:1000] for doc in documents])  # Limiting to 1000 chars per doc\n",
        "final_prompt = f\"{doc_texts}\\n\\n{query}\"\n",
        "\n",
        "# Get response from Gemini\n",
        "response = gemini.generate(final_prompt)\n",
        "\n",
        "# Print Results\n",
        "print(\"\\n\" + \"-\" * 80)\n",
        "print(\"Gemini AI Response:\")\n",
        "print(response)\n",
        "print(\"-\" * 80)\n",
        "\n",
        "for i, doc in enumerate(documents, start=1):\n",
        "    print(f\"Document {i}:\")\n",
        "    print(f\"Title: {doc.meta.get('title', 'N/A')}\")\n",
        "    print(f\"Content: {doc.content[:500]}...\")  # Print first 500 chars\n",
        "    print(f\"Link: {doc.meta.get('link', 'N/A')}\")\n",
        "    print(\"-\" * 80)\n",
        "\n"
      ],
      "metadata": {
        "colab": {
          "base_uri": "https://localhost:8080/",
          "height": 1000
        },
        "id": "FdgS1S_7HUau",
        "outputId": "05bad208-2c9b-440e-c4ef-a1183e0a5e1c"
      },
      "execution_count": null,
      "outputs": [
        {
          "name": "stdout",
          "output_type": "stream",
          "text": [
            "Enter the company name: ZEPTO\n"
          ]
        },
        {
          "output_type": "stream",
          "name": "stderr",
          "text": [
            "/usr/local/lib/python3.11/dist-packages/duckduckgo_api_haystack/duckduckgoapi.py:176: UserWarning: backend='api' is deprecated, using backend='auto'\n",
            "  results = self.ddgs.text(**payload)\n",
            "WARNING:haystack.components.converters.html:Failed to extract text from ByteStream(data=b'%PDF-1.7\\r\\n%\\xb5\\xb5\\xb5\\xb5\\r\\n1 0 obj\\r\\n<</Type/Catalog/Pages 2 0 R/Lang(en-IN) /StructTreeRoot 68 0 R/MarkInfo<</...', meta={'content_type': 'application/pdf', 'url': 'https://www.inspirajournals.com/uploads/Issues/1841235791.pdf'}, mime_type='application/pdf'). Skipping it. Error: 'utf-8' codec can't decode byte 0xb5 in position 11: invalid start byte\n"
          ]
        },
        {
          "output_type": "stream",
          "name": "stdout",
          "text": [
            "\n",
            "--------------------------------------------------------------------------------\n",
            "Gemini AI Response:\n",
            "## ZEPTO: A Deep Dive into Strategies and Growth\n",
            "\n",
            "Zepto, a quick-commerce grocery delivery startup, has rapidly risen to prominence in India by focusing on speed and convenience. Their success can be attributed to a combination of robust technical infrastructure, targeted marketing, and efficient operations.\n",
            "\n",
            "**1. Business Strategy:**\n",
            "\n",
            "* **Hyperlocal Focus:** Zepto targets densely populated urban areas, enabling them to optimize delivery networks and achieve promised delivery times. This micro-market approach allows for efficient resource allocation and minimizes logistical complexities.\n",
            "* **10-Minute Delivery Promise:** This core value proposition differentiates Zepto from competitors and caters to the growing demand for instant gratification.\n",
            "* **Data-Driven Approach:** Zepto heavily relies on data analytics to understand consumer behavior, optimize delivery routes, manage inventory, and personalize marketing campaigns.\n",
            "* **Private Label Expansion:** Zepto is strategically expanding its private label offerings to improve margins and control product quality, mirroring strategies employed by other e-commerce giants.\n",
            "\n",
            "**2. Technical Strategy:**\n",
            "\n",
            "* **Network of Dark Stores:** Zepto's network of strategically located \"dark stores\" (micro-fulfillment centers optimized for online orders) forms the backbone of its 10-minute delivery promise. These stores are located close to customer clusters, minimizing travel time.\n",
            "* **Real-Time Inventory Management:** Sophisticated inventory management systems ensure accurate stock levels and minimize order cancellations due to out-of-stock items.\n",
            "* **Route Optimization Algorithms:** Zepto utilizes advanced algorithms to map the most efficient delivery routes, considering factors like traffic, distance, and rider availability.\n",
            "* **Delivery Rider Management System:**  A robust rider management system facilitates efficient allocation of orders, real-time tracking, and performance monitoring.\n",
            "* **Key Technical Domains:**  Zepto's tech stack likely includes expertise in areas like:\n",
            "    * **Backend Engineering (Python, Java, Node.js):** For core application logic, APIs, and database management.\n",
            "    * **Mobile App Development (iOS, Android):** For user-facing applications.\n",
            "    * **Data Science & Analytics (Python, R):** For demand forecasting, route optimization, and personalized recommendations.\n",
            "    * **DevOps & Cloud Infrastructure (AWS, GCP):** For scalable and reliable infrastructure.\n",
            "\n",
            "\n",
            "**3. Marketing Strategy:**\n",
            "\n",
            "* **Performance Marketing:**  Zepto leverages digital channels like Google and social media platforms for targeted advertising, focusing on specific demographics and locations.\n",
            "* **Influencer Marketing:**  Collaborations with popular social media influencers create buzz and brand awareness among the target audience.\n",
            "* **Referral Programs:**  Incentivizing existing users to refer new customers through rewards programs drives organic growth.\n",
            "* **Focus on Speed and Convenience:** Marketing campaigns consistently highlight the 10-minute delivery promise, emphasizing the convenience factor.\n",
            "* **Innovative Approaches:** Zepto utilizes creative marketing tactics, such as partnering with local businesses for targeted promotions and leveraging moment marketing to capitalize on trending topics.\n",
            "\n",
            "\n",
            "**Ongoing & Upcoming Projects/Recently Released Products:**\n",
            "\n",
            "Information on specific ongoing/upcoming projects is generally not publicly available due to competitive reasons. However, based on industry trends and Zepto's current trajectory, we can anticipate potential focus areas such as:\n",
            "\n",
            "* **Expansion to new cities and product categories:** Zepto is likely exploring geographical expansion and diversifying its product offerings beyond groceries.\n",
            "* **Enhancements to the tech platform:** Continuous improvements in areas like AI-powered demand forecasting, personalized recommendations, and dynamic pricing can be expected.\n",
            "* **Strengthening private label offerings:**  Further development of their private label portfolio to increase profitability and brand loyalty.\n",
            "\n",
            "\n",
            "**Contribution to Growth & Adaptability:**\n",
            "\n",
            "Zepto's integrated approach to business, technology, and marketing has fueled its rapid growth. The focus on speed and convenience, coupled with a robust technical infrastructure and targeted marketing campaigns, has resonated with consumers.\n",
            "\n",
            "**Adapting Zepto's Strategies for Scaling Other Businesses:**\n",
            "\n",
            "* **Identify a Niche Market:** Focus on a specific customer segment with unmet needs, allowing for targeted marketing and efficient resource allocation.\n",
            "* **Develop a Strong Value Proposition:**  Offer a unique and compelling value proposition that differentiates your business from competitors.\n",
            "* **Invest in Technology:** Build a robust technical infrastructure that supports your core business operations and enables scalability.\n",
            "* **Leverage Data Analytics:** Utilize data to understand customer behavior, optimize processes, and personalize marketing efforts.\n",
            "* **Embrace Agile Marketing:**  Adopt a data-driven and flexible marketing approach, allowing for quick adaptation to changing market conditions.\n",
            "* **Build a Strong Brand Identity:**  Develop a consistent brand identity that resonates with your target audience and builds brand loyalty.\n",
            "\n",
            "\n",
            "While Zepto's model has proven successful in the quick-commerce space, adapting these strategies requires careful consideration of the specific industry, target market, and competitive landscape.  Blindly replicating their model without adapting it to a specific context might not yield the same results.  \n",
            "\n",
            "--------------------------------------------------------------------------------\n"
          ]
        }
      ]
    },
    {
      "cell_type": "markdown",
      "source": [
        "#  INFERENCES\n",
        "\n",
        "Conciseness- **7/10**\n",
        "\n",
        "    Pros:\n",
        "    1. The response is well-structured and to the point while covering multiple aspects.\n",
        "    2. Uses bullet points to keep information digestible.\n",
        "\n",
        "    Cons:\n",
        "\n",
        "    1. While comprehensive, it may be too detailed for a quick overview.\n",
        "\n",
        "Descriptiveness- **9/10**\n",
        "\n",
        "    Pros:\n",
        "    1. Provides in-depth insights into Zepto’s business, technical, and marketing strategies.\n",
        "\n",
        "    2. Mentions specific technologies like Python, Java, AWS, and GCP in the tech stack.\n",
        "\n",
        "    3. Highlights industry-standard practices such as influencer marketing and referral programs.\n",
        "\n",
        "    Cons:\n",
        "\n",
        "    1. Some claims, like \"Zepto is likely exploring new product categories,\" are assumptions rather than confirmed facts.\n",
        "\n",
        "Accuracy- **8/10**\n",
        "\n",
        "    Pros:\n",
        "    1. Captures Zepto’s well-known strategies (10-minute delivery, dark stores, hyperlocal focus).\n",
        "    2. Discusses commonly used logistics and e-commerce strategies in a relevant way.\n",
        "\n",
        "    Cons:\n",
        "\n",
        "    1. No direct references or sources are provided, making verification difficult.\n",
        "\n",
        "Relevance- **8/10**\n",
        "\n",
        "    Pros:\n",
        "    1. The response aligns with the general goal of analyzing Zepto’s operations.\n",
        "\n",
        "    Cons:\n",
        "\n",
        "    1. Some sections generalize business advice, which might not be relevant to evaluating Zepto specifically.\n",
        "\n",
        "Hallucination- **6/10**\n",
        "\n",
        "    Pros:\n",
        "    1. The response is mostly logical and informed, not purely fabricated.\n",
        "\n",
        "    Cons:\n",
        "\n",
        "    1. Some claims appear to be AI-generated inferences rather than sourced facts. Eg.- Tech stack\n",
        "\n",
        "\n",
        "\n"
      ],
      "metadata": {
        "id": "ON0plHtUS563"
      }
    },
    {
      "cell_type": "markdown",
      "source": [
        "# Final Verdict: 7.5/10 (Good but needs source validation)\n",
        "**Strengths:** Well-structured, insightful, and descriptive.\n",
        "\n",
        "**Weaknesses:** Contains speculative claims, lacks citations, and some generalization.\n",
        "\n",
        "**Hallucination Risk:** Moderate—many details seem inferred rather than verified.\n",
        "\n",
        "**To improve, the AI should:**\n",
        "\n",
        "✔ Provide sources or links where possible.\n",
        "\n",
        "✔ Clearly separate facts from speculations.\n",
        "\n",
        "✔ Avoid unnecessary generalizations."
      ],
      "metadata": {
        "id": "XKzIGaaqV3iC"
      }
    },
    {
      "cell_type": "markdown",
      "source": [],
      "metadata": {
        "id": "rqKCJ2-HWGZN"
      }
    },
    {
      "cell_type": "markdown",
      "source": [
        "2. chatgpt-4o-mini as the LLM"
      ],
      "metadata": {
        "id": "B_9vvB6jWL6F"
      }
    },
    {
      "cell_type": "code",
      "source": [
        "import os\n",
        "from haystack import Pipeline\n",
        "from haystack.utils import Secret\n",
        "from haystack.components.builders.prompt_builder import PromptBuilder\n",
        "from haystack.components.fetchers import LinkContentFetcher\n",
        "from haystack.components.converters import HTMLToDocument\n",
        "from haystack.components.generators import OpenAIGenerator\n",
        "from duckduckgo_api_haystack import DuckduckgoApiWebSearch\n",
        "\n",
        "# Initialize Components\n",
        "web_search = DuckduckgoApiWebSearch(top_k=10)\n",
        "link_content = LinkContentFetcher()\n",
        "html_converter = HTMLToDocument()\n",
        "\n",
        "# Load API Key securely\n",
        "api_key_secret = Secret.from_env_var(\"OPENAI_API_KEY\")\n",
        "\n",
        "template = \"\"\"\n",
        "Given the information below:\n",
        "{% for document in documents %}\n",
        "    {{ document.content }}\n",
        "{% endfor %}\n",
        "Answer question: {{ query }}.\n",
        "Answer:\n",
        "\"\"\"\n",
        "\n",
        "company_name = input(\"Enter the company name: \")\n",
        "query = f\"Analyze {company_name}'s current business, technical, and marketing strategies. Provide insights into their key technical domains, ongoing and upcoming projects, recently released products, and innovative approaches in marketing. Highlight how these strategies have contributed to their growth and how similar strategies could be adapted to scale a business in a similar field.\"\n",
        "\n",
        "prompt_builder = PromptBuilder(template=template)\n",
        "llm = OpenAIGenerator(model=\"gpt-4o-mini\", api_key=api_key_secret)\n",
        "\n",
        "# Create Pipeline\n",
        "pipe = Pipeline()\n",
        "pipe.add_component(\"search\", web_search)\n",
        "pipe.add_component(\"fetcher\", link_content)\n",
        "pipe.add_component(\"converter\", html_converter)\n",
        "pipe.add_component(\"prompt_builder\", prompt_builder)\n",
        "pipe.add_component(\"llm\", llm)\n",
        "\n",
        "# Connect components\n",
        "pipe.connect(\"search.links\", \"fetcher.urls\")\n",
        "pipe.connect(\"fetcher.streams\", \"converter.sources\")\n",
        "pipe.connect(\"converter.documents\", \"prompt_builder.documents\")\n",
        "pipe.connect(\"prompt_builder.prompt\", \"llm.prompt\")\n",
        "\n",
        "# Run pipeline\n",
        "output = pipe.run(data={\"search\": {\"query\": query}, \"prompt_builder\": {\"query\": query}})\n",
        "print(output['llm']['replies'][0])\n"
      ],
      "metadata": {
        "colab": {
          "base_uri": "https://localhost:8080/"
        },
        "id": "lJFDrS_-b-Vm",
        "outputId": "094da12c-31ae-4087-a2b6-33f43ff1f2d7"
      },
      "execution_count": null,
      "outputs": [
        {
          "name": "stdout",
          "output_type": "stream",
          "text": [
            "Enter the company name: zepto\n"
          ]
        },
        {
          "output_type": "stream",
          "name": "stderr",
          "text": [
            "/usr/local/lib/python3.11/dist-packages/duckduckgo_api_haystack/duckduckgoapi.py:176: UserWarning: backend='api' is deprecated, using backend='auto'\n",
            "  results = self.ddgs.text(**payload)\n",
            "WARNING:haystack.components.fetchers.link_content:Error fetching https://www.studocu.com/in/document/bharathiar-university/computer-applications-mca/zepto-business-model-growth-strategy-growth-x-deep-dive/109003623: 403 Client Error: Forbidden for url: https://www.studocu.com/in/document/bharathiar-university/computer-applications-mca/zepto-business-model-growth-strategy-growth-x-deep-dive/109003623\n",
            "WARNING:haystack.components.converters.html:Failed to extract text from ByteStream(data=b'%PDF-1.7\\r\\n%\\xb5\\xb5\\xb5\\xb5\\r\\n1 0 obj\\r\\n<</Type/Catalog/Pages 2 0 R/Lang(en-IN) /StructTreeRoot 68 0 R/MarkInfo<</...', meta={'content_type': 'application/pdf', 'url': 'https://www.inspirajournals.com/uploads/Issues/1841235791.pdf'}, mime_type='application/pdf'). Skipping it. Error: 'utf-8' codec can't decode byte 0xb5 in position 11: invalid start byte\n"
          ]
        },
        {
          "output_type": "stream",
          "name": "stdout",
          "text": [
            "Analyzing Zepto’s current business, technical, and marketing strategies reveals a comprehensive approach that has propelled it to the forefront of the quick commerce industry in India. Here’s a detailed look into various aspects of their strategies and insights into their growth trajectory.\n",
            "\n",
            "### Business Strategies\n",
            "\n",
            "1. **Dark Store Model**: \n",
            "   - **Description**: Zepto operates dark stores—mini-warehouses not open to the public, strategically placed in urban areas to optimize delivery times. This allows Zepto to fulfill orders quickly, often within 10 minutes, by keeping inventory close to consumers.\n",
            "   - **Impact**: This model reduces delivery times dramatically and enhances customer satisfaction. It acts as an effective fulfillment center that is uniquely suited to the demands of on-demand grocery delivery.\n",
            "\n",
            "2. **Targeted Market**: \n",
            "   - **Description**: Zepto mainly focuses on urban dwellers, particularly young professionals, students, and families who value speed and convenience.\n",
            "   - **Impact**: By catering to a tech-savvy demographic in metropolitan areas, Zepto capitalizes on the increasing demand for quick delivery services, thus capturing a loyal customer base.\n",
            "\n",
            "3. **Partnerships**: \n",
            "   - **Description**: Collaborating with local vendors for inventory and delivery partners allows Zepto to expand its operational reach without heavy investment in physical retail spaces.\n",
            "   - **Impact**: This decentralized supply chain leverages existing resources and minimizes overhead costs while still ensuring product availability.\n",
            "\n",
            "### Technical Strategies\n",
            "\n",
            "1. **AI and Data Analytics**: \n",
            "   - **Description**: Zepto leverages AI for route optimization, inventory management, and real-time delivery tracking.\n",
            "   - **Impact**: This technological backbone allows for efficient operations, quick dispatch times, and improved decision-making capabilities in inventory control. Predictive analytics can also anticipate customer demand based on purchasing patterns.\n",
            "\n",
            "2. **Real-Time Tracking**: \n",
            "   - **Description**: The app features robust tracking capabilities, giving customers transparency about their orders and expected delivery times.\n",
            "   - **Impact**: Enhancing user experience through visibility strengthens customer trust and satisfaction.\n",
            "\n",
            "3. **App Development**: \n",
            "   - **Description**: Zepto’s focus on a user-friendly mobile application ensures that customers have a smooth experience while placing orders.\n",
            "   - **Impact**: A seamless interface helps minimize cart abandonment and increases order frequency.\n",
            "\n",
            "### Marketing Strategies\n",
            "\n",
            "1. **10-Minute Delivery Promise**: \n",
            "   - **Description**: The core marketing message revolves around the promise of ultra-fast delivery.\n",
            "   - **Impact**: This unique selling proposition distinguishes Zepto from competitors and becomes a key attraction for customers needing quick and convenient grocery solutions.\n",
            "\n",
            "2. **Social Media and Meme Marketing**: \n",
            "   - **Description**: Zepto engages in active social media campaigns, including meme marketing to resonate with a younger audience.\n",
            "   - **Impact**: This approach enhances brand visibility, relatability, and cultural relevance, leading to organic reach and engagement.\n",
            "\n",
            "3. **Influencer Collaborations**: \n",
            "   - **Description**: Partnering with influencers to promote products effectively reaches targeted demographics and builds credibility.\n",
            "   - **Impact**: Influencers create authentic content that resonates with their followers, increasing brand awareness and engagement.\n",
            "\n",
            "4. **Referral and Loyalty Programs**: \n",
            "   - **Description**: Zepto’s referral program incentivizes both referrers and new customers, creating a win-win scenario.\n",
            "   - **Impact**: This strategy drives user acquisition cost-effectively while enhancing retention as users are encouraged to remain engaged with the brand.\n",
            "\n",
            "### Key Projects, Products, and Innovations\n",
            "\n",
            "- **Ongoing Projects**:\n",
            "  - Expansion of dark store networks to ensure reduced delivery times in more locations.\n",
            "  - Partnerships with additional local vendors and brands to diversify product offerings beyond just groceries.\n",
            "\n",
            "- **Upcoming Initiatives**:\n",
            "  - Enhancements in app features, specifically tailored AI recommendations based on individual purchasing behavior.\n",
            "  - Looking into potential subscription models for users, providing unlimited free delivery for a monthly fee, promoting consistent usage.\n",
            "\n",
            "- **Innovative Approaches**:\n",
            "  - Utilizing gamification elements in the app to engage users, encouraging them to explore and discover new products.\n",
            "  - Experimenting with bundling strategies that suggest products commonly bought together to enhance average order value (AOV).\n",
            "\n",
            "### Contribution to Growth\n",
            "\n",
            "The combination of a unique business model, advanced technical strategies, and innovative marketing initiatives has contributed significantly to Zepto’s rapid growth and market penetration. The focus on technology and data allows Zepto to optimize logistics, maintain user satisfaction, and adapt quickly to changing consumer behaviors.\n",
            "\n",
            "### Adaptation of Strategies for Other Businesses\n",
            "\n",
            "1. **Leverage Technology**: Investing in a robust technology stack for operational efficiency can be crucial. Real-time analytics and AI can help streamline processes and improve the customer experience.\n",
            "\n",
            "2. **Targeted Marketing**: Identify and focus on specific demographics to create tailored marketing strategies that resonate with their needs and preferences.\n",
            "\n",
            "3. **Innovative Ad Campaigns**: Creating memorable and shareable content through social media and collaborations with influencers can extend brand reach and foster community engagement.\n",
            "\n",
            "4. **Dynamic Service Models**: Consider adopting similar models like dark stores or pop-up fulfillment centers to enhance delivery speed and localize inventory management.\n",
            "\n",
            "By using these strategies, businesses in the grocery delivery space (or similar fields) can gain valuable insights into scaling operations, enhancing customer experience, and optimizing marketing efforts effectively.\n"
          ]
        }
      ]
    },
    {
      "cell_type": "markdown",
      "source": [
        "#  INFERENCES\n",
        "\n",
        "Conciseness- **7.5/10**\n",
        "\n",
        "    Pros:\n",
        "    1. The response is detailed and well-structured\n",
        "\n",
        "    Cons:\n",
        "\n",
        "    1. Redundancy in descriptions and re-explaining impacts when already clear.\n",
        "\n",
        "Descriptiveness- **9/10**\n",
        "\n",
        "    Pros:\n",
        "    1. Provides enough detail on Zepto’s business, technical, and marketing strategies.\n",
        "\n",
        "    Suggestion:\n",
        "\n",
        "    1. While descriptiveness is strong, reducing verbosity in some areas would improve readability.\n",
        "\n",
        "Accuracy- **8.5/10**\n",
        "\n",
        "    Pros:\n",
        "    1. The information appears largely accurate, covering key aspects of Zepto’s strategy.\n",
        "\n",
        "    Cons:\n",
        "\n",
        "    1. Some statements about Zepto’s AI and technology use seem generalized and could be backed by more specific data or sources.\n",
        "\n",
        "Relevance- **8/10**\n",
        "\n",
        "    Pros:\n",
        "    1. No off-topic information is included.\n",
        "\n",
        "    Suggestion:\n",
        "\n",
        "    1. Prioritize key insights first for better impact.\n",
        "\n",
        "Hallucination- **7/10**\n",
        "\n",
        "    Pros:\n",
        "    1. No major hallucinations were found\n",
        "\n",
        "    Cons:\n",
        "\n",
        "    1. some claims about AI, predictive analytics, and gamification seem speculative without clear sources.\n",
        "\n",
        "\n",
        "\n"
      ],
      "metadata": {
        "id": "yWXTYZf0Xy-G"
      }
    },
    {
      "cell_type": "markdown",
      "source": [
        "# CONCLUSION:\n",
        "Both the models perform fairly and *do not major advantages over the other.*\n",
        "\n",
        "However, Gemini can be preferred over GPT in your case.\n",
        "\n",
        "**Reasons**:-\n",
        "\n",
        "1. Free & Accessible – No need for paid subscriptions like GPT-4.\n",
        "2. Google Search Integration – Can fact-check with real-time sources.\n",
        "3.  Multi-Modal Capabilities – Can analyze PDFs, images, and more if needed.\n",
        "4. More Control Over Responses – Can be guided with structured prompts.\n"
      ],
      "metadata": {
        "id": "ySRnIDH2a2_z"
      }
    },
    {
      "cell_type": "markdown",
      "source": [
        "# SUGGESTIONS FOR GEMINI-1.5 PRO\n",
        "1. **CONCISENESS-** Use Gemini’s API with a prompt like:\n",
        "> \"Keep the response under [X] words.\"\n",
        "\n",
        "2. **DESCRIPTIVENESS**–\n",
        "> \"Make this response more precise and impactful while maintaining clarity.\"\n",
        "\n",
        "3. **ACCURACY**– Since Gemini is backed by Google Search, we can prompt:\n",
        "> \"Verify this information using the latest available sources. If uncertain, mention the confidence level.\"\n",
        "\n",
        "4. **RELEVANCE** –\n",
        "> \"Ensure every point directly relates to Zepto’s strategy. Remove any unnecessary elaboration.\"\n",
        "\n",
        "5. **HALLUCINATION**–\n",
        "> \"Analyze this text and flag any speculative or unverified claims. Suggest corrections where needed.\"\n",
        "\n"
      ],
      "metadata": {
        "id": "BvCVOf9Bb5x8"
      }
    }
  ]
}